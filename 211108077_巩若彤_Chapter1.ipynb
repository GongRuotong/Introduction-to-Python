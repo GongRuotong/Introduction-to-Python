{
 "cells": [
  {
   "cell_type": "markdown",
   "id": "4ad75c3f-aee7-45d8-816b-bcfb433daa47",
   "metadata": {},
   "source": [
    "# 第 1 章 起步"
   ]
  },
  {
   "cell_type": "markdown",
   "id": "06feae77-d1fe-46a3-bba6-80957dcf2e39",
   "metadata": {},
   "source": [
    "### 1.1.2 运⾏ Python 代码⽚段"
   ]
  },
  {
   "cell_type": "code",
   "execution_count": 1,
   "id": "87be8d44-127f-4d12-aab9-fa3743fb5547",
   "metadata": {},
   "outputs": [
    {
     "name": "stdout",
     "output_type": "stream",
     "text": [
      "Hello Python world!\n"
     ]
    }
   ],
   "source": [
    "print(\"Hello Python world!\")"
   ]
  }
 ],
 "metadata": {
  "kernelspec": {
   "display_name": "Python 3 (ipykernel)",
   "language": "python",
   "name": "python3"
  },
  "language_info": {
   "codemirror_mode": {
    "name": "ipython",
    "version": 3
   },
   "file_extension": ".py",
   "mimetype": "text/x-python",
   "name": "python",
   "nbconvert_exporter": "python",
   "pygments_lexer": "ipython3",
   "version": "3.12.2"
  }
 },
 "nbformat": 4,
 "nbformat_minor": 5
}
