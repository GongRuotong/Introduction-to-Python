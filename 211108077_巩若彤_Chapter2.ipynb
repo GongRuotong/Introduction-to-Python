{
 "cells": [
  {
   "cell_type": "markdown",
   "id": "b6517bfd",
   "metadata": {},
   "source": [
    "# 第2章 变量与简单的数据类型"
   ]
  },
  {
   "cell_type": "markdown",
   "id": "cf89ee7f",
   "metadata": {},
   "source": [
    "## 2.1 运⾏ hello_world.py 时发⽣的情况"
   ]
  },
  {
   "cell_type": "code",
   "execution_count": 5,
   "id": "482ff86e",
   "metadata": {},
   "outputs": [
    {
     "name": "stdout",
     "output_type": "stream",
     "text": [
      "Hello Python world!\n"
     ]
    }
   ],
   "source": [
    "print(\"Hello Python world!\")"
   ]
  },
  {
   "cell_type": "markdown",
   "id": "8bf5cefd",
   "metadata": {},
   "source": [
    "## 2.2变量"
   ]
  },
  {
   "cell_type": "code",
   "execution_count": 1,
   "id": "1d3ed427",
   "metadata": {
    "scrolled": true
   },
   "outputs": [
    {
     "name": "stdout",
     "output_type": "stream",
     "text": [
      "Hello Python world\n"
     ]
    }
   ],
   "source": [
    "# 向大家问好\n",
    "print(\"Hello Python world\")"
   ]
  },
  {
   "cell_type": "code",
   "execution_count": 4,
   "id": "ccdf1135",
   "metadata": {},
   "outputs": [
    {
     "name": "stdout",
     "output_type": "stream",
     "text": [
      "Hello\n",
      "Pyhon\n",
      "World\n",
      "\n"
     ]
    }
   ],
   "source": [
    "print(\"\"\"Hello\n",
    "Pyhon\n",
    "World\n",
    "\"\"\")"
   ]
  },
  {
   "cell_type": "code",
   "execution_count": 1,
   "id": "9a605665",
   "metadata": {},
   "outputs": [
    {
     "name": "stdout",
     "output_type": "stream",
     "text": [
      "Hello Python Crash Course reader!\n"
     ]
    }
   ],
   "source": [
    "mesage = \"Hello Python Crash Course reader!\"\n",
    "print(mesage)"
   ]
  },
  {
   "cell_type": "markdown",
   "id": "dba2242c",
   "metadata": {},
   "source": [
    "## 2.3字符串"
   ]
  },
  {
   "cell_type": "code",
   "execution_count": null,
   "id": "6cc4ca29",
   "metadata": {},
   "outputs": [],
   "source": [
    "#字符串（string）就是⼀系列字符。在 Python 中，⽤引号引起的都是字符\n",
    "#串，其中的引号可以是单引号，也可以是双引号："
   ]
  },
  {
   "cell_type": "markdown",
   "id": "26d207df",
   "metadata": {},
   "source": [
    "### 2.3.1 使⽤⽅法修改字符串的⼤⼩写"
   ]
  },
  {
   "cell_type": "code",
   "execution_count": 8,
   "id": "08fdbd18",
   "metadata": {},
   "outputs": [
    {
     "name": "stdout",
     "output_type": "stream",
     "text": [
      "Ada Lovecase\n",
      "ADA LOVECASE\n",
      "ada lovecase\n"
     ]
    }
   ],
   "source": [
    "message = \"ada lovecase\"\n",
    "message = message.title()\n",
    "print(message)\n",
    "message = message.upper()\n",
    "print(message)\n",
    "message = message.lower()\n",
    "print(message)"
   ]
  },
  {
   "cell_type": "markdown",
   "id": "5e7786a6",
   "metadata": {},
   "source": [
    "### 2.3.2 在字符串中使⽤变量"
   ]
  },
  {
   "cell_type": "code",
   "execution_count": 11,
   "id": "5c028daa",
   "metadata": {},
   "outputs": [
    {
     "name": "stdout",
     "output_type": "stream",
     "text": [
      "ada lovecase\n"
     ]
    }
   ],
   "source": [
    "first_name = \"ada\"\n",
    "last_name = \"lovecase\"\n",
    "\n",
    "full_name = f\"{first_name} {last_name}\"\n",
    "print(full_name)"
   ]
  },
  {
   "cell_type": "code",
   "execution_count": 12,
   "id": "9c042614",
   "metadata": {},
   "outputs": [
    {
     "name": "stdout",
     "output_type": "stream",
     "text": [
      "Hello, Ada Lovelace!\n"
     ]
    }
   ],
   "source": [
    "first_name = \"ada\"\n",
    "last_name = \"lovelace\"\n",
    "full_name = f\"{first_name} {last_name}\"\n",
    "print(f\"Hello, {full_name.title()}!\")\n"
   ]
  },
  {
   "cell_type": "code",
   "execution_count": 6,
   "id": "71c7c03d",
   "metadata": {},
   "outputs": [
    {
     "name": "stdout",
     "output_type": "stream",
     "text": [
      "Hello, Ada Lovelace!\n"
     ]
    }
   ],
   "source": [
    "first_name = \"ada\"\n",
    "last_name = \"lovelace\"\n",
    "full_name = f\"{first_name} {last_name}\"\n",
    "message = f\"Hello, {full_name.title()}!\"\n",
    "print(message)"
   ]
  },
  {
   "cell_type": "markdown",
   "id": "6601d6d0",
   "metadata": {},
   "source": [
    "### 2.3.3 使⽤制表符或换⾏符来添加空白"
   ]
  },
  {
   "cell_type": "code",
   "execution_count": 11,
   "id": "7888ecc0",
   "metadata": {},
   "outputs": [
    {
     "name": "stdout",
     "output_type": "stream",
     "text": [
      "Python Rust\n",
      "\n",
      "Python\tRust\n",
      "\n",
      "Python\n",
      "Rust\n",
      "\n"
     ]
    }
   ],
   "source": [
    "print('Python Rust')\n",
    "print()\n",
    "print('Python\\tRust')\n",
    "print()\n",
    "print('Python\\nRust')\n",
    "print()"
   ]
  },
  {
   "cell_type": "code",
   "execution_count": 8,
   "id": "adbd7d55",
   "metadata": {},
   "outputs": [
    {
     "name": "stdout",
     "output_type": "stream",
     "text": [
      "Languages:\n",
      "\tPython\n",
      "\tC\n",
      "\tJavaScript\n"
     ]
    }
   ],
   "source": [
    "print(\"Languages:\\n\\tPython\\n\\tC\\n\\tJavaScript\")\n"
   ]
  },
  {
   "cell_type": "markdown",
   "id": "e7325dd0",
   "metadata": {},
   "source": [
    "### 2.3.4删除空白"
   ]
  },
  {
   "cell_type": "code",
   "execution_count": 2,
   "id": "41265cdb",
   "metadata": {},
   "outputs": [
    {
     "data": {
      "text/plain": [
       "'iTruing'"
      ]
     },
     "execution_count": 2,
     "metadata": {},
     "output_type": "execute_result"
    }
   ],
   "source": [
    "' iTruing'.lstrip()#删除左端的空白"
   ]
  },
  {
   "cell_type": "code",
   "execution_count": 3,
   "id": "48e722cb",
   "metadata": {},
   "outputs": [
    {
     "data": {
      "text/plain": [
       "'iTruing'"
      ]
     },
     "execution_count": 3,
     "metadata": {},
     "output_type": "execute_result"
    }
   ],
   "source": [
    "'iTruing '.rstrip()#右端无空白"
   ]
  },
  {
   "cell_type": "code",
   "execution_count": 5,
   "id": "66d9960d",
   "metadata": {},
   "outputs": [
    {
     "data": {
      "text/plain": [
       "'iTruing'"
      ]
     },
     "execution_count": 5,
     "metadata": {},
     "output_type": "execute_result"
    }
   ],
   "source": [
    "'     iTruing      '.strip()#删除字符串两端的空白"
   ]
  },
  {
   "cell_type": "code",
   "execution_count": 10,
   "id": "284d3be8",
   "metadata": {},
   "outputs": [
    {
     "data": {
      "text/plain": [
       "'iTruing '"
      ]
     },
     "execution_count": 10,
     "metadata": {},
     "output_type": "execute_result"
    }
   ],
   "source": [
    "'   i   Tr   ui   ng    '.replace(\"   \",\"\")"
   ]
  },
  {
   "cell_type": "markdown",
   "id": "2a853c14",
   "metadata": {},
   "source": [
    "### 2.3.5删除前缀"
   ]
  },
  {
   "cell_type": "code",
   "execution_count": 12,
   "id": "cc8e77cc",
   "metadata": {},
   "outputs": [
    {
     "name": "stdout",
     "output_type": "stream",
     "text": [
      "www.ituring.com.cn\n"
     ]
    }
   ],
   "source": [
    "url = 'https://www.ituring.com.cn'\n",
    "url = url.removeprefix('https://')\n",
    "print(url)"
   ]
  },
  {
   "cell_type": "code",
   "execution_count": 13,
   "id": "25c74298",
   "metadata": {},
   "outputs": [
    {
     "name": "stdout",
     "output_type": "stream",
     "text": [
      "Life's pathetic,Let's pythonic\n"
     ]
    }
   ],
   "source": [
    "message = \"Life's pathetic,Let's pythonic\"\n",
    "print(message)"
   ]
  },
  {
   "cell_type": "code",
   "execution_count": 15,
   "id": "60c936d3",
   "metadata": {},
   "outputs": [
    {
     "name": "stdout",
     "output_type": "stream",
     "text": [
      "Life's pathetic,Let's pythonic\n"
     ]
    }
   ],
   "source": [
    "message = \"Life\\'s pathetic,Let\\'s pythonic\"\n",
    "print(message)"
   ]
  },
  {
   "cell_type": "code",
   "execution_count": 16,
   "id": "b054bc6a",
   "metadata": {},
   "outputs": [
    {
     "name": "stdout",
     "output_type": "stream",
     "text": [
      "Life's pathetic,Let's pythonic\n"
     ]
    }
   ],
   "source": [
    "# 转义字符：\\\n",
    "message = 'Life\\'s pathetic,Let\\'s pythonic'\n",
    "print(message)"
   ]
  },
  {
   "cell_type": "markdown",
   "id": "aaa2eaa3",
   "metadata": {},
   "source": [
    "### 字符串拼接"
   ]
  },
  {
   "cell_type": "code",
   "execution_count": 17,
   "id": "7d23e99c",
   "metadata": {},
   "outputs": [
    {
     "data": {
      "text/plain": [
       "'HelloiTuring'"
      ]
     },
     "execution_count": 17,
     "metadata": {},
     "output_type": "execute_result"
    }
   ],
   "source": [
    "\"Hello\"+\"iTuring\""
   ]
  },
  {
   "cell_type": "code",
   "execution_count": 18,
   "id": "aa0eb5ee",
   "metadata": {},
   "outputs": [
    {
     "data": {
      "text/plain": [
       "'Hello iTuring'"
      ]
     },
     "execution_count": 18,
     "metadata": {},
     "output_type": "execute_result"
    }
   ],
   "source": [
    "\"Hello \"+\"iTuring\""
   ]
  },
  {
   "cell_type": "code",
   "execution_count": 20,
   "id": "b94af644",
   "metadata": {},
   "outputs": [
    {
     "data": {
      "text/plain": [
       "'Hello Hello '"
      ]
     },
     "execution_count": 20,
     "metadata": {},
     "output_type": "execute_result"
    }
   ],
   "source": [
    "\"Hello \"*2"
   ]
  },
  {
   "cell_type": "markdown",
   "id": "dcd83a95",
   "metadata": {},
   "source": [
    "## 2.4整数 浮点数"
   ]
  },
  {
   "cell_type": "code",
   "execution_count": 21,
   "id": "e0023a02",
   "metadata": {},
   "outputs": [
    {
     "name": "stdout",
     "output_type": "stream",
     "text": [
      "1\n",
      "1.5\n"
     ]
    }
   ],
   "source": [
    "print(1)\n",
    "print(1.5)"
   ]
  },
  {
   "cell_type": "code",
   "execution_count": 22,
   "id": "b0a0d939",
   "metadata": {},
   "outputs": [
    {
     "name": "stdout",
     "output_type": "stream",
     "text": [
      "1000000\n",
      "1000000\n",
      "1000000.5\n",
      "1000000.5\n"
     ]
    }
   ],
   "source": [
    "print(1000000)\n",
    "print(1_000_000)\n",
    "\n",
    "print(1000000.5)\n",
    "print(1_000_000.5)"
   ]
  },
  {
   "cell_type": "code",
   "execution_count": 20,
   "id": "fab5693b",
   "metadata": {},
   "outputs": [
    {
     "data": {
      "text/plain": [
       "0.2"
      ]
     },
     "execution_count": 20,
     "metadata": {},
     "output_type": "execute_result"
    }
   ],
   "source": [
    " 0.1 + 0.1"
   ]
  },
  {
   "cell_type": "code",
   "execution_count": 23,
   "id": "030ed796",
   "metadata": {},
   "outputs": [
    {
     "name": "stdout",
     "output_type": "stream",
     "text": [
      "6\n",
      "4.5\n",
      "3\n",
      "3.0\n"
     ]
    }
   ],
   "source": [
    "print(3+3)\n",
    "print(2.5+2)\n",
    "print(1+2)\n",
    "print(1.5+1.5)"
   ]
  },
  {
   "cell_type": "code",
   "execution_count": 24,
   "id": "c2da9c50",
   "metadata": {},
   "outputs": [
    {
     "name": "stdout",
     "output_type": "stream",
     "text": [
      "0\n",
      "0.5\n",
      "-1\n",
      "0.0\n"
     ]
    }
   ],
   "source": [
    "print(3-3)\n",
    "print(2.5-2)\n",
    "print(1-2)\n",
    "print(1.5-1.5)"
   ]
  },
  {
   "cell_type": "code",
   "execution_count": 25,
   "id": "8aac597e",
   "metadata": {},
   "outputs": [
    {
     "name": "stdout",
     "output_type": "stream",
     "text": [
      "9\n",
      "5.0\n",
      "2\n",
      "2.25\n"
     ]
    }
   ],
   "source": [
    "print(3*3)\n",
    "print(2.5*2)\n",
    "print(1*2)\n",
    "print(1.5*1.5)"
   ]
  },
  {
   "cell_type": "markdown",
   "id": "52ff0184",
   "metadata": {},
   "source": [
    "### 2.4.3 整数和浮点数"
   ]
  },
  {
   "cell_type": "code",
   "execution_count": 26,
   "id": "d15ea62c",
   "metadata": {},
   "outputs": [
    {
     "name": "stdout",
     "output_type": "stream",
     "text": [
      "1.0\n",
      "1.25\n",
      "0.5\n",
      "1.0\n"
     ]
    }
   ],
   "source": [
    "print(3/3)\n",
    "print(2.5/2)\n",
    "print(1/2)\n",
    "print(1.5/1.5)"
   ]
  },
  {
   "cell_type": "code",
   "execution_count": 27,
   "id": "2f5258a1",
   "metadata": {},
   "outputs": [
    {
     "name": "stdout",
     "output_type": "stream",
     "text": [
      "1\n",
      "1.0\n",
      "0\n",
      "1.0\n"
     ]
    }
   ],
   "source": [
    "print(3//3)\n",
    "print(2.5//2)\n",
    "print(1//2)\n",
    "print(1.5//1.5)"
   ]
  },
  {
   "cell_type": "code",
   "execution_count": 28,
   "id": "d745cf51",
   "metadata": {},
   "outputs": [
    {
     "name": "stdout",
     "output_type": "stream",
     "text": [
      "27\n",
      "6.25\n",
      "1\n",
      "1.8371173070873836\n"
     ]
    }
   ],
   "source": [
    "print(3**3)\n",
    "print(2.5**2)\n",
    "print(1**2)\n",
    "print(1.5**1.5)"
   ]
  },
  {
   "cell_type": "markdown",
   "id": "d761d9db",
   "metadata": {},
   "source": [
    "### 2.4.4 数中的下划线"
   ]
  },
  {
   "cell_type": "code",
   "execution_count": 21,
   "id": "194ca2fb",
   "metadata": {},
   "outputs": [
    {
     "name": "stdout",
     "output_type": "stream",
     "text": [
      "14000000000\n"
     ]
    }
   ],
   "source": [
    "universe_age = 14_000_000_000\n",
    "print(universe_age)"
   ]
  },
  {
   "cell_type": "markdown",
   "id": "f1463874",
   "metadata": {},
   "source": [
    "# 布尔值"
   ]
  },
  {
   "cell_type": "code",
   "execution_count": 29,
   "id": "8e9b172f",
   "metadata": {},
   "outputs": [
    {
     "name": "stdout",
     "output_type": "stream",
     "text": [
      "True\n",
      "False\n"
     ]
    }
   ],
   "source": [
    "print(True)\n",
    "print(False)"
   ]
  },
  {
   "cell_type": "code",
   "execution_count": 31,
   "id": "39768069",
   "metadata": {},
   "outputs": [
    {
     "data": {
      "text/plain": [
       "True"
      ]
     },
     "execution_count": 31,
     "metadata": {},
     "output_type": "execute_result"
    }
   ],
   "source": [
    "True==1"
   ]
  },
  {
   "cell_type": "code",
   "execution_count": 32,
   "id": "472c60de",
   "metadata": {},
   "outputs": [
    {
     "data": {
      "text/plain": [
       "True"
      ]
     },
     "execution_count": 32,
     "metadata": {},
     "output_type": "execute_result"
    }
   ],
   "source": [
    "False==0"
   ]
  },
  {
   "cell_type": "code",
   "execution_count": 33,
   "id": "6f03d1dc",
   "metadata": {},
   "outputs": [
    {
     "data": {
      "text/plain": [
       "True"
      ]
     },
     "execution_count": 33,
     "metadata": {},
     "output_type": "execute_result"
    }
   ],
   "source": [
    "1==1"
   ]
  },
  {
   "cell_type": "code",
   "execution_count": 34,
   "id": "05171a99",
   "metadata": {},
   "outputs": [
    {
     "data": {
      "text/plain": [
       "False"
      ]
     },
     "execution_count": 34,
     "metadata": {},
     "output_type": "execute_result"
    }
   ],
   "source": [
    "1==0"
   ]
  },
  {
   "cell_type": "markdown",
   "id": "ce693b2d",
   "metadata": {},
   "source": [
    "### 2.4.5同时给多个变量赋值"
   ]
  },
  {
   "cell_type": "code",
   "execution_count": 35,
   "id": "de77132b",
   "metadata": {},
   "outputs": [
    {
     "data": {
      "text/plain": [
       "0"
      ]
     },
     "execution_count": 35,
     "metadata": {},
     "output_type": "execute_result"
    }
   ],
   "source": [
    "x, y, z = 0, 0, 0\n",
    "x"
   ]
  },
  {
   "cell_type": "code",
   "execution_count": 36,
   "id": "6d80a255",
   "metadata": {},
   "outputs": [
    {
     "data": {
      "text/plain": [
       "0"
      ]
     },
     "execution_count": 36,
     "metadata": {},
     "output_type": "execute_result"
    }
   ],
   "source": [
    "y"
   ]
  },
  {
   "cell_type": "code",
   "execution_count": 37,
   "id": "7dcc3540",
   "metadata": {},
   "outputs": [
    {
     "data": {
      "text/plain": [
       "0"
      ]
     },
     "execution_count": 37,
     "metadata": {},
     "output_type": "execute_result"
    }
   ],
   "source": [
    "z"
   ]
  },
  {
   "cell_type": "markdown",
   "id": "67c20d68",
   "metadata": {},
   "source": [
    "### 2.4.6常量"
   ]
  },
  {
   "cell_type": "code",
   "execution_count": 39,
   "id": "707ef55f",
   "metadata": {},
   "outputs": [],
   "source": [
    "MAX_CONNECTIONS=5000"
   ]
  },
  {
   "cell_type": "markdown",
   "id": "7a5fff9e",
   "metadata": {},
   "source": [
    "# 2.5 注释"
   ]
  },
  {
   "cell_type": "code",
   "execution_count": 38,
   "id": "3d5ae05e",
   "metadata": {},
   "outputs": [],
   "source": [
    "# 向大家问好\n",
    "# print(\"Hello Python world\")"
   ]
  },
  {
   "cell_type": "markdown",
   "id": "82c5f602",
   "metadata": {},
   "source": [
    "# 2.6 PYTHON之禅"
   ]
  },
  {
   "cell_type": "code",
   "execution_count": 40,
   "id": "c9367905",
   "metadata": {},
   "outputs": [
    {
     "name": "stdout",
     "output_type": "stream",
     "text": [
      "The Zen of Python, by Tim Peters\n",
      "\n",
      "Beautiful is better than ugly.\n",
      "Explicit is better than implicit.\n",
      "Simple is better than complex.\n",
      "Complex is better than complicated.\n",
      "Flat is better than nested.\n",
      "Sparse is better than dense.\n",
      "Readability counts.\n",
      "Special cases aren't special enough to break the rules.\n",
      "Although practicality beats purity.\n",
      "Errors should never pass silently.\n",
      "Unless explicitly silenced.\n",
      "In the face of ambiguity, refuse the temptation to guess.\n",
      "There should be one-- and preferably only one --obvious way to do it.\n",
      "Although that way may not be obvious at first unless you're Dutch.\n",
      "Now is better than never.\n",
      "Although never is often better than *right* now.\n",
      "If the implementation is hard to explain, it's a bad idea.\n",
      "If the implementation is easy to explain, it may be a good idea.\n",
      "Namespaces are one honking great idea -- let's do more of those!\n"
     ]
    }
   ],
   "source": [
    "import this"
   ]
  },
  {
   "cell_type": "markdown",
   "id": "ea58a529",
   "metadata": {},
   "source": [
    "### 练习 2.1：简单消息 将⼀条消息赋给变量，并将其打印出来。"
   ]
  },
  {
   "cell_type": "code",
   "execution_count": 3,
   "id": "d2a88a83",
   "metadata": {},
   "outputs": [
    {
     "name": "stdout",
     "output_type": "stream",
     "text": [
      "I love learning Korean.\n"
     ]
    }
   ],
   "source": [
    "msg = \"I love learning Korean.\"\n",
    "print(msg)"
   ]
  },
  {
   "cell_type": "markdown",
   "id": "e52f2b65",
   "metadata": {},
   "source": [
    "### 练习 2.2：多条简单消息 将⼀条消息赋给变量，并将其打印出来；再将变量的值修改为⼀条新消息，并将其打印出来。"
   ]
  },
  {
   "cell_type": "code",
   "execution_count": 4,
   "id": "58b60c90",
   "metadata": {},
   "outputs": [
    {
     "name": "stdout",
     "output_type": "stream",
     "text": [
      "I love learning Korean.\n",
      "It's really satisfying!\n"
     ]
    }
   ],
   "source": [
    "msg = \"I love learning Korean.\"\n",
    "print(msg)\n",
    "\n",
    "msg = \"It's really satisfying!\"\n",
    "print(msg)"
   ]
  },
  {
   "cell_type": "markdown",
   "id": "37b35886",
   "metadata": {},
   "source": [
    "### 练习 2.3：个性化消息 ⽤变量表⽰⼀个⼈的名字，并向其显⽰⼀条消息。显⽰的消息应⾮常简单，如下所⽰。"
   ]
  },
  {
   "cell_type": "code",
   "execution_count": 9,
   "id": "853e3859",
   "metadata": {},
   "outputs": [
    {
     "name": "stdout",
     "output_type": "stream",
     "text": [
      "Hello Hazelnut, would you like to learn some English?\n"
     ]
    }
   ],
   "source": [
    "name = \"hazelnut\"\n",
    "msg = f\"Hello {name.title()}, would you like to learn some English?\"\n",
    "print(msg)"
   ]
  },
  {
   "cell_type": "markdown",
   "id": "b6f8c843",
   "metadata": {},
   "source": [
    "### 练习 2.4：调整名字的⼤⼩写 ⽤变量表⽰⼀个⼈的名字，再分别以全⼩写、全⼤写和⾸字⺟⼤写的⽅式显⽰这个⼈名。"
   ]
  },
  {
   "cell_type": "code",
   "execution_count": 10,
   "id": "8a964887",
   "metadata": {},
   "outputs": [
    {
     "name": "stdout",
     "output_type": "stream",
     "text": [
      "hazel\n",
      "HAZEL\n",
      "Hazel\n"
     ]
    }
   ],
   "source": [
    "name = \"hazel\"\n",
    "print(name.lower())\n",
    "print(name.upper())\n",
    "print(name.title())"
   ]
  },
  {
   "cell_type": "markdown",
   "id": "c5c258f2",
   "metadata": {},
   "source": [
    "### 找到你钦佩的名⼈说的⼀句名⾔，将这个名⼈的姓名和名⾔打印出来。输出应类似于下⾯这样（包括引号）"
   ]
  },
  {
   "cell_type": "code",
   "execution_count": 14,
   "id": "88a2c67c",
   "metadata": {},
   "outputs": [
    {
     "name": "stdout",
     "output_type": "stream",
     "text": [
      "그 갈피를 아마 바람은 더듬어 볼 수 있을 마음.내 마음이 그런 바람을 흉내 낸다면필경 환대가 될것이다.\n"
     ]
    }
   ],
   "source": [
    "print('그 갈피를 아마 바람은 더듬어 볼 수 있을 마음.내 마음이 그런 바람을 흉내 낸다면필경 환대가 될것이다.')"
   ]
  },
  {
   "cell_type": "markdown",
   "id": "f7335c13",
   "metadata": {},
   "source": [
    "### 练习 2.6：名⾔ 2 重复练习 2.5，但⽤变量 famous_person 表⽰名⼈的姓名，再创建要显⽰的消息并将其赋给变量 message，然后打印这条消息。"
   ]
  },
  {
   "cell_type": "code",
   "execution_count": 16,
   "id": "a19a1e5b",
   "metadata": {},
   "outputs": [
    {
     "name": "stdout",
     "output_type": "stream",
     "text": [
      "郑玄宗 once said, \"그 갈피를 아마 바람은 더듬어 볼 수 있을 마음.내 마음이 그런 바람을 흉내 낸다면필경 환대가 될것이다.\"\n"
     ]
    }
   ],
   "source": [
    "famous_person = '郑玄宗'\n",
    "message = f'{famous_person} once said, \"그 갈피를 아마 바람은 더듬어 볼 수 있을 마음.내 마음이 그런 바람을 흉내 낸다면필경 환대가 될것이다.\"'\n",
    "print(message)"
   ]
  },
  {
   "cell_type": "markdown",
   "id": "8ba76e98",
   "metadata": {},
   "source": [
    "### ⽤变量表⽰⼀个⼈的名字，并在其开头和末尾都包含⼀些空⽩字符。务必⾄少使⽤字符组合 \"\\t\" 和 \"\\n\" 各⼀次。"
   ]
  },
  {
   "cell_type": "code",
   "execution_count": 18,
   "id": "9dd073d7",
   "metadata": {},
   "outputs": [
    {
     "name": "stdout",
     "output_type": "stream",
     "text": [
      "Unmodified:\n",
      "\tGong Ruotong\n",
      "\n",
      "\n",
      "Using lstrip():\n",
      "Gong Ruotong\n",
      "\n",
      "\n",
      "Using rstrip():\n",
      "\tGong Ruotong\n",
      "\n",
      "Using strip():\n",
      "Gong Ruotong\n"
     ]
    }
   ],
   "source": [
    "name = \"\\tGong Ruotong\\n\"\n",
    "print(\"Unmodified:\")\n",
    "print(name)\n",
    "print(\"\\nUsing lstrip():\")\n",
    "print(name.lstrip())\n",
    "print(\"\\nUsing rstrip():\")\n",
    "print(name.rstrip())\n",
    "print(\"\\nUsing strip():\")\n",
    "print(name.strip())"
   ]
  },
  {
   "cell_type": "markdown",
   "id": "d44a71f0",
   "metadata": {},
   "source": [
    "### 练习 2.8：⽂件扩展名 Python 提供了 removesuffix() ⽅法，其⼯作原理与 removeprefix() 很像。请将值 'python_notes.txt'赋给变量 filename，再使⽤ removesuffix() ⽅法来显⽰不包含扩展名的⽂件名，就像⽂件浏览器所做的那样。"
   ]
  },
  {
   "cell_type": "code",
   "execution_count": 19,
   "id": "6d7f29ca",
   "metadata": {},
   "outputs": [
    {
     "name": "stdout",
     "output_type": "stream",
     "text": [
      "python_notes\n"
     ]
    }
   ],
   "source": [
    "filename = 'python_notes.txt'\n",
    "simple_filename = filename.removesuffix('.txt')\n",
    "print(simple_filename)\n"
   ]
  },
  {
   "cell_type": "markdown",
   "id": "c46b445b",
   "metadata": {},
   "source": [
    "### 练习 2.9：数字 8 编写 4 个表达式，分别使⽤加法、减法、乘法和除法运算，但结果都是数字 8。为了使⽤函数调⽤ print() 来显⽰结果，务必将这些表达式⽤括号括起来。也就是说，你应该编写 4 ⾏类似于这样的代码："
   ]
  },
  {
   "cell_type": "code",
   "execution_count": 22,
   "id": "70601806",
   "metadata": {},
   "outputs": [
    {
     "name": "stdout",
     "output_type": "stream",
     "text": [
      "8\n",
      "8\n",
      "8.0\n",
      "8\n"
     ]
    }
   ],
   "source": [
    "print(5+3)\n",
    "print(16-8)\n",
    "print(16/2)\n",
    "print(2*4)"
   ]
  },
  {
   "cell_type": "markdown",
   "id": "b35228be",
   "metadata": {},
   "source": [
    "### 练习 2.10：最喜欢的数 ⽤⼀个变量来表⽰你最喜欢的数，再使⽤这个变量创建⼀条消息，指出你最喜欢的数是什么，然后将这条消息打印出来。"
   ]
  },
  {
   "cell_type": "code",
   "execution_count": 23,
   "id": "d0ddf057",
   "metadata": {},
   "outputs": [
    {
     "name": "stdout",
     "output_type": "stream",
     "text": [
      "My favorite number is 6.\n"
     ]
    }
   ],
   "source": [
    "fav_num = 6\n",
    "msg = f\"My favorite number is {fav_num}.\"\n",
    "print(msg)"
   ]
  },
  {
   "cell_type": "code",
   "execution_count": null,
   "id": "6c32ddda",
   "metadata": {},
   "outputs": [],
   "source": []
  }
 ],
 "metadata": {
  "kernelspec": {
   "display_name": "Python 3 (ipykernel)",
   "language": "python",
   "name": "python3"
  },
  "language_info": {
   "codemirror_mode": {
    "name": "ipython",
    "version": 3
   },
   "file_extension": ".py",
   "mimetype": "text/x-python",
   "name": "python",
   "nbconvert_exporter": "python",
   "pygments_lexer": "ipython3",
   "version": "3.11.5"
  }
 },
 "nbformat": 4,
 "nbformat_minor": 5
}
