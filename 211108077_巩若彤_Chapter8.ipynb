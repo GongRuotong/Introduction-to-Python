{
 "cells": [
  {
   "cell_type": "markdown",
   "id": "12b76dbb",
   "metadata": {},
   "source": [
    "# 函数"
   ]
  },
  {
   "cell_type": "markdown",
   "id": "0cd65ad8",
   "metadata": {},
   "source": [
    "## 8.1 定义函数"
   ]
  },
  {
   "cell_type": "code",
   "execution_count": 1,
   "id": "7a8eaf8c",
   "metadata": {},
   "outputs": [
    {
     "name": "stdout",
     "output_type": "stream",
     "text": [
      "Hello!\n"
     ]
    }
   ],
   "source": [
    "def greet_user():\n",
    "    \"\"\"显⽰简单的问候语\"\"\"\n",
    "    print(\"Hello!\")\n",
    "greet_user()"
   ]
  },
  {
   "cell_type": "markdown",
   "id": "f64a785e",
   "metadata": {},
   "source": [
    "### 8.1.1 向函数传递信息"
   ]
  },
  {
   "cell_type": "code",
   "execution_count": 2,
   "id": "2072bcb0",
   "metadata": {},
   "outputs": [
    {
     "name": "stdout",
     "output_type": "stream",
     "text": [
      "Hello, Jesse!\n"
     ]
    }
   ],
   "source": [
    "def greet_user(username):\n",
    "    \"\"\"显⽰简单的问候语\"\"\"\n",
    "    print(f\"Hello, {username.title()}!\")\n",
    "greet_user('jesse')"
   ]
  },
  {
   "cell_type": "markdown",
   "id": "6e087a22",
   "metadata": {},
   "source": [
    "### 8.1.2 实参和形参"
   ]
  },
  {
   "cell_type": "code",
   "execution_count": 3,
   "id": "d24a5034",
   "metadata": {},
   "outputs": [],
   "source": [
    "#形参（parameter），即函数完成⼯作所需的信息\n",
    "#实参（argument），即在调⽤函数时传递给函数的信息。"
   ]
  },
  {
   "cell_type": "markdown",
   "id": "393de434",
   "metadata": {},
   "source": [
    "# 8.2 传递实参"
   ]
  },
  {
   "cell_type": "markdown",
   "id": "787fae46",
   "metadata": {},
   "source": [
    "## 8.2.1 位置实参"
   ]
  },
  {
   "cell_type": "code",
   "execution_count": null,
   "id": "f372f091",
   "metadata": {},
   "outputs": [],
   "source": [
    "#Python 必须将函数调⽤中的每个实参关联到函数定义中的\n",
    "#⼀个形参。最简单的⽅式是基于实参的顺序进⾏关联。以这种⽅式关联的\n",
    "#实参称为位置实参。"
   ]
  },
  {
   "cell_type": "code",
   "execution_count": 6,
   "id": "a1ec284e",
   "metadata": {},
   "outputs": [
    {
     "name": "stdout",
     "output_type": "stream",
     "text": [
      "\n",
      "I have a hamster.\n",
      "My hamster's name is Harry.\n"
     ]
    }
   ],
   "source": [
    "def describe_pet(animal_type, pet_name):\n",
    "    \"\"\"显⽰宠物的信息\"\"\"\n",
    "    print(f\"\\nI have a {animal_type}.\")\n",
    "    print(f\"My {animal_type}'s name is {pet_name.title()}.\")\n",
    "describe_pet('hamster', 'harry')"
   ]
  },
  {
   "cell_type": "code",
   "execution_count": 7,
   "id": "bb45c7ad",
   "metadata": {},
   "outputs": [
    {
     "name": "stdout",
     "output_type": "stream",
     "text": [
      "\n",
      "I have a hamster.\n",
      "My hamster's name is Harry.\n",
      "\n",
      "I have a dog.\n",
      "My dog's name is Willie.\n"
     ]
    }
   ],
   "source": [
    "def describe_pet(animal_type, pet_name):\n",
    "    \"\"\"显⽰宠物的信息\"\"\"\n",
    "    print(f\"\\nI have a {animal_type}.\")\n",
    "    print(f\"My {animal_type}'s name is {pet_name.title()}.\")\n",
    "describe_pet('hamster', 'harry')\n",
    "describe_pet('dog', 'willie')"
   ]
  },
  {
   "cell_type": "code",
   "execution_count": 8,
   "id": "897f743a",
   "metadata": {},
   "outputs": [
    {
     "name": "stdout",
     "output_type": "stream",
     "text": [
      "\n",
      "I have a harry.\n",
      "My harry's name is Hamster.\n"
     ]
    }
   ],
   "source": [
    "def describe_pet(animal_type, pet_name):\n",
    "\n",
    "    \"\"\"显⽰宠物的信息\"\"\"\n",
    "\n",
    "    print(f\"\\nI have a {animal_type}.\")\n",
    "\n",
    "    print(f\"My {animal_type}'s name is {pet_name.title()}.\")\n",
    "describe_pet('harry', 'hamster')#顺序错误"
   ]
  },
  {
   "cell_type": "markdown",
   "id": "e804af25",
   "metadata": {},
   "source": [
    "### 8.2.2 关键字实参"
   ]
  },
  {
   "cell_type": "code",
   "execution_count": null,
   "id": "c808bb1b",
   "metadata": {},
   "outputs": [],
   "source": [
    "#关键字实参不仅让你⽆须考虑函数调⽤中的实参顺序，⽽且清楚地指出了函数调⽤中各个值的⽤途。"
   ]
  },
  {
   "cell_type": "code",
   "execution_count": 9,
   "id": "cc219627",
   "metadata": {},
   "outputs": [
    {
     "name": "stdout",
     "output_type": "stream",
     "text": [
      "\n",
      "I have a hamster.\n",
      "My hamster's name is Harry.\n"
     ]
    }
   ],
   "source": [
    "def describe_pet(animal_type, pet_name):\n",
    "\n",
    "    \"\"\"显⽰宠物的信息\"\"\"\n",
    "\n",
    "    print(f\"\\nI have a {animal_type}.\")\n",
    "\n",
    "    print(f\"My {animal_type}'s name is {pet_name.title()}.\")\n",
    "describe_pet(animal_type='hamster', pet_name='harry')"
   ]
  },
  {
   "cell_type": "markdown",
   "id": "3b86f23f",
   "metadata": {},
   "source": [
    "### 8.2.3 默认值"
   ]
  },
  {
   "cell_type": "code",
   "execution_count": null,
   "id": "94a28875",
   "metadata": {},
   "outputs": [],
   "source": [
    "#在编写函数时，可以给每个形参指定默认值。如果在调⽤函数中给形参提供了实参，Python 将使⽤指定的实参值；否则，将使⽤形参的默认值。"
   ]
  },
  {
   "cell_type": "code",
   "execution_count": 10,
   "id": "ff6e6388",
   "metadata": {},
   "outputs": [
    {
     "name": "stdout",
     "output_type": "stream",
     "text": [
      "\n",
      "I have a dog.\n",
      "My dog's name is Willie.\n"
     ]
    }
   ],
   "source": [
    "def describe_pet(pet_name, animal_type='dog'):#给形参 animal_type指定了默认值 'dog'\n",
    "\n",
    "    \"\"\"显⽰宠物的信息\"\"\"\n",
    "\n",
    "    print(f\"\\nI have a {animal_type}.\")\n",
    "\n",
    "    print(f\"My {animal_type}'s name is {pet_name.title()}.\")\n",
    "describe_pet(pet_name='willie')"
   ]
  },
  {
   "cell_type": "markdown",
   "id": "847b60b3",
   "metadata": {},
   "source": [
    "### 8.2.4 等效的函数调⽤"
   ]
  },
  {
   "cell_type": "code",
   "execution_count": null,
   "id": "21919f30",
   "metadata": {},
   "outputs": [],
   "source": [
    "def describe_pet(pet_name, animal_type='dog'):\n",
    "# ⼀条名为 Willie 的⼩狗\n",
    "describe_pet('willie')\n",
    "describe_pet(pet_name='willie')\n",
    "# ⼀只名为 Harry 的仓⿏\n",
    "describe_pet('harry', 'hamster')\n",
    "describe_pet(pet_name='harry', animal_type='hamster')\n",
    "describe_pet(animal_type='hamster', pet_name='harry')"
   ]
  },
  {
   "cell_type": "markdown",
   "id": "014582fd",
   "metadata": {},
   "source": [
    "### 8.2.5 避免实参错误"
   ]
  },
  {
   "cell_type": "code",
   "execution_count": 11,
   "id": "2c63d396",
   "metadata": {},
   "outputs": [
    {
     "ename": "TypeError",
     "evalue": "describe_pet() missing 2 required positional arguments: 'animal_type' and 'pet_name'",
     "output_type": "error",
     "traceback": [
      "\u001b[1;31m---------------------------------------------------------------------------\u001b[0m",
      "\u001b[1;31mTypeError\u001b[0m                                 Traceback (most recent call last)",
      "Cell \u001b[1;32mIn[11], line 8\u001b[0m\n\u001b[0;32m      5\u001b[0m     \u001b[38;5;28mprint\u001b[39m(\u001b[38;5;124mf\u001b[39m\u001b[38;5;124m\"\u001b[39m\u001b[38;5;130;01m\\n\u001b[39;00m\u001b[38;5;124mI have a \u001b[39m\u001b[38;5;132;01m{\u001b[39;00manimal_type\u001b[38;5;132;01m}\u001b[39;00m\u001b[38;5;124m.\u001b[39m\u001b[38;5;124m\"\u001b[39m)\n\u001b[0;32m      7\u001b[0m     \u001b[38;5;28mprint\u001b[39m(\u001b[38;5;124mf\u001b[39m\u001b[38;5;124m\"\u001b[39m\u001b[38;5;124mMy \u001b[39m\u001b[38;5;132;01m{\u001b[39;00manimal_type\u001b[38;5;132;01m}\u001b[39;00m\u001b[38;5;124m'\u001b[39m\u001b[38;5;124ms name is \u001b[39m\u001b[38;5;132;01m{\u001b[39;00mpet_name\u001b[38;5;241m.\u001b[39mtitle()\u001b[38;5;132;01m}\u001b[39;00m\u001b[38;5;124m.\u001b[39m\u001b[38;5;124m\"\u001b[39m)\n\u001b[1;32m----> 8\u001b[0m describe_pet()\n",
      "\u001b[1;31mTypeError\u001b[0m: describe_pet() missing 2 required positional arguments: 'animal_type' and 'pet_name'"
     ]
    }
   ],
   "source": [
    "def describe_pet(animal_type, pet_name):\n",
    "\n",
    "    \"\"\"显⽰宠物的信息\"\"\"\n",
    "\n",
    "    print(f\"\\nI have a {animal_type}.\")\n",
    "\n",
    "    print(f\"My {animal_type}'s name is {pet_name.title()}.\")\n",
    "describe_pet()"
   ]
  },
  {
   "cell_type": "markdown",
   "id": "ffd1a636",
   "metadata": {},
   "source": [
    "## 8.3 返回值"
   ]
  },
  {
   "cell_type": "code",
   "execution_count": null,
   "id": "c440320e",
   "metadata": {},
   "outputs": [],
   "source": [
    "#在函数中，可以使⽤ return 语句将值返回到调⽤函数的那⾏代码。"
   ]
  },
  {
   "cell_type": "markdown",
   "id": "d40803b8",
   "metadata": {},
   "source": [
    "### 8.3.1 返回简单的值"
   ]
  },
  {
   "cell_type": "code",
   "execution_count": 13,
   "id": "74f0340c",
   "metadata": {},
   "outputs": [
    {
     "name": "stdout",
     "output_type": "stream",
     "text": [
      "Jimi Hendrix\n"
     ]
    }
   ],
   "source": [
    "def get_formatted_name(first_name, last_name):\n",
    "\n",
    "    \"\"\"返回标准格式的姓名\"\"\"\n",
    "\n",
    "    full_name = f\"{first_name} {last_name}\"\n",
    "\n",
    "    return full_name.title()\n",
    "\n",
    "musician = get_formatted_name('jimi', 'hendrix')\n",
    "print(musician)"
   ]
  },
  {
   "cell_type": "markdown",
   "id": "c50a9d85",
   "metadata": {},
   "source": [
    "### 8.3.2 让实参变成可选的"
   ]
  },
  {
   "cell_type": "code",
   "execution_count": 14,
   "id": "f1cc2e7c",
   "metadata": {},
   "outputs": [
    {
     "name": "stdout",
     "output_type": "stream",
     "text": [
      "John Lee Hooker\n"
     ]
    }
   ],
   "source": [
    "def get_formatted_name(first_name, middle_name, last_name):\n",
    "\n",
    "    \"\"\"返回标准格式的姓名\"\"\"\n",
    "\n",
    "    full_name = f\"{first_name} {middle_name} {last_name}\"\n",
    "\n",
    "    return full_name.title()\n",
    "musician = get_formatted_name('john', 'lee', 'hooker')\n",
    "print(musician)"
   ]
  },
  {
   "cell_type": "code",
   "execution_count": 20,
   "id": "c8d902b4",
   "metadata": {},
   "outputs": [
    {
     "name": "stdout",
     "output_type": "stream",
     "text": [
      "Jimi Hendrix\n",
      "John Lee Hooker\n"
     ]
    }
   ],
   "source": [
    "def get_formatted_name(first_name, last_name, middle_name=''):\n",
    "    \"\"\"返回标准格式的姓名\"\"\"\n",
    "    if middle_name:\n",
    "        full_name = f\"{first_name} {middle_name} {last_name}\"\n",
    "    else:\n",
    "        full_name = f\"{first_name} {last_name}\"\n",
    "    return full_name.title()\n",
    "musician = get_formatted_name('jimi', 'hendrix')\n",
    "print(musician)\n",
    "\n",
    "musician = get_formatted_name('john', 'hooker', 'lee')\n",
    "print(musician)"
   ]
  },
  {
   "cell_type": "markdown",
   "id": "a0d14f70",
   "metadata": {},
   "source": [
    "### 8.3.3 返回字典"
   ]
  },
  {
   "cell_type": "code",
   "execution_count": 21,
   "id": "3d9a65a0",
   "metadata": {},
   "outputs": [
    {
     "name": "stdout",
     "output_type": "stream",
     "text": [
      "{'first': 'jimi', 'last': 'hendrix'}\n"
     ]
    }
   ],
   "source": [
    "def build_person(first_name, last_name):\n",
    "    \"\"\"返回⼀个字典，其中包含有关⼀个⼈的信息\"\"\"\n",
    "    person = {'first': first_name, 'last': last_name}\n",
    "    return person\n",
    "musician = build_person('jimi', 'hendrix')\n",
    "print(musician)"
   ]
  },
  {
   "cell_type": "code",
   "execution_count": 22,
   "id": "cebee296",
   "metadata": {},
   "outputs": [
    {
     "name": "stdout",
     "output_type": "stream",
     "text": [
      "{'first': 'jimi', 'last': 'hendrix', 'age': 27}\n"
     ]
    }
   ],
   "source": [
    "def build_person(first_name, last_name, age=None):#（表⽰变量没有值）。可将 None 视为占位值\n",
    "    \"\"\"返回⼀个字典，其中包含有关⼀个⼈的信息\"\"\"\n",
    "    person = {'first': first_name, 'last': last_name}\n",
    "    if age:\n",
    "        person['age'] = age\n",
    "    return person\n",
    "musician = build_person('jimi', 'hendrix', age=27)\n",
    "print(musician)"
   ]
  },
  {
   "cell_type": "markdown",
   "id": "73d38807",
   "metadata": {},
   "source": [
    "### 8.3.4 结合使⽤函数和 while 循环"
   ]
  },
  {
   "cell_type": "code",
   "execution_count": 26,
   "id": "a0982cec",
   "metadata": {},
   "outputs": [
    {
     "name": "stdout",
     "output_type": "stream",
     "text": [
      "\n",
      "Please tell me your name:\n",
      "First name: hazel\n",
      "Last name: gong\n",
      "\n",
      "Hello, Hazel Gong!\n",
      "\n",
      "Please tell me your name:\n",
      "First name: q\n",
      "Last name: q\n",
      "\n",
      "Hello, Q Q!\n",
      "\n",
      "Please tell me your name:\n"
     ]
    },
    {
     "ename": "KeyboardInterrupt",
     "evalue": "Interrupted by user",
     "output_type": "error",
     "traceback": [
      "\u001b[1;31m---------------------------------------------------------------------------\u001b[0m",
      "\u001b[1;31mKeyboardInterrupt\u001b[0m                         Traceback (most recent call last)",
      "Cell \u001b[1;32mIn[26], line 8\u001b[0m\n\u001b[0;32m      6\u001b[0m \u001b[38;5;28;01mwhile\u001b[39;00m \u001b[38;5;28;01mTrue\u001b[39;00m:\n\u001b[0;32m      7\u001b[0m     \u001b[38;5;28mprint\u001b[39m(\u001b[38;5;124m\"\u001b[39m\u001b[38;5;130;01m\\n\u001b[39;00m\u001b[38;5;124mPlease tell me your name:\u001b[39m\u001b[38;5;124m\"\u001b[39m)\n\u001b[1;32m----> 8\u001b[0m     f_name \u001b[38;5;241m=\u001b[39m \u001b[38;5;28minput\u001b[39m(\u001b[38;5;124m\"\u001b[39m\u001b[38;5;124mFirst name: \u001b[39m\u001b[38;5;124m\"\u001b[39m)\n\u001b[0;32m      9\u001b[0m     l_name \u001b[38;5;241m=\u001b[39m \u001b[38;5;28minput\u001b[39m(\u001b[38;5;124m\"\u001b[39m\u001b[38;5;124mLast name: \u001b[39m\u001b[38;5;124m\"\u001b[39m)\n\u001b[0;32m     10\u001b[0m     formatted_name \u001b[38;5;241m=\u001b[39m get_formatted_name(f_name, l_name)\n",
      "File \u001b[1;32mD:\\anaconda\\Lib\\site-packages\\ipykernel\\kernelbase.py:1202\u001b[0m, in \u001b[0;36mKernel.raw_input\u001b[1;34m(self, prompt)\u001b[0m\n\u001b[0;32m   1200\u001b[0m     msg \u001b[38;5;241m=\u001b[39m \u001b[38;5;124m\"\u001b[39m\u001b[38;5;124mraw_input was called, but this frontend does not support input requests.\u001b[39m\u001b[38;5;124m\"\u001b[39m\n\u001b[0;32m   1201\u001b[0m     \u001b[38;5;28;01mraise\u001b[39;00m StdinNotImplementedError(msg)\n\u001b[1;32m-> 1202\u001b[0m \u001b[38;5;28;01mreturn\u001b[39;00m \u001b[38;5;28mself\u001b[39m\u001b[38;5;241m.\u001b[39m_input_request(\n\u001b[0;32m   1203\u001b[0m     \u001b[38;5;28mstr\u001b[39m(prompt),\n\u001b[0;32m   1204\u001b[0m     \u001b[38;5;28mself\u001b[39m\u001b[38;5;241m.\u001b[39m_parent_ident[\u001b[38;5;124m\"\u001b[39m\u001b[38;5;124mshell\u001b[39m\u001b[38;5;124m\"\u001b[39m],\n\u001b[0;32m   1205\u001b[0m     \u001b[38;5;28mself\u001b[39m\u001b[38;5;241m.\u001b[39mget_parent(\u001b[38;5;124m\"\u001b[39m\u001b[38;5;124mshell\u001b[39m\u001b[38;5;124m\"\u001b[39m),\n\u001b[0;32m   1206\u001b[0m     password\u001b[38;5;241m=\u001b[39m\u001b[38;5;28;01mFalse\u001b[39;00m,\n\u001b[0;32m   1207\u001b[0m )\n",
      "File \u001b[1;32mD:\\anaconda\\Lib\\site-packages\\ipykernel\\kernelbase.py:1245\u001b[0m, in \u001b[0;36mKernel._input_request\u001b[1;34m(self, prompt, ident, parent, password)\u001b[0m\n\u001b[0;32m   1242\u001b[0m \u001b[38;5;28;01mexcept\u001b[39;00m \u001b[38;5;167;01mKeyboardInterrupt\u001b[39;00m:\n\u001b[0;32m   1243\u001b[0m     \u001b[38;5;66;03m# re-raise KeyboardInterrupt, to truncate traceback\u001b[39;00m\n\u001b[0;32m   1244\u001b[0m     msg \u001b[38;5;241m=\u001b[39m \u001b[38;5;124m\"\u001b[39m\u001b[38;5;124mInterrupted by user\u001b[39m\u001b[38;5;124m\"\u001b[39m\n\u001b[1;32m-> 1245\u001b[0m     \u001b[38;5;28;01mraise\u001b[39;00m \u001b[38;5;167;01mKeyboardInterrupt\u001b[39;00m(msg) \u001b[38;5;28;01mfrom\u001b[39;00m \u001b[38;5;28;01mNone\u001b[39;00m\n\u001b[0;32m   1246\u001b[0m \u001b[38;5;28;01mexcept\u001b[39;00m \u001b[38;5;167;01mException\u001b[39;00m:\n\u001b[0;32m   1247\u001b[0m     \u001b[38;5;28mself\u001b[39m\u001b[38;5;241m.\u001b[39mlog\u001b[38;5;241m.\u001b[39mwarning(\u001b[38;5;124m\"\u001b[39m\u001b[38;5;124mInvalid Message:\u001b[39m\u001b[38;5;124m\"\u001b[39m, exc_info\u001b[38;5;241m=\u001b[39m\u001b[38;5;28;01mTrue\u001b[39;00m)\n",
      "\u001b[1;31mKeyboardInterrupt\u001b[0m: Interrupted by user"
     ]
    }
   ],
   "source": [
    "def get_formatted_name(first_name, last_name):\n",
    "    \"\"\"返回规范格式的姓名\"\"\"\n",
    "    full_name = f\"{first_name} {last_name}\"\n",
    "    return full_name.title()\n",
    " # 这是⼀个⽆限循环！\n",
    "while True:\n",
    "    print(\"\\nPlease tell me your name:\")\n",
    "    f_name = input(\"First name: \")\n",
    "    l_name = input(\"Last name: \")\n",
    "    formatted_name = get_formatted_name(f_name, l_name)\n",
    "    print(f\"\\nHello, {formatted_name}!\")"
   ]
  },
  {
   "cell_type": "code",
   "execution_count": 27,
   "id": "cdfb1adb",
   "metadata": {},
   "outputs": [
    {
     "name": "stdout",
     "output_type": "stream",
     "text": [
      "\n",
      "Please tell me your name:\n",
      "(enter 'q' at any time to quit)\n",
      "First name: hazel\n",
      "Last name: q\n"
     ]
    }
   ],
   "source": [
    "def get_formatted_name(first_name, last_name):\n",
    "    \"\"\"返回规范格式的姓名\"\"\"\n",
    "    full_name = f\"{first_name} {last_name}\"\n",
    "    return full_name.title()\n",
    "while True:\n",
    "    print(\"\\nPlease tell me your name:\")\n",
    "    print(\"(enter 'q' at any time to quit)\")\n",
    "    \n",
    "    f_name = input(\"First name: \")\n",
    "    if f_name == 'q':\n",
    "        break\n",
    "    \n",
    "    l_name = input(\"Last name: \")\n",
    "    if l_name == 'q':\n",
    "        break\n",
    "   \n",
    "    formatted_name = get_formatted_name(f_name, l_name)\n",
    "    print(f\"\\nHello, {formatted_name}!\")"
   ]
  },
  {
   "cell_type": "markdown",
   "id": "88e0d875",
   "metadata": {},
   "source": [
    "## 8.4 传递列表"
   ]
  },
  {
   "cell_type": "code",
   "execution_count": 28,
   "id": "1a8b0981",
   "metadata": {},
   "outputs": [
    {
     "name": "stdout",
     "output_type": "stream",
     "text": [
      "Hello, Hannah!\n",
      "Hello, Ty!\n",
      "Hello, Margot!\n"
     ]
    }
   ],
   "source": [
    "def greet_users(names):\n",
    "    \"\"\"向列表中的每个⽤户发出简单的问候\"\"\"\n",
    "    for name in names:\n",
    "        msg = f\"Hello, {name.title()}!\"\n",
    "        print(msg)\n",
    "usernames = ['hannah', 'ty', 'margot']\n",
    "greet_users(usernames)"
   ]
  },
  {
   "cell_type": "markdown",
   "id": "b4f38aec",
   "metadata": {},
   "source": [
    "### 8.4.1 在函数中修改列表"
   ]
  },
  {
   "cell_type": "code",
   "execution_count": 29,
   "id": "280ef8c0",
   "metadata": {},
   "outputs": [
    {
     "name": "stdout",
     "output_type": "stream",
     "text": [
      "Printing model: dodecahedron\n",
      "Printing model: robot pendant\n",
      "Printing model: phone case\n",
      "\n",
      "The following models have been printed:\n",
      "dodecahedron\n",
      "robot pendant\n",
      "phone case\n"
     ]
    }
   ],
   "source": [
    "# ⾸先创建⼀个列表，其中包含⼀些要打印的设计\n",
    "unprinted_designs = ['phone case', 'robot pendant', 'dodecahedron']\n",
    "completed_models = []\n",
    "# 模拟打印每个设计，直到没有未打印的设计为⽌\n",
    "# 打印每个设计后，都将其移到列表 completed_models 中\n",
    "while unprinted_designs:\n",
    "    current_design = unprinted_designs.pop()\n",
    "    print(f\"Printing model: {current_design}\")\n",
    "    completed_models.append(current_design)\n",
    "# 显⽰打印好的所有模型\n",
    "print(\"\\nThe following models have been printed:\")\n",
    "for completed_model in completed_models:\n",
    "    print(completed_model)"
   ]
  },
  {
   "cell_type": "code",
   "execution_count": 30,
   "id": "f5ed8f75",
   "metadata": {},
   "outputs": [
    {
     "ename": "NameError",
     "evalue": "name 'print_models' is not defined",
     "output_type": "error",
     "traceback": [
      "\u001b[1;31m---------------------------------------------------------------------------\u001b[0m",
      "\u001b[1;31mNameError\u001b[0m                                 Traceback (most recent call last)",
      "Cell \u001b[1;32mIn[30], line 3\u001b[0m\n\u001b[0;32m      1\u001b[0m unprinted_designs \u001b[38;5;241m=\u001b[39m [\u001b[38;5;124m'\u001b[39m\u001b[38;5;124mphone case\u001b[39m\u001b[38;5;124m'\u001b[39m, \u001b[38;5;124m'\u001b[39m\u001b[38;5;124mrobot pendant\u001b[39m\u001b[38;5;124m'\u001b[39m, \u001b[38;5;124m'\u001b[39m\u001b[38;5;124mdodecahedron\u001b[39m\u001b[38;5;124m'\u001b[39m]\n\u001b[0;32m      2\u001b[0m completed_models \u001b[38;5;241m=\u001b[39m []\n\u001b[1;32m----> 3\u001b[0m print_models(unprinted_designs, completed_models)\n\u001b[0;32m      4\u001b[0m show_completed_models(completed_models)\n",
      "\u001b[1;31mNameError\u001b[0m: name 'print_models' is not defined"
     ]
    }
   ],
   "source": [
    "unprinted_designs = ['phone case', 'robot pendant', 'dodecahedron']\n",
    "completed_models = []\n",
    "print_models(unprinted_designs, completed_models)\n",
    "show_completed_models(completed_models)"
   ]
  },
  {
   "cell_type": "markdown",
   "id": "998421a2",
   "metadata": {},
   "source": [
    "## 8.4.2 禁⽌函数修改列表"
   ]
  },
  {
   "cell_type": "code",
   "execution_count": 31,
   "id": "9cd3bb92",
   "metadata": {},
   "outputs": [
    {
     "ename": "NameError",
     "evalue": "name 'function_name' is not defined",
     "output_type": "error",
     "traceback": [
      "\u001b[1;31m---------------------------------------------------------------------------\u001b[0m",
      "\u001b[1;31mNameError\u001b[0m                                 Traceback (most recent call last)",
      "Cell \u001b[1;32mIn[31], line 1\u001b[0m\n\u001b[1;32m----> 1\u001b[0m function_name(list_name[:])\n\u001b[0;32m      2\u001b[0m print_models(unprinted_designs[:], completed_models)\n",
      "\u001b[1;31mNameError\u001b[0m: name 'function_name' is not defined"
     ]
    }
   ],
   "source": [
    "function_name(list_name[:])\n",
    "print_models(unprinted_designs[:], completed_models)"
   ]
  },
  {
   "cell_type": "markdown",
   "id": "3a2257f5",
   "metadata": {},
   "source": [
    "## 8.5 传递任意数量的实参"
   ]
  },
  {
   "cell_type": "code",
   "execution_count": 32,
   "id": "81331d20",
   "metadata": {},
   "outputs": [
    {
     "name": "stdout",
     "output_type": "stream",
     "text": [
      "('pepperoni',)\n",
      "('mushrooms', 'green peppers', 'extra cheese')\n"
     ]
    }
   ],
   "source": [
    "def make_pizza(*toppings):#形参名 *toppings 中的星号让 Python 创建⼀个名为 toppings 的元组，该元组包含函数收到的所有值。\n",
    "    \"\"\"打印顾客点的所有配料\"\"\"\n",
    "    print(toppings)\n",
    "make_pizza('pepperoni')\n",
    "make_pizza('mushrooms', 'green peppers', 'extra cheese')"
   ]
  },
  {
   "cell_type": "code",
   "execution_count": 33,
   "id": "4a82ecd0",
   "metadata": {},
   "outputs": [
    {
     "name": "stdout",
     "output_type": "stream",
     "text": [
      "\n",
      "Making a pizza with the following toppings:\n",
      "- pepperoni\n",
      "\n",
      "Making a pizza with the following toppings:\n",
      "- mushrooms\n",
      "- green peppers\n",
      "- extra cheese\n"
     ]
    }
   ],
   "source": [
    "def make_pizza(*toppings):\n",
    "\n",
    "    \"\"\"概述要制作的⽐萨\"\"\"\n",
    "    print(\"\\nMaking a pizza with the following toppings:\")\n",
    "    for topping in toppings:\n",
    "        print(f\"- {topping}\")\n",
    "make_pizza('pepperoni')\n",
    "make_pizza('mushrooms', 'green peppers', 'extra cheese')"
   ]
  },
  {
   "cell_type": "markdown",
   "id": "b18fb150",
   "metadata": {},
   "source": [
    "### 8.5.1 结合使⽤位置实参和任意数量的实参"
   ]
  },
  {
   "cell_type": "code",
   "execution_count": 34,
   "id": "095e67bd",
   "metadata": {},
   "outputs": [
    {
     "name": "stdout",
     "output_type": "stream",
     "text": [
      "\n",
      "Making a 16-inch pizza with the following toppings:\n",
      "- pepperoni\n",
      "\n",
      "Making a 12-inch pizza with the following toppings:\n",
      "- mushrooms\n",
      "- green peppers\n",
      "- extra cheese\n"
     ]
    }
   ],
   "source": [
    "def make_pizza(size, *toppings):\n",
    "    \"\"\"概述要制作的⽐萨\"\"\"\n",
    "    print(f\"\\nMaking a {size}-inch pizza with the following toppings:\")\n",
    "    for topping in toppings:\n",
    "        print(f\"- {topping}\")\n",
    "make_pizza(16, 'pepperoni')\n",
    "make_pizza(12, 'mushrooms', 'green peppers', 'extra cheese')"
   ]
  },
  {
   "cell_type": "markdown",
   "id": "87b09593",
   "metadata": {},
   "source": [
    "### 8.5.2 使⽤任意数量的关键字实参"
   ]
  },
  {
   "cell_type": "code",
   "execution_count": null,
   "id": "d2c7305a",
   "metadata": {},
   "outputs": [],
   "source": [
    "def build_profile(first, last, **user_info):\n",
    "    \"\"\"创建⼀个字典，其中包含我们知道的有关⽤户的⼀切\"\"\"\n",
    "user_info['first_name'] = first\n",
    "user_info['last_name'] = last\n",
    "return user_info\n",
    "user_profile = build_profile('albert', 'einstein',\n",
    "location='princeton',\n",
    "field='physics')\n",
    "print(user_profile)"
   ]
  },
  {
   "cell_type": "markdown",
   "id": "eb615ce7",
   "metadata": {},
   "source": [
    "### 8.6 将函数存储在模块中"
   ]
  },
  {
   "cell_type": "markdown",
   "id": "5565a2d5",
   "metadata": {},
   "source": [
    "### 8.6.1 导⼊整个模块"
   ]
  },
  {
   "cell_type": "code",
   "execution_count": 3,
   "id": "75655beb",
   "metadata": {},
   "outputs": [
    {
     "name": "stdout",
     "output_type": "stream",
     "text": [
      "\n",
      "Making a 16-inch pizza with the following toppings:\n",
      "- pepperoni\n",
      "\n",
      "Making a 12-inch pizza with the following toppings:\n",
      "- mushrooms\n",
      "- green peppers\n",
      "- extra cheese\n"
     ]
    }
   ],
   "source": [
    "def make_pizza(size, *toppings):\n",
    "    \"\"\"概述要制作的⽐萨\"\"\"\n",
    "    print(f\"\\nMaking a {size}-inch pizza with the following toppings:\")\n",
    "    for topping in toppings:\n",
    "        print(f\"- {topping}\")\n",
    "import pizza\n",
    "pizza.make_pizza(16, 'pepperoni')\n",
    "pizza.make_pizza(12, 'mushrooms', 'green peppers', 'extra cheese')    "
   ]
  },
  {
   "cell_type": "markdown",
   "id": "e01ea20d",
   "metadata": {},
   "source": [
    "### 8.6.2 导⼊特定的函数"
   ]
  },
  {
   "cell_type": "code",
   "execution_count": null,
   "id": "f498124f",
   "metadata": {},
   "outputs": [],
   "source": [
    "from module_name import function_name\n",
    "from module_name import function_0, function_1, function_2\n",
    "from pizza import make_pizza\n",
    "make_pizza(16, 'pepperoni')\n",
    "make_pizza(12, 'mushrooms', 'green peppers', 'extra cheese')"
   ]
  },
  {
   "cell_type": "markdown",
   "id": "d6d4a44e",
   "metadata": {},
   "source": [
    "### 8.6.3 使⽤ as 给函数指定别名"
   ]
  },
  {
   "cell_type": "code",
   "execution_count": 1,
   "id": "42a6f694",
   "metadata": {},
   "outputs": [
    {
     "name": "stdout",
     "output_type": "stream",
     "text": [
      "\n",
      "Making a 16-inch pizza with the following toppings:\n",
      "- pepperoni\n",
      "\n",
      "Making a 12-inch pizza with the following toppings:\n",
      "- mushrooms\n",
      "- green peppers\n",
      "- extra cheese\n"
     ]
    }
   ],
   "source": [
    "from pizza import make_pizza as mp\n",
    "mp(16, 'pepperoni')\n",
    "mp(12, 'mushrooms', 'green peppers', 'extra cheese')"
   ]
  },
  {
   "cell_type": "code",
   "execution_count": null,
   "id": "9266bddc",
   "metadata": {},
   "outputs": [],
   "source": [
    "from module_name import function_name as fn"
   ]
  },
  {
   "cell_type": "markdown",
   "id": "08f51199",
   "metadata": {},
   "source": [
    "### 8.6.4 使⽤ as 给模块指定别名"
   ]
  },
  {
   "cell_type": "code",
   "execution_count": 6,
   "id": "699cfd95",
   "metadata": {},
   "outputs": [
    {
     "name": "stdout",
     "output_type": "stream",
     "text": [
      "\n",
      "Making a 16-inch pizza with the following toppings:\n",
      "- pepperoni\n",
      "\n",
      "Making a 12-inch pizza with the following toppings:\n",
      "- mushrooms\n",
      "- green peppers\n",
      "- extra cheese\n"
     ]
    }
   ],
   "source": [
    "import pizza as p\n",
    "p.make_pizza(16, 'pepperoni')\n",
    "p.make_pizza(12, 'mushrooms', 'green peppers', 'extra cheese')"
   ]
  },
  {
   "cell_type": "markdown",
   "id": "000ff214",
   "metadata": {},
   "source": [
    "### 8.6.5 导⼊模块中的所有函数"
   ]
  },
  {
   "cell_type": "code",
   "execution_count": 7,
   "id": "8b02b80b",
   "metadata": {},
   "outputs": [
    {
     "name": "stdout",
     "output_type": "stream",
     "text": [
      "\n",
      "Making a 16-inch pizza with the following toppings:\n",
      "- pepperoni\n",
      "\n",
      "Making a 12-inch pizza with the following toppings:\n",
      "- mushrooms\n",
      "- green peppers\n",
      "- extra cheese\n"
     ]
    }
   ],
   "source": [
    "from pizza import *\n",
    "make_pizza(16, 'pepperoni')\n",
    "make_pizza(12, 'mushrooms', 'green peppers', 'extra cheese')"
   ]
  },
  {
   "cell_type": "markdown",
   "id": "30ec2a14",
   "metadata": {},
   "source": [
    "## 8.7 函数编写指南"
   ]
  },
  {
   "cell_type": "code",
   "execution_count": null,
   "id": "5177bced",
   "metadata": {},
   "outputs": [],
   "source": [
    "#在给形参指定默认值时，等号两边不要有空格：\n",
    "def function_name(parameter_0, parameter_1='default value')\n",
    "#函数调⽤中的关键字实参也应遵循这种约定：\n",
    "function_name(value_0, parameter_1='value')\n"
   ]
  },
  {
   "cell_type": "markdown",
   "id": "aec13fc3",
   "metadata": {},
   "source": [
    "### 练习 8.1：消息 编写⼀个名为display_message() 的函数，让它打印⼀个句⼦，指出本章的主题是什么。调⽤这个函数，确认显⽰的消息正确⽆误"
   ]
  },
  {
   "cell_type": "code",
   "execution_count": 1,
   "id": "bdafe6d0",
   "metadata": {},
   "outputs": [
    {
     "name": "stdout",
     "output_type": "stream",
     "text": [
      "本章的主题是函数。\n"
     ]
    }
   ],
   "source": [
    "def display_message():\n",
    "    \"\"\"打印本章主题的消息\"\"\"\n",
    "    print(\"本章的主题是函数。\")\n",
    "\n",
    "# 调用函数显示消息\n",
    "display_message()\n"
   ]
  },
  {
   "cell_type": "markdown",
   "id": "71915739",
   "metadata": {},
   "source": [
    "### 练习 8.2：喜欢的书 编写⼀个名为 favorite_book() 的函数，其中包含⼀个名为 title 的形参。让这个函数打印⼀条像下⾯这样的消息。One of my favorite books is Alice in Wonderland.调⽤这个函数，并将⼀本书的书名作为实参传递给它。"
   ]
  },
  {
   "cell_type": "code",
   "execution_count": 2,
   "id": "77b69845",
   "metadata": {},
   "outputs": [
    {
     "name": "stdout",
     "output_type": "stream",
     "text": [
      "One of my favorite books is Alice in Wonderland.\n"
     ]
    }
   ],
   "source": [
    "def favorite_book(title):\n",
    "    \"\"\"打印喜欢的书籍消息\"\"\"\n",
    "    print(f\"One of my favorite books is {title}.\")\n",
    "\n",
    "# 调用函数，并传递一本书的书名作为实参\n",
    "favorite_book(\"Alice in Wonderland\")\n"
   ]
  },
  {
   "cell_type": "markdown",
   "id": "c49d0521",
   "metadata": {},
   "source": [
    "### 练习 8.3：T 恤\n"
   ]
  },
  {
   "cell_type": "code",
   "execution_count": 3,
   "id": "bd10df1a",
   "metadata": {},
   "outputs": [
    {
     "name": "stdout",
     "output_type": "stream",
     "text": [
      "A shirt with size M and message 'Hello, China!' will be made.\n",
      "A shirt with size L and message 'Python is cool!' will be made.\n"
     ]
    }
   ],
   "source": [
    "def make_shirt(size, message):\n",
    "    \"\"\"制作T恤并打印消息\"\"\"\n",
    "    print(f\"A shirt with size {size} and message '{message}' will be made.\")\n",
    "\n",
    "# 使用位置实参调用函数\n",
    "make_shirt(\"M\", \"Hello, China!\")\n",
    "\n",
    "# 使用关键字实参调用函数\n",
    "make_shirt(size=\"L\", message=\"Python is cool!\")\n"
   ]
  },
  {
   "cell_type": "markdown",
   "id": "d57d0297",
   "metadata": {},
   "source": [
    "### 练习 8.4：⼤号 T 恤"
   ]
  },
  {
   "cell_type": "code",
   "execution_count": 5,
   "id": "28453a0f",
   "metadata": {},
   "outputs": [
    {
     "name": "stdout",
     "output_type": "stream",
     "text": [
      "A 大号 shirt with message 'I love Python' will be made.\n",
      "A 中号 shirt with message 'I love Python' will be made.\n",
      "A 大号 shirt with message 'Hello, China!' will be made.\n"
     ]
    }
   ],
   "source": [
    "def make_shirt(size=\"大号\", message=\"I love Python\"):\n",
    "    \"\"\"制作T恤并打印消息\"\"\"\n",
    "    print(f\"A {size} shirt with message '{message}' will be made.\")\n",
    "\n",
    "# 制作印有默认字样的大号T恤\n",
    "make_shirt()\n",
    "\n",
    "# 制作印有默认字样的中号T恤\n",
    "make_shirt(\"中号\")\n",
    "\n",
    "# 制作印有其他字样的T恤，尺码无关紧要\n",
    "make_shirt(message=\"Hello, China!\")\n",
    "\n"
   ]
  },
  {
   "cell_type": "markdown",
   "id": "7daa628b",
   "metadata": {},
   "source": [
    "### 练习 8.5：城市"
   ]
  },
  {
   "cell_type": "code",
   "execution_count": 6,
   "id": "817f6847",
   "metadata": {},
   "outputs": [
    {
     "name": "stdout",
     "output_type": "stream",
     "text": [
      "Reykjavik is in Iceland.\n",
      "Paris is in France.\n",
      "Tokyo is in Japan.\n"
     ]
    }
   ],
   "source": [
    "def describe_city(city, country=\"Iceland\"):\n",
    "    \"\"\"描述城市所属的国家\"\"\"\n",
    "    print(f\"{city} is in {country}.\")\n",
    "\n",
    "# 调用函数并指定默认国家的城市\n",
    "describe_city(\"Reykjavik\")\n",
    "\n",
    "# 调用函数并指定其他国家的城市\n",
    "describe_city(\"Paris\", \"France\")\n",
    "describe_city(\"Tokyo\", \"Japan\")\n"
   ]
  },
  {
   "cell_type": "markdown",
   "id": "b044269f",
   "metadata": {},
   "source": [
    "### 练习 8.6：城市名"
   ]
  },
  {
   "cell_type": "code",
   "execution_count": 7,
   "id": "2430370d",
   "metadata": {},
   "outputs": [
    {
     "name": "stdout",
     "output_type": "stream",
     "text": [
      "Santiago, Chile\n",
      "Paris, France\n",
      "Tokyo, Japan\n"
     ]
    }
   ],
   "source": [
    "def city_country(city, country):\n",
    "    \"\"\"返回城市和国家的格式化字符串\"\"\"\n",
    "    return f\"{city}, {country}\"\n",
    "\n",
    "# 调用函数并打印返回的值\n",
    "print(city_country(\"Santiago\", \"Chile\"))\n",
    "print(city_country(\"Paris\", \"France\"))\n",
    "print(city_country(\"Tokyo\", \"Japan\"))\n"
   ]
  },
  {
   "cell_type": "markdown",
   "id": "2f340388",
   "metadata": {},
   "source": [
    "### 练习 8.7：专辑 "
   ]
  },
  {
   "cell_type": "code",
   "execution_count": 8,
   "id": "4b680581",
   "metadata": {},
   "outputs": [
    {
     "name": "stdout",
     "output_type": "stream",
     "text": [
      "{'artist': 'Taylor Swift', 'title': 'Fearless'}\n",
      "{'artist': 'Ed Sheeran', 'title': '÷', 'tracks': 16}\n",
      "{'artist': 'Beyoncé', 'title': 'Lemonade', 'tracks': 12}\n"
     ]
    }
   ],
   "source": [
    "def make_album(artist, title, tracks=None):\n",
    "    \"\"\"创建描述音乐专辑的字典\"\"\"\n",
    "    album = {'artist': artist, 'title': title}\n",
    "    if tracks:\n",
    "        album['tracks'] = tracks\n",
    "    return album\n",
    "\n",
    "# 创建三个不同专辑的字典并打印返回的值\n",
    "print(make_album(\"Taylor Swift\", \"Fearless\"))\n",
    "print(make_album(\"Ed Sheeran\", \"÷\", 16))\n",
    "print(make_album(\"Beyoncé\", \"Lemonade\", 12))\n"
   ]
  },
  {
   "cell_type": "markdown",
   "id": "de68e5d0",
   "metadata": {},
   "source": [
    "### 练习 8.7：专辑 \n"
   ]
  },
  {
   "cell_type": "code",
   "execution_count": 9,
   "id": "02c60179",
   "metadata": {},
   "outputs": [
    {
     "name": "stdout",
     "output_type": "stream",
     "text": [
      "{'artist': 'Taylor Swift', 'title': '1989', 'num_songs': 13}\n",
      "{'artist': 'Ed Sheeran', 'title': '÷'}\n",
      "{'artist': 'Beyoncé', 'title': 'Lemonade', 'num_songs': 12}\n",
      "\n",
      "输入 'quit' 退出.\n",
      "请输入歌手名: woozi\n",
      "请输入专辑名: face the sun\n",
      "请输入歌曲数 (可选): 11\n",
      "{'artist': 'woozi', 'title': 'face the sun', 'num_songs': 11}\n",
      "\n",
      "输入 'quit' 退出.\n",
      "请输入歌手名: quit\n"
     ]
    }
   ],
   "source": [
    "def make_album(artist_name, album_title, num_songs=None):\n",
    "    album = {'artist': artist_name, 'title': album_title}\n",
    "    if num_songs:\n",
    "        album['num_songs'] = num_songs\n",
    "    return album\n",
    "\n",
    "# 创建三个不同专辑的字典并打印\n",
    "album1 = make_album('Taylor Swift', '1989', 13)\n",
    "album2 = make_album('Ed Sheeran', '÷')\n",
    "album3 = make_album('Beyoncé', 'Lemonade', 12)\n",
    "\n",
    "print(album1)\n",
    "print(album2)\n",
    "print(album3)\n",
    "\n",
    "# 通过用户输入创建专辑字典\n",
    "while True:\n",
    "    print(\"\\n输入 'quit' 退出.\")\n",
    "    artist = input(\"请输入歌手名: \")\n",
    "    if artist == 'quit':\n",
    "        break\n",
    "    title = input(\"请输入专辑名: \")\n",
    "    if title == 'quit':\n",
    "        break\n",
    "    songs = input(\"请输入歌曲数 (可选): \")\n",
    "    if songs.isdigit():\n",
    "        songs = int(songs)\n",
    "        album = make_album(artist, title, songs)\n",
    "    else:\n",
    "        album = make_album(artist, title)\n",
    "    \n",
    "    print(album)\n"
   ]
  },
  {
   "cell_type": "markdown",
   "id": "11cd2880",
   "metadata": {},
   "source": [
    "### 练习 8.9：消息"
   ]
  },
  {
   "cell_type": "code",
   "execution_count": 10,
   "id": "9dba0987",
   "metadata": {},
   "outputs": [
    {
     "name": "stdout",
     "output_type": "stream",
     "text": [
      "Hello!\n",
      "How are you?\n",
      "Remember to finish your tasks.\n",
      "Have a great day!\n"
     ]
    }
   ],
   "source": [
    "def show_messages(messages):\n",
    "    for message in messages:\n",
    "        print(message)\n",
    "\n",
    "# 创建包含一系列简短文本消息的列表\n",
    "messages = [\n",
    "    \"Hello!\",\n",
    "    \"How are you?\",\n",
    "    \"Remember to finish your tasks.\",\n",
    "    \"Have a great day!\"\n",
    "]\n",
    "\n",
    "# 调用 show_messages() 函数打印消息列表中的每条消息\n",
    "show_messages(messages)\n"
   ]
  },
  {
   "cell_type": "markdown",
   "id": "a02d02d4",
   "metadata": {},
   "source": [
    "### 练习 8.10：发送消息"
   ]
  },
  {
   "cell_type": "code",
   "execution_count": 11,
   "id": "2467fb4b",
   "metadata": {},
   "outputs": [
    {
     "name": "stdout",
     "output_type": "stream",
     "text": [
      "Sending message: Hello!\n",
      "Sending message: How are you?\n",
      "Sending message: Remember to finish your tasks.\n",
      "Sending message: Have a great day!\n",
      "\n",
      "已发送的消息:\n",
      "Hello!\n",
      "How are you?\n",
      "Remember to finish your tasks.\n",
      "Have a great day!\n",
      "\n",
      "剩余的消息:\n"
     ]
    }
   ],
   "source": [
    "def send_messages(messages, sent_messages):\n",
    "    while messages:\n",
    "        current_message = messages.pop(0)\n",
    "        print(\"Sending message:\", current_message)\n",
    "        sent_messages.append(current_message)\n",
    "\n",
    "# 创建包含一系列简短文本消息的列表\n",
    "messages = [\n",
    "    \"Hello!\",\n",
    "    \"How are you?\",\n",
    "    \"Remember to finish your tasks.\",\n",
    "    \"Have a great day!\"\n",
    "]\n",
    "\n",
    "# 创建一个空列表用于存储已发送的消息\n",
    "sent_messages = []\n",
    "\n",
    "# 调用 send_messages() 函数发送消息并将其移动到 sent_messages 列表中\n",
    "send_messages(messages, sent_messages)\n",
    "\n",
    "# 打印发送的消息\n",
    "print(\"\\n已发送的消息:\")\n",
    "for message in sent_messages:\n",
    "    print(message)\n",
    "\n",
    "# 打印剩余的消息\n",
    "print(\"\\n剩余的消息:\")\n",
    "for message in messages:\n",
    "    print(message)\n"
   ]
  },
  {
   "cell_type": "markdown",
   "id": "4558a69a",
   "metadata": {},
   "source": [
    "### 练习 8.11：消息归档"
   ]
  },
  {
   "cell_type": "code",
   "execution_count": 12,
   "id": "b79a33cc",
   "metadata": {},
   "outputs": [
    {
     "name": "stdout",
     "output_type": "stream",
     "text": [
      "Sending message: Hello!\n",
      "Sending message: How are you?\n",
      "Sending message: Remember to finish your tasks.\n",
      "Sending message: Have a great day!\n",
      "\n",
      "已发送的消息:\n",
      "Hello!\n",
      "How are you?\n",
      "Remember to finish your tasks.\n",
      "Have a great day!\n",
      "\n",
      "原始的消息列表:\n",
      "Hello!\n",
      "How are you?\n",
      "Remember to finish your tasks.\n",
      "Have a great day!\n"
     ]
    }
   ],
   "source": [
    "def send_messages(messages, sent_messages):\n",
    "    while messages:\n",
    "        current_message = messages.pop(0)\n",
    "        print(\"Sending message:\", current_message)\n",
    "        sent_messages.append(current_message)\n",
    "\n",
    "# 创建包含一系列简短文本消息的列表\n",
    "messages = [\n",
    "    \"Hello!\",\n",
    "    \"How are you?\",\n",
    "    \"Remember to finish your tasks.\",\n",
    "    \"Have a great day!\"\n",
    "]\n",
    "\n",
    "# 创建一个空列表用于存储已发送的消息\n",
    "sent_messages = []\n",
    "\n",
    "# 调用 send_messages() 函数发送消息并将其移动到 sent_messages 列表中，传递消息列表的副本\n",
    "send_messages(messages.copy(), sent_messages)\n",
    "\n",
    "# 打印发送的消息\n",
    "print(\"\\n已发送的消息:\")\n",
    "for message in sent_messages:\n",
    "    print(message)\n",
    "\n",
    "# 打印原始的消息列表\n",
    "print(\"\\n原始的消息列表:\")\n",
    "for message in messages:\n",
    "    print(message)\n"
   ]
  },
  {
   "cell_type": "markdown",
   "id": "10fdb514",
   "metadata": {},
   "source": [
    "### 练习 8.12：三明治"
   ]
  },
  {
   "cell_type": "code",
   "execution_count": 13,
   "id": "755893c3",
   "metadata": {},
   "outputs": [
    {
     "name": "stdout",
     "output_type": "stream",
     "text": [
      "Making a sandwich with the following ingredients:\n",
      "- ham\n",
      "- cheese\n",
      "- lettuce\n",
      "Making a sandwich with the following ingredients:\n",
      "- turkey\n",
      "- bacon\n",
      "- tomato\n",
      "- mayonnaise\n",
      "Making a sandwich with the following ingredients:\n",
      "- peanut butter\n",
      "- jelly\n"
     ]
    }
   ],
   "source": [
    "def make_sandwich(*ingredients):\n",
    "    print(\"Making a sandwich with the following ingredients:\")\n",
    "    for ingredient in ingredients:\n",
    "        print(\"- \" + ingredient)\n",
    "\n",
    "# 第一次调用 make_sandwich() 函数\n",
    "make_sandwich(\"ham\", \"cheese\", \"lettuce\")\n",
    "\n",
    "# 第二次调用 make_sandwich() 函数\n",
    "make_sandwich(\"turkey\", \"bacon\", \"tomato\", \"mayonnaise\")\n",
    "\n",
    "# 第三次调用 make_sandwich() 函数\n",
    "make_sandwich(\"peanut butter\", \"jelly\")\n"
   ]
  },
  {
   "cell_type": "markdown",
   "id": "73bc75b4",
   "metadata": {},
   "source": [
    "### 练习 8.13：⽤户简介"
   ]
  },
  {
   "cell_type": "code",
   "execution_count": 14,
   "id": "2d3fc1d4",
   "metadata": {},
   "outputs": [
    {
     "name": "stdout",
     "output_type": "stream",
     "text": [
      "{'first_name': 'John', 'last_name': 'Doe', 'age': 30, 'occupation': 'Software Engineer', 'country': 'USA'}\n"
     ]
    }
   ],
   "source": [
    "def build_profile(first_name, last_name, **user_info):\n",
    "    profile = {'first_name': first_name, 'last_name': last_name}\n",
    "    for key, value in user_info.items():\n",
    "        profile[key] = value\n",
    "    return profile\n",
    "\n",
    "# 调用 build_profile() 函数创建关于你的简介\n",
    "my_profile = build_profile('John', 'Doe', age=30, occupation='Software Engineer', country='USA')\n",
    "\n",
    "# 打印简介\n",
    "print(my_profile)\n",
    "\n"
   ]
  },
  {
   "cell_type": "markdown",
   "id": "f305181a",
   "metadata": {},
   "source": [
    "### 练习 8.14：汽⻋"
   ]
  },
  {
   "cell_type": "code",
   "execution_count": 15,
   "id": "04067452",
   "metadata": {},
   "outputs": [
    {
     "name": "stdout",
     "output_type": "stream",
     "text": [
      "{'manufacturer': 'subaru', 'model': 'outback', 'color': 'blue', 'tow_package': True}\n"
     ]
    }
   ],
   "source": [
    "def make_car(manufacturer, model, **car_info):\n",
    "    car = {'manufacturer': manufacturer, 'model': model}\n",
    "    for key, value in car_info.items():\n",
    "        car[key] = value\n",
    "    return car\n",
    "\n",
    "# 调用 make_car() 函数创建汽车信息的字典\n",
    "car = make_car('subaru', 'outback', color='blue', tow_package=True)\n",
    "\n",
    "# 打印返回的字典\n",
    "print(car)\n"
   ]
  },
  {
   "cell_type": "markdown",
   "id": "b46a2969",
   "metadata": {},
   "source": [
    "### 练习 8.15：打印模型"
   ]
  },
  {
   "cell_type": "code",
   "execution_count": 9,
   "id": "2edc4ca1",
   "metadata": {},
   "outputs": [],
   "source": [
    "def print_models(unprinted_designs, completed_models):\n",
    "    \"\"\"\n",
    "    模拟打印每个设计，直到没有未打印的设计为止\n",
    "    打印每个设计后，都将其移到列表completed_models中\n",
    "    \"\"\"\n",
    "    while unprinted_designs:\n",
    "        current_design = unprinted_designs.pop()\n",
    "        print(\"Printing model: \" + current_design)\n",
    "        completed_models.append(current_design)\n",
    "\n",
    "def show_completed_models(completed_models):\n",
    "    \"\"\"显示打印好的所有模型\"\"\"\n",
    "    print(\"\\nThe following models have been printed:\")\n",
    "    for completed_model in completed_models:\n",
    "        print(completed_model)\n",
    "        \n",
    "from printing_functions import print_models, show_completed_models\n",
    "\n",
    "unprinted_designs = ['iphone case', 'robot pendant', 'dodecahedron']\n",
    "completed_models = []\n",
    "\n",
    "print_models(unprinted_designs, completed_models)\n",
    "show_completed_models(completed_models)\n"
   ]
  },
  {
   "cell_type": "markdown",
   "id": "5a1886f3",
   "metadata": {},
   "source": [
    "### 练习 8.16：导⼊"
   ]
  },
  {
   "cell_type": "code",
   "execution_count": 11,
   "id": "1ea5ee44",
   "metadata": {},
   "outputs": [],
   "source": [
    "def my_function():\n",
    "    print(\"This is my function\")"
   ]
  },
  {
   "cell_type": "code",
   "execution_count": 12,
   "id": "0485315c",
   "metadata": {},
   "outputs": [],
   "source": [
    "def my_function():\n",
    "    print(\"This is my function\")"
   ]
  },
  {
   "cell_type": "code",
   "execution_count": null,
   "id": "85722529",
   "metadata": {},
   "outputs": [],
   "source": [
    "# 方法1：import module_name\n",
    "import my_module\n",
    "my_module.my_function()\n",
    "\n",
    "# 方法2：from module_name import function_name\n",
    "from my_module import my_function\n",
    "my_function()\n",
    "\n",
    "# 方法3：from module_name import function_name as fn\n",
    "from my_module import my_function as fn\n",
    "fn()\n",
    "\n",
    "# 方法4：import module_name as mn\n",
    "import my_module as mn\n",
    "mn.my_function()\n",
    "\n",
    "# 方法5：from module_name import *\n",
    "from my_module import *\n",
    "my_function()"
   ]
  }
 ],
 "metadata": {
  "kernelspec": {
   "display_name": "Python 3 (ipykernel)",
   "language": "python",
   "name": "python3"
  },
  "language_info": {
   "codemirror_mode": {
    "name": "ipython",
    "version": 3
   },
   "file_extension": ".py",
   "mimetype": "text/x-python",
   "name": "python",
   "nbconvert_exporter": "python",
   "pygments_lexer": "ipython3",
   "version": "3.11.5"
  }
 },
 "nbformat": 4,
 "nbformat_minor": 5
}
