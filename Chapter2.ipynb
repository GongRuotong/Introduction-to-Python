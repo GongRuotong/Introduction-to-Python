{
 "cells": [
  {
   "cell_type": "markdown",
   "id": "b6517bfd",
   "metadata": {},
   "source": [
    "# 第2章 变量与简单的数据类型"
   ]
  },
  {
   "cell_type": "markdown",
   "id": "8bf5cefd",
   "metadata": {},
   "source": [
    "## 2.2变量"
   ]
  },
  {
   "cell_type": "code",
   "execution_count": 1,
   "id": "1d3ed427",
   "metadata": {
    "scrolled": true
   },
   "outputs": [
    {
     "name": "stdout",
     "output_type": "stream",
     "text": [
      "Hello Python world\n"
     ]
    }
   ],
   "source": [
    "# 向大家问好\n",
    "print(\"Hello Python world\")"
   ]
  },
  {
   "cell_type": "code",
   "execution_count": 4,
   "id": "ccdf1135",
   "metadata": {},
   "outputs": [
    {
     "name": "stdout",
     "output_type": "stream",
     "text": [
      "Hello\n",
      "Pyhon\n",
      "World\n",
      "\n"
     ]
    }
   ],
   "source": [
    "print(\"\"\"Hello\n",
    "Pyhon\n",
    "World\n",
    "\"\"\")"
   ]
  },
  {
   "cell_type": "markdown",
   "id": "dba2242c",
   "metadata": {},
   "source": [
    "## 2.3字符串"
   ]
  },
  {
   "cell_type": "code",
   "execution_count": 8,
   "id": "08fdbd18",
   "metadata": {},
   "outputs": [
    {
     "name": "stdout",
     "output_type": "stream",
     "text": [
      "Ada Lovecase\n",
      "ADA LOVECASE\n",
      "ada lovecase\n"
     ]
    }
   ],
   "source": [
    "message = \"ada lovecase\"\n",
    "message = message.title()\n",
    "print(message)\n",
    "message = message.upper()\n",
    "print(message)\n",
    "message = message.lower()\n",
    "print(message)"
   ]
  },
  {
   "cell_type": "code",
   "execution_count": 11,
   "id": "5c028daa",
   "metadata": {},
   "outputs": [
    {
     "name": "stdout",
     "output_type": "stream",
     "text": [
      "ada lovecase\n"
     ]
    }
   ],
   "source": [
    "first_name = \"ada\"\n",
    "last_name = \"lovecase\"\n",
    "\n",
    "full_name = f\"{first_name} {last_name}\"\n",
    "print(full_name)"
   ]
  },
  {
   "cell_type": "code",
   "execution_count": 12,
   "id": "9c042614",
   "metadata": {},
   "outputs": [
    {
     "name": "stdout",
     "output_type": "stream",
     "text": [
      "Hello, Ada Lovelace!\n"
     ]
    }
   ],
   "source": [
    "first_name = \"ada\"\n",
    "last_name = \"lovelace\"\n",
    "full_name = f\"{first_name} {last_name}\"\n",
    "print(f\"Hello, {full_name.title()}!\")\n"
   ]
  },
  {
   "cell_type": "markdown",
   "id": "6601d6d0",
   "metadata": {},
   "source": [
    "### 添加空白"
   ]
  },
  {
   "cell_type": "code",
   "execution_count": 11,
   "id": "7888ecc0",
   "metadata": {},
   "outputs": [
    {
     "name": "stdout",
     "output_type": "stream",
     "text": [
      "Python Rust\n",
      "\n",
      "Python\tRust\n",
      "\n",
      "Python\n",
      "Rust\n",
      "\n"
     ]
    }
   ],
   "source": [
    "print('Python Rust')\n",
    "print()\n",
    "print('Python\\tRust')\n",
    "print()\n",
    "print('Python\\nRust')\n",
    "print()"
   ]
  },
  {
   "cell_type": "markdown",
   "id": "e7325dd0",
   "metadata": {},
   "source": [
    "### 删除空白"
   ]
  },
  {
   "cell_type": "code",
   "execution_count": 2,
   "id": "41265cdb",
   "metadata": {},
   "outputs": [
    {
     "data": {
      "text/plain": [
       "'iTruing'"
      ]
     },
     "execution_count": 2,
     "metadata": {},
     "output_type": "execute_result"
    }
   ],
   "source": [
    "' iTruing'.lstrip()"
   ]
  },
  {
   "cell_type": "code",
   "execution_count": 3,
   "id": "48e722cb",
   "metadata": {},
   "outputs": [
    {
     "data": {
      "text/plain": [
       "'iTruing'"
      ]
     },
     "execution_count": 3,
     "metadata": {},
     "output_type": "execute_result"
    }
   ],
   "source": [
    "'iTruing '.rstrip()"
   ]
  },
  {
   "cell_type": "code",
   "execution_count": 5,
   "id": "66d9960d",
   "metadata": {},
   "outputs": [
    {
     "data": {
      "text/plain": [
       "'iTruing'"
      ]
     },
     "execution_count": 5,
     "metadata": {},
     "output_type": "execute_result"
    }
   ],
   "source": [
    "'     iTruing      '.strip()"
   ]
  },
  {
   "cell_type": "code",
   "execution_count": 10,
   "id": "284d3be8",
   "metadata": {},
   "outputs": [
    {
     "data": {
      "text/plain": [
       "'iTruing '"
      ]
     },
     "execution_count": 10,
     "metadata": {},
     "output_type": "execute_result"
    }
   ],
   "source": [
    "'   i   Tr   ui   ng    '.replace(\"   \",\"\")"
   ]
  },
  {
   "cell_type": "markdown",
   "id": "2a853c14",
   "metadata": {},
   "source": [
    "### 删除前缀"
   ]
  },
  {
   "cell_type": "code",
   "execution_count": 12,
   "id": "cc8e77cc",
   "metadata": {},
   "outputs": [
    {
     "name": "stdout",
     "output_type": "stream",
     "text": [
      "www.ituring.com.cn\n"
     ]
    }
   ],
   "source": [
    "url = 'https://www.ituring.com.cn'\n",
    "url = url.removeprefix('https://')\n",
    "print(url)"
   ]
  },
  {
   "cell_type": "code",
   "execution_count": 13,
   "id": "25c74298",
   "metadata": {},
   "outputs": [
    {
     "name": "stdout",
     "output_type": "stream",
     "text": [
      "Life's pathetic,Let's pythonic\n"
     ]
    }
   ],
   "source": [
    "message = \"Life's pathetic,Let's pythonic\"\n",
    "print(message)"
   ]
  },
  {
   "cell_type": "code",
   "execution_count": 15,
   "id": "60c936d3",
   "metadata": {},
   "outputs": [
    {
     "name": "stdout",
     "output_type": "stream",
     "text": [
      "Life's pathetic,Let's pythonic\n"
     ]
    }
   ],
   "source": [
    "message = \"Life\\'s pathetic,Let\\'s pythonic\"\n",
    "print(message)"
   ]
  },
  {
   "cell_type": "code",
   "execution_count": 16,
   "id": "b054bc6a",
   "metadata": {},
   "outputs": [
    {
     "name": "stdout",
     "output_type": "stream",
     "text": [
      "Life's pathetic,Let's pythonic\n"
     ]
    }
   ],
   "source": [
    "# 转义字符：\\\n",
    "message = 'Life\\'s pathetic,Let\\'s pythonic'\n",
    "print(message)"
   ]
  },
  {
   "cell_type": "markdown",
   "id": "aaa2eaa3",
   "metadata": {},
   "source": [
    "### 字符串拼接"
   ]
  },
  {
   "cell_type": "code",
   "execution_count": 17,
   "id": "7d23e99c",
   "metadata": {},
   "outputs": [
    {
     "data": {
      "text/plain": [
       "'HelloiTuring'"
      ]
     },
     "execution_count": 17,
     "metadata": {},
     "output_type": "execute_result"
    }
   ],
   "source": [
    "\"Hello\"+\"iTuring\""
   ]
  },
  {
   "cell_type": "code",
   "execution_count": 18,
   "id": "aa0eb5ee",
   "metadata": {},
   "outputs": [
    {
     "data": {
      "text/plain": [
       "'Hello iTuring'"
      ]
     },
     "execution_count": 18,
     "metadata": {},
     "output_type": "execute_result"
    }
   ],
   "source": [
    "\"Hello \"+\"iTuring\""
   ]
  },
  {
   "cell_type": "code",
   "execution_count": 20,
   "id": "b94af644",
   "metadata": {},
   "outputs": [
    {
     "data": {
      "text/plain": [
       "'Hello Hello '"
      ]
     },
     "execution_count": 20,
     "metadata": {},
     "output_type": "execute_result"
    }
   ],
   "source": [
    "\"Hello \"*2"
   ]
  },
  {
   "cell_type": "markdown",
   "id": "dcd83a95",
   "metadata": {},
   "source": [
    "## 2.4整数和浮点数"
   ]
  },
  {
   "cell_type": "code",
   "execution_count": 21,
   "id": "e0023a02",
   "metadata": {},
   "outputs": [
    {
     "name": "stdout",
     "output_type": "stream",
     "text": [
      "1\n",
      "1.5\n"
     ]
    }
   ],
   "source": [
    "print(1)\n",
    "print(1.5)"
   ]
  },
  {
   "cell_type": "code",
   "execution_count": 22,
   "id": "b0a0d939",
   "metadata": {},
   "outputs": [
    {
     "name": "stdout",
     "output_type": "stream",
     "text": [
      "1000000\n",
      "1000000\n",
      "1000000.5\n",
      "1000000.5\n"
     ]
    }
   ],
   "source": [
    "print(1000000)\n",
    "print(1_000_000)\n",
    "\n",
    "print(1000000.5)\n",
    "print(1_000_000.5)"
   ]
  },
  {
   "cell_type": "code",
   "execution_count": 23,
   "id": "030ed796",
   "metadata": {},
   "outputs": [
    {
     "name": "stdout",
     "output_type": "stream",
     "text": [
      "6\n",
      "4.5\n",
      "3\n",
      "3.0\n"
     ]
    }
   ],
   "source": [
    "print(3+3)\n",
    "print(2.5+2)\n",
    "print(1+2)\n",
    "print(1.5+1.5)"
   ]
  },
  {
   "cell_type": "code",
   "execution_count": 24,
   "id": "c2da9c50",
   "metadata": {},
   "outputs": [
    {
     "name": "stdout",
     "output_type": "stream",
     "text": [
      "0\n",
      "0.5\n",
      "-1\n",
      "0.0\n"
     ]
    }
   ],
   "source": [
    "print(3-3)\n",
    "print(2.5-2)\n",
    "print(1-2)\n",
    "print(1.5-1.5)"
   ]
  },
  {
   "cell_type": "code",
   "execution_count": 25,
   "id": "8aac597e",
   "metadata": {},
   "outputs": [
    {
     "name": "stdout",
     "output_type": "stream",
     "text": [
      "9\n",
      "5.0\n",
      "2\n",
      "2.25\n"
     ]
    }
   ],
   "source": [
    "print(3*3)\n",
    "print(2.5*2)\n",
    "print(1*2)\n",
    "print(1.5*1.5)"
   ]
  },
  {
   "cell_type": "code",
   "execution_count": 26,
   "id": "d15ea62c",
   "metadata": {},
   "outputs": [
    {
     "name": "stdout",
     "output_type": "stream",
     "text": [
      "1.0\n",
      "1.25\n",
      "0.5\n",
      "1.0\n"
     ]
    }
   ],
   "source": [
    "print(3/3)\n",
    "print(2.5/2)\n",
    "print(1/2)\n",
    "print(1.5/1.5)"
   ]
  },
  {
   "cell_type": "code",
   "execution_count": 27,
   "id": "2f5258a1",
   "metadata": {},
   "outputs": [
    {
     "name": "stdout",
     "output_type": "stream",
     "text": [
      "1\n",
      "1.0\n",
      "0\n",
      "1.0\n"
     ]
    }
   ],
   "source": [
    "print(3//3)\n",
    "print(2.5//2)\n",
    "print(1//2)\n",
    "print(1.5//1.5)"
   ]
  },
  {
   "cell_type": "code",
   "execution_count": 28,
   "id": "d745cf51",
   "metadata": {},
   "outputs": [
    {
     "name": "stdout",
     "output_type": "stream",
     "text": [
      "27\n",
      "6.25\n",
      "1\n",
      "1.8371173070873836\n"
     ]
    }
   ],
   "source": [
    "print(3**3)\n",
    "print(2.5**2)\n",
    "print(1**2)\n",
    "print(1.5**1.5)"
   ]
  },
  {
   "cell_type": "markdown",
   "id": "f1463874",
   "metadata": {},
   "source": [
    "# 2.4布尔值"
   ]
  },
  {
   "cell_type": "code",
   "execution_count": 29,
   "id": "8e9b172f",
   "metadata": {},
   "outputs": [
    {
     "name": "stdout",
     "output_type": "stream",
     "text": [
      "True\n",
      "False\n"
     ]
    }
   ],
   "source": [
    "print(True)\n",
    "print(False)"
   ]
  },
  {
   "cell_type": "code",
   "execution_count": 31,
   "id": "39768069",
   "metadata": {},
   "outputs": [
    {
     "data": {
      "text/plain": [
       "True"
      ]
     },
     "execution_count": 31,
     "metadata": {},
     "output_type": "execute_result"
    }
   ],
   "source": [
    "True==1"
   ]
  },
  {
   "cell_type": "code",
   "execution_count": 32,
   "id": "472c60de",
   "metadata": {},
   "outputs": [
    {
     "data": {
      "text/plain": [
       "True"
      ]
     },
     "execution_count": 32,
     "metadata": {},
     "output_type": "execute_result"
    }
   ],
   "source": [
    "False==0"
   ]
  },
  {
   "cell_type": "code",
   "execution_count": 33,
   "id": "6f03d1dc",
   "metadata": {},
   "outputs": [
    {
     "data": {
      "text/plain": [
       "True"
      ]
     },
     "execution_count": 33,
     "metadata": {},
     "output_type": "execute_result"
    }
   ],
   "source": [
    "1==1"
   ]
  },
  {
   "cell_type": "code",
   "execution_count": 34,
   "id": "05171a99",
   "metadata": {},
   "outputs": [
    {
     "data": {
      "text/plain": [
       "False"
      ]
     },
     "execution_count": 34,
     "metadata": {},
     "output_type": "execute_result"
    }
   ],
   "source": [
    "1==0"
   ]
  },
  {
   "cell_type": "markdown",
   "id": "ce693b2d",
   "metadata": {},
   "source": [
    "# 2.4同时给多个变量赋值"
   ]
  },
  {
   "cell_type": "code",
   "execution_count": 35,
   "id": "de77132b",
   "metadata": {},
   "outputs": [
    {
     "data": {
      "text/plain": [
       "0"
      ]
     },
     "execution_count": 35,
     "metadata": {},
     "output_type": "execute_result"
    }
   ],
   "source": [
    "x, y, z = 0, 0, 0\n",
    "x"
   ]
  },
  {
   "cell_type": "code",
   "execution_count": 36,
   "id": "6d80a255",
   "metadata": {},
   "outputs": [
    {
     "data": {
      "text/plain": [
       "0"
      ]
     },
     "execution_count": 36,
     "metadata": {},
     "output_type": "execute_result"
    }
   ],
   "source": [
    "y"
   ]
  },
  {
   "cell_type": "code",
   "execution_count": 37,
   "id": "7dcc3540",
   "metadata": {},
   "outputs": [
    {
     "data": {
      "text/plain": [
       "0"
      ]
     },
     "execution_count": 37,
     "metadata": {},
     "output_type": "execute_result"
    }
   ],
   "source": [
    "z"
   ]
  },
  {
   "cell_type": "markdown",
   "id": "67c20d68",
   "metadata": {},
   "source": [
    "# 2.4常量"
   ]
  },
  {
   "cell_type": "code",
   "execution_count": 39,
   "id": "707ef55f",
   "metadata": {},
   "outputs": [],
   "source": [
    "MAX_CONNECTIONS=5000"
   ]
  },
  {
   "cell_type": "markdown",
   "id": "7a5fff9e",
   "metadata": {},
   "source": [
    "# 2.5 注释"
   ]
  },
  {
   "cell_type": "code",
   "execution_count": 38,
   "id": "3d5ae05e",
   "metadata": {},
   "outputs": [],
   "source": [
    "# 向大家问好\n",
    "# print(\"Hello Python world\")"
   ]
  },
  {
   "cell_type": "markdown",
   "id": "82c5f602",
   "metadata": {},
   "source": [
    "# 2.6 PYTHON之禅"
   ]
  },
  {
   "cell_type": "code",
   "execution_count": 40,
   "id": "c9367905",
   "metadata": {},
   "outputs": [
    {
     "name": "stdout",
     "output_type": "stream",
     "text": [
      "The Zen of Python, by Tim Peters\n",
      "\n",
      "Beautiful is better than ugly.\n",
      "Explicit is better than implicit.\n",
      "Simple is better than complex.\n",
      "Complex is better than complicated.\n",
      "Flat is better than nested.\n",
      "Sparse is better than dense.\n",
      "Readability counts.\n",
      "Special cases aren't special enough to break the rules.\n",
      "Although practicality beats purity.\n",
      "Errors should never pass silently.\n",
      "Unless explicitly silenced.\n",
      "In the face of ambiguity, refuse the temptation to guess.\n",
      "There should be one-- and preferably only one --obvious way to do it.\n",
      "Although that way may not be obvious at first unless you're Dutch.\n",
      "Now is better than never.\n",
      "Although never is often better than *right* now.\n",
      "If the implementation is hard to explain, it's a bad idea.\n",
      "If the implementation is easy to explain, it may be a good idea.\n",
      "Namespaces are one honking great idea -- let's do more of those!\n"
     ]
    }
   ],
   "source": [
    "import this"
   ]
  },
  {
   "cell_type": "code",
   "execution_count": null,
   "id": "e8341851",
   "metadata": {},
   "outputs": [],
   "source": []
  }
 ],
 "metadata": {
  "kernelspec": {
   "display_name": "Python 3 (ipykernel)",
   "language": "python",
   "name": "python3"
  },
  "language_info": {
   "codemirror_mode": {
    "name": "ipython",
    "version": 3
   },
   "file_extension": ".py",
   "mimetype": "text/x-python",
   "name": "python",
   "nbconvert_exporter": "python",
   "pygments_lexer": "ipython3",
   "version": "3.11.5"
  }
 },
 "nbformat": 4,
 "nbformat_minor": 5
}
