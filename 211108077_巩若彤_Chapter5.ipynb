{
 "cells": [
  {
   "cell_type": "markdown",
   "id": "c1a6abbb",
   "metadata": {},
   "source": [
    "# 5 if语句"
   ]
  },
  {
   "cell_type": "markdown",
   "id": "200147d3",
   "metadata": {},
   "source": [
    "## 5.1 ⼀个简单的⽰例"
   ]
  },
  {
   "cell_type": "code",
   "execution_count": 1,
   "id": "f64598d9",
   "metadata": {},
   "outputs": [
    {
     "name": "stdout",
     "output_type": "stream",
     "text": [
      "Audi\n",
      "BMW\n",
      "Subaru\n",
      "Toyota\n"
     ]
    }
   ],
   "source": [
    "cars = ['audi', 'bmw', 'subaru', 'toyota']\n",
    "for car in cars:\n",
    "    if car == 'bmw':#判断两侧是否相等\n",
    "        print(car.upper())\n",
    "    else:\n",
    "        print(car.title())"
   ]
  },
  {
   "cell_type": "code",
   "execution_count": 2,
   "id": "a5cd151e",
   "metadata": {},
   "outputs": [
    {
     "name": "stdout",
     "output_type": "stream",
     "text": [
      "JUN\n",
      "The8\n",
      "Woozi\n",
      "Vernon\n"
     ]
    }
   ],
   "source": [
    "idols = ['jun','the8','woozi','vernon']\n",
    "for idol in idols:\n",
    "    if idol == 'jun':\n",
    "        print(idol.upper())\n",
    "    else:\n",
    "        print(idol.title())"
   ]
  },
  {
   "cell_type": "markdown",
   "id": "a2e8e8e0",
   "metadata": {},
   "source": [
    "## 5.2 条件测试"
   ]
  },
  {
   "cell_type": "markdown",
   "id": "26f7ae7b",
   "metadata": {},
   "source": [
    "### 5.2.1 检查是否相等"
   ]
  },
  {
   "cell_type": "code",
   "execution_count": 1,
   "id": "83fa366f",
   "metadata": {},
   "outputs": [
    {
     "data": {
      "text/plain": [
       "True"
      ]
     },
     "execution_count": 1,
     "metadata": {},
     "output_type": "execute_result"
    }
   ],
   "source": [
    "car = 'bmw'\n",
    "car == 'bmw'"
   ]
  },
  {
   "cell_type": "code",
   "execution_count": 5,
   "id": "a6145a5c",
   "metadata": {},
   "outputs": [
    {
     "data": {
      "text/plain": [
       "False"
      ]
     },
     "execution_count": 5,
     "metadata": {},
     "output_type": "execute_result"
    }
   ],
   "source": [
    "car = 'Audi'\n",
    "car == 'audi'"
   ]
  },
  {
   "cell_type": "markdown",
   "id": "84ba45b0",
   "metadata": {},
   "source": [
    "### 5.2.2 如何在检查是否相等时忽略⼤⼩写"
   ]
  },
  {
   "cell_type": "code",
   "execution_count": 4,
   "id": "b8e4f829",
   "metadata": {},
   "outputs": [
    {
     "data": {
      "text/plain": [
       "True"
      ]
     },
     "execution_count": 4,
     "metadata": {},
     "output_type": "execute_result"
    }
   ],
   "source": [
    "car = 'Audi'\n",
    "car.lower() == 'audi'\n",
    "\n"
   ]
  },
  {
   "cell_type": "markdown",
   "id": "e92cbf8c",
   "metadata": {},
   "source": [
    "### 5.2.3 检查是否不等"
   ]
  },
  {
   "cell_type": "code",
   "execution_count": 7,
   "id": "34516ca7",
   "metadata": {},
   "outputs": [
    {
     "name": "stdout",
     "output_type": "stream",
     "text": [
      "True\n",
      "False\n"
     ]
    }
   ],
   "source": [
    "car = 'Audi'\n",
    "print(car != 'audi')\n",
    "print(car.lower() != 'audi')"
   ]
  },
  {
   "cell_type": "code",
   "execution_count": 8,
   "id": "3b32ada7",
   "metadata": {},
   "outputs": [
    {
     "name": "stdout",
     "output_type": "stream",
     "text": [
      "False\n",
      "True\n"
     ]
    }
   ],
   "source": [
    "drink = 'cola'\n",
    "print(drink != 'cola') # !是not\n",
    "print(drink.upper() != 'cola')"
   ]
  },
  {
   "cell_type": "markdown",
   "id": "402e6899",
   "metadata": {},
   "source": [
    "### 5.2.4 数值⽐较"
   ]
  },
  {
   "cell_type": "code",
   "execution_count": 9,
   "id": "8eb6b29c",
   "metadata": {},
   "outputs": [
    {
     "data": {
      "text/plain": [
       "True"
      ]
     },
     "execution_count": 9,
     "metadata": {},
     "output_type": "execute_result"
    }
   ],
   "source": [
    "age = 19\n",
    "age < 21"
   ]
  },
  {
   "cell_type": "code",
   "execution_count": 6,
   "id": "ac14193b",
   "metadata": {},
   "outputs": [
    {
     "data": {
      "text/plain": [
       "True"
      ]
     },
     "execution_count": 6,
     "metadata": {},
     "output_type": "execute_result"
    }
   ],
   "source": [
    "age = 19\n",
    "age <= 21\n"
   ]
  },
  {
   "cell_type": "code",
   "execution_count": 2,
   "id": "2829e853",
   "metadata": {},
   "outputs": [
    {
     "name": "stdout",
     "output_type": "stream",
     "text": [
      "That is not the correct answer. Please try again!\n"
     ]
    }
   ],
   "source": [
    "answer = 17\n",
    "if answer != 42:\n",
    "    print(\"That is not the correct answer. Please try again!\")"
   ]
  },
  {
   "cell_type": "markdown",
   "id": "f99972b4",
   "metadata": {},
   "source": [
    "### 5.2.5 检查多个条件"
   ]
  },
  {
   "cell_type": "markdown",
   "id": "93f2ace1",
   "metadata": {},
   "source": [
    "#### 01. 使⽤ and 检查多个条件"
   ]
  },
  {
   "cell_type": "code",
   "execution_count": 10,
   "id": "31fba494",
   "metadata": {},
   "outputs": [
    {
     "name": "stdout",
     "output_type": "stream",
     "text": [
      "False\n",
      "True\n"
     ]
    }
   ],
   "source": [
    "age_0 = 22\n",
    "age_1 = 18\n",
    "print(age_0 >= 21 and age_1 >= 21)\n"
   ]
  },
  {
   "cell_type": "markdown",
   "id": "6bcc25d5",
   "metadata": {},
   "source": [
    "#### 02. 使⽤ or 检查多个条件"
   ]
  },
  {
   "cell_type": "code",
   "execution_count": 8,
   "id": "af2b5b01",
   "metadata": {},
   "outputs": [
    {
     "name": "stdout",
     "output_type": "stream",
     "text": [
      "True\n"
     ]
    }
   ],
   "source": [
    "age_0 = 22\n",
    "age_1 = 18\n",
    "print(age_0 >= 21 or age_1 >= 21) #布尔运算"
   ]
  },
  {
   "cell_type": "code",
   "execution_count": 11,
   "id": "4f803e2f",
   "metadata": {},
   "outputs": [
    {
     "data": {
      "text/plain": [
       "True"
      ]
     },
     "execution_count": 11,
     "metadata": {},
     "output_type": "execute_result"
    }
   ],
   "source": [
    "True and True"
   ]
  },
  {
   "cell_type": "code",
   "execution_count": 12,
   "id": "b3caabc5",
   "metadata": {},
   "outputs": [
    {
     "data": {
      "text/plain": [
       "True"
      ]
     },
     "execution_count": 12,
     "metadata": {},
     "output_type": "execute_result"
    }
   ],
   "source": [
    "True & True #&and"
   ]
  },
  {
   "cell_type": "code",
   "execution_count": 13,
   "id": "ccd54ac8",
   "metadata": {},
   "outputs": [
    {
     "data": {
      "text/plain": [
       "True"
      ]
     },
     "execution_count": 13,
     "metadata": {},
     "output_type": "execute_result"
    }
   ],
   "source": [
    "True | False # | or 或者"
   ]
  },
  {
   "cell_type": "markdown",
   "id": "c53bd545",
   "metadata": {},
   "source": [
    "### 5.2.6 检查特定的值是否在列表中"
   ]
  },
  {
   "cell_type": "code",
   "execution_count": null,
   "id": "6cac9a1a",
   "metadata": {},
   "outputs": [],
   "source": [
    "#not ! "
   ]
  },
  {
   "cell_type": "code",
   "execution_count": 14,
   "id": "a43878a6",
   "metadata": {},
   "outputs": [
    {
     "data": {
      "text/plain": [
       "True"
      ]
     },
     "execution_count": 14,
     "metadata": {},
     "output_type": "execute_result"
    }
   ],
   "source": [
    "requested_toppings = ['mushrooms', 'onions', 'pineapple']\n",
    "'mushrooms' in requested_toppings"
   ]
  },
  {
   "cell_type": "code",
   "execution_count": 15,
   "id": "a6c4043a",
   "metadata": {},
   "outputs": [
    {
     "data": {
      "text/plain": [
       "False"
      ]
     },
     "execution_count": 15,
     "metadata": {},
     "output_type": "execute_result"
    }
   ],
   "source": [
    "'pepperoni' in requested_toppings"
   ]
  },
  {
   "cell_type": "markdown",
   "id": "5c9fec1b",
   "metadata": {},
   "source": [
    "### 5.2.7 检查特定的值是否不在列表中"
   ]
  },
  {
   "cell_type": "code",
   "execution_count": 16,
   "id": "38e9bbcc",
   "metadata": {},
   "outputs": [
    {
     "name": "stdout",
     "output_type": "stream",
     "text": [
      "True\n",
      "False\n"
     ]
    }
   ],
   "source": [
    "requested_toppings = ['mushrooms', 'onions', 'pineapple']\n",
    "print('mushrooms' in requested_toppings)\n",
    "print('mushrooms' not in requested_toppings)"
   ]
  },
  {
   "cell_type": "code",
   "execution_count": 19,
   "id": "00bc97db",
   "metadata": {},
   "outputs": [
    {
     "data": {
      "text/plain": [
       "False"
      ]
     },
     "execution_count": 19,
     "metadata": {},
     "output_type": "execute_result"
    }
   ],
   "source": [
    "game_paused = True\n",
    "not game_paused#真不会假 假不会真"
   ]
  },
  {
   "cell_type": "code",
   "execution_count": null,
   "id": "c78ed369",
   "metadata": {},
   "outputs": [],
   "source": [
    "True and (not False) #()优先级 not属性较高 可以不用括号  not优先级大于and"
   ]
  },
  {
   "cell_type": "markdown",
   "id": "d8b354b4",
   "metadata": {},
   "source": [
    "# 5.3 if 语句"
   ]
  },
  {
   "cell_type": "markdown",
   "id": "c5b1f2fb",
   "metadata": {},
   "source": [
    "### 5.3.1 简单的 if 语句"
   ]
  },
  {
   "cell_type": "code",
   "execution_count": 23,
   "id": "f37c6f7d",
   "metadata": {},
   "outputs": [
    {
     "name": "stdout",
     "output_type": "stream",
     "text": [
      "You are old enough to vote!\n"
     ]
    }
   ],
   "source": [
    "age = 19\n",
    "if age >= 18:\n",
    "    print(\"You are old enough to vote!\")"
   ]
  },
  {
   "cell_type": "code",
   "execution_count": 24,
   "id": "86c5e542",
   "metadata": {},
   "outputs": [
    {
     "name": "stdout",
     "output_type": "stream",
     "text": [
      "You are old enough to vote!\n",
      "Have you registered to vote yet?\n"
     ]
    }
   ],
   "source": [
    "age = 19\n",
    "if age >= 18:\n",
    "    print(\"You are old enough to vote!\")\n",
    "    print(\"Have you registered to vote yet?\")"
   ]
  },
  {
   "cell_type": "markdown",
   "id": "a8c646d2",
   "metadata": {},
   "source": [
    "### 5.3.2 if-else 语句"
   ]
  },
  {
   "cell_type": "code",
   "execution_count": 25,
   "id": "1ff9ffa2",
   "metadata": {},
   "outputs": [
    {
     "name": "stdout",
     "output_type": "stream",
     "text": [
      "Sorry, you are too young to vote.\n",
      "Please register to vote as soon as you turn 18!\n"
     ]
    }
   ],
   "source": [
    "age = 17\n",
    "if age >= 18:\n",
    "    print(\"You are old enough to vote!\")\n",
    "    print(\"Have you registered to vote yet?\")\n",
    "else:\n",
    "    print(\"Sorry, you are too young to vote.\")\n",
    "    print(\"Please register to vote as soon as you turn 18!\")"
   ]
  },
  {
   "cell_type": "markdown",
   "id": "7eb5c251",
   "metadata": {},
   "source": [
    "### 5.3.3 if-elif-else 语句"
   ]
  },
  {
   "cell_type": "code",
   "execution_count": 27,
   "id": "e10aa094",
   "metadata": {},
   "outputs": [
    {
     "name": "stdout",
     "output_type": "stream",
     "text": [
      "Your admission cost is $25.\n"
     ]
    }
   ],
   "source": [
    "age = 12\n",
    "if age < 4:\n",
    "    print(\"Your admission cost is $0.\")\n",
    "elif age < 18:\n",
    "    print(\"Your admission cost is $25.\")\n",
    "else:\n",
    "    print(\"Your admission cost is $40.\")\n",
    "# ❶处的if 测试检查⼀个⼈是否未满 4 岁。如果是，Python 就打印⼀条合适的消息，并跳过余下的测试。❷处的 elif 代码⾏其实是另⼀个 if 测试，它仅在前⾯的测试未通过时才会运⾏。在这⾥，我们知道这个⼈不⼩于 4岁，因为第⼀个条件测试未通过。如果这个⼈未满 18 岁，Python 将打印相应的消息，并跳过 else 代码块。如果 if 测试和 elif 测试都未通过，Python 将运⾏❸处 else 代码块中的代码。"
   ]
  },
  {
   "cell_type": "markdown",
   "id": "e667077c",
   "metadata": {},
   "source": [
    "### 5.3.4 使⽤多个 elif 代码块"
   ]
  },
  {
   "cell_type": "code",
   "execution_count": 26,
   "id": "5351f38d",
   "metadata": {},
   "outputs": [
    {
     "name": "stdout",
     "output_type": "stream",
     "text": [
      "Your admission cost is $25.\n"
     ]
    }
   ],
   "source": [
    "age = 12\n",
    "if age < 4:\n",
    "    price = 0\n",
    "elif age < 18:\n",
    "    price = 25\n",
    "elif age < 65:\n",
    "    price = 40\n",
    "else:\n",
    "    price = 20\n",
    "print(f\"Your admission cost is ${price}.\")"
   ]
  },
  {
   "cell_type": "code",
   "execution_count": 2,
   "id": "fc20dd63",
   "metadata": {},
   "outputs": [
    {
     "name": "stdout",
     "output_type": "stream",
     "text": [
      "Your admission cost is $20.\n"
     ]
    }
   ],
   "source": [
    "age = 100\n",
    "if age < 4:\n",
    "    price = 0\n",
    "elif age < 18:\n",
    "    price = 25\n",
    "elif age < 65:\n",
    "    price = 40\n",
    "else:\n",
    "    price = 20\n",
    "print(f\"Your admission cost is ${price}.\")"
   ]
  },
  {
   "cell_type": "code",
   "execution_count": 3,
   "id": "953eb5d6",
   "metadata": {},
   "outputs": [
    {
     "name": "stdout",
     "output_type": "stream",
     "text": [
      "Your admission cost is $25.\n"
     ]
    }
   ],
   "source": [
    "age = 12\n",
    "if age < 4:\n",
    "price = 0\n",
    "elif age < 18:\n",
    "price = 25\n",
    "elif age < 65:\n",
    "price = 40\n",
    "elif age >= 65:\n",
    "price = 20\n",
    "print(f\"Your admission cost is ${price}.\")"
   ]
  },
  {
   "cell_type": "markdown",
   "id": "122c1e61",
   "metadata": {},
   "source": [
    "## 5.3.6 测试多个条件"
   ]
  },
  {
   "cell_type": "code",
   "execution_count": 5,
   "id": "a3f0d662",
   "metadata": {},
   "outputs": [
    {
     "name": "stdout",
     "output_type": "stream",
     "text": [
      "Adding mushrooms.\n",
      "Adding extra cheese.\n",
      "\n",
      "Finished making your pizza!\n"
     ]
    }
   ],
   "source": [
    "requested_toppings = ['mushrooms', 'extra cheese']\n",
    "if 'mushrooms' in requested_toppings:\n",
    "    print(\"Adding mushrooms.\")\n",
    "if 'pepperoni' in requested_toppings:\n",
    "    print(\"Adding pepperoni.\")\n",
    "if 'extra cheese' in requested_toppings:\n",
    "    print(\"Adding extra cheese.\")\n",
    "print(\"\\nFinished making your pizza!\")\n",
    "#不管前两个条件测试的结果如何，都会执⾏这些代码。每当这个程序运⾏时，都会执⾏这三个独⽴的条件测试。"
   ]
  },
  {
   "cell_type": "code",
   "execution_count": 6,
   "id": "053aa235",
   "metadata": {},
   "outputs": [
    {
     "name": "stdout",
     "output_type": "stream",
     "text": [
      "Adding mushrooms.\n",
      "\n",
      "Finished making your pizza!\n"
     ]
    }
   ],
   "source": [
    "requested_toppings = ['mushrooms', 'extra cheese']\n",
    "#只会添加顾客点的第⼀种配料\n",
    "if 'mushrooms' in requested_toppings:\n",
    "    print(\"Adding mushrooms.\")\n",
    "elif 'pepperoni' in requested_toppings:\n",
    "    print(\"Adding pepperoni.\")\n",
    "elif 'extra cheese' in requested_toppings:\n",
    "    print(\"Adding extra cheese.\")\n",
    "print(\"\\nFinished making your pizza!\")\n"
   ]
  },
  {
   "cell_type": "markdown",
   "id": "c91484fb",
   "metadata": {},
   "source": [
    "## 5.4 使⽤ if 语句处理列表"
   ]
  },
  {
   "cell_type": "markdown",
   "id": "2ccd6e06",
   "metadata": {},
   "source": [
    "### 5.4.1 检查特殊元素"
   ]
  },
  {
   "cell_type": "code",
   "execution_count": 34,
   "id": "be78e207",
   "metadata": {},
   "outputs": [
    {
     "name": "stdout",
     "output_type": "stream",
     "text": [
      "Adding mushrooms.\n",
      "Adding green peppers.\n",
      "Adding extra cheese.\n",
      "\n",
      "Finished making your pizza!\n"
     ]
    }
   ],
   "source": [
    "requested_toppings = ['mushrooms', 'green peppers', 'extra cheese']\n",
    "for requested_topping in requested_toppings:\n",
    "    print(f\"Adding {requested_topping}.\")\n",
    "print(\"\\nFinished making your pizza!\")"
   ]
  },
  {
   "cell_type": "code",
   "execution_count": 35,
   "id": "e13da206",
   "metadata": {},
   "outputs": [
    {
     "name": "stdout",
     "output_type": "stream",
     "text": [
      "Adding mushrooms.\n",
      "Sorry, we are out of green peppers right now.\n",
      "Adding extra cheese.\n",
      "\n",
      "Finished making your pizza!\n"
     ]
    }
   ],
   "source": [
    "requested_toppings = ['mushrooms', 'green peppers', 'extra cheese']\n",
    "for requested_topping in requested_toppings:\n",
    "    if requested_topping == 'green peppers':\n",
    "        print(\"Sorry, we are out of green peppers right now.\")\n",
    "    else:\n",
    "        print(f\"Adding {requested_topping}.\")\n",
    "print(\"\\nFinished making your pizza!\")"
   ]
  },
  {
   "cell_type": "markdown",
   "id": "a635d26d",
   "metadata": {},
   "source": [
    "### 5.4.2 确定列表⾮空"
   ]
  },
  {
   "cell_type": "code",
   "execution_count": 36,
   "id": "73150172",
   "metadata": {},
   "outputs": [
    {
     "name": "stdout",
     "output_type": "stream",
     "text": [
      "Are you sure you want a plain pizza?\n"
     ]
    }
   ],
   "source": [
    "requested_toppings = []\n",
    "if requested_toppings:\n",
    "    for requested_topping in requested_toppings:\n",
    "        print(f\"Adding {requested_topping}.\")\n",
    "    print(\"\\nFinished making your pizza!\")\n",
    "else:\n",
    "    print(\"Are you sure you want a plain pizza?\")"
   ]
  },
  {
   "cell_type": "markdown",
   "id": "b9a678af",
   "metadata": {},
   "source": [
    "### 5.4.3 使⽤多个列表"
   ]
  },
  {
   "cell_type": "code",
   "execution_count": 37,
   "id": "938238ca",
   "metadata": {},
   "outputs": [
    {
     "name": "stdout",
     "output_type": "stream",
     "text": [
      "Adding mushrooms.\n",
      "Sorry, we don't have french fries.\n",
      "Adding extra cheese.\n",
      "\n",
      "Finished making your pizza!\n"
     ]
    }
   ],
   "source": [
    "available_toppings = ['mushrooms', 'olives', 'green peppers','pepperoni', 'pineapple', 'extra cheese']\n",
    "requested_toppings = ['mushrooms', 'french fries', 'extra cheese']\n",
    "for requested_topping in requested_toppings:\n",
    "    if requested_topping in available_toppings:\n",
    "        print(f\"Adding {requested_topping}.\")\n",
    "    else:\n",
    "        print(f\"Sorry, we don't have {requested_topping}.\")\n",
    "print(\"\\nFinished making your pizza!\")"
   ]
  },
  {
   "cell_type": "markdown",
   "id": "abdfa2eb",
   "metadata": {},
   "source": [
    "### 5.5 设置 if 语句的格式"
   ]
  },
  {
   "cell_type": "code",
   "execution_count": null,
   "id": "1bf200ed",
   "metadata": {},
   "outputs": [],
   "source": [
    "if age < 4: #运算符两边各添加⼀个空格。"
   ]
  },
  {
   "cell_type": "markdown",
   "id": "6fa9c676",
   "metadata": {},
   "source": [
    "### 练习 5.1：条件测试"
   ]
  },
  {
   "cell_type": "code",
   "execution_count": 9,
   "id": "ac423965",
   "metadata": {},
   "outputs": [
    {
     "name": "stdout",
     "output_type": "stream",
     "text": [
      "Is car == 'xiaomi'? I predict True.\n",
      "True\n",
      "\n",
      "Is car == 'audi'? I predict False.\n",
      "False\n"
     ]
    }
   ],
   "source": [
    "car = 'xiaomi'\n",
    "print(\"Is car == 'xiaomi'? I predict True.\")\n",
    "print(car == 'xiaomi')\n",
    "print(\"\\nIs car == 'audi'? I predict False.\")\n",
    "print(car == 'audi')"
   ]
  },
  {
   "cell_type": "markdown",
   "id": "2077b1d3",
   "metadata": {},
   "source": [
    "### 练习 5.2：更多条件测试"
   ]
  },
  {
   "cell_type": "code",
   "execution_count": 10,
   "id": "873463eb",
   "metadata": {},
   "outputs": [
    {
     "data": {
      "text/plain": [
       "False"
      ]
     },
     "execution_count": 10,
     "metadata": {},
     "output_type": "execute_result"
    }
   ],
   "source": [
    "color = 'Red'\n",
    "color == 'blue'"
   ]
  },
  {
   "cell_type": "code",
   "execution_count": 12,
   "id": "00e574f0",
   "metadata": {},
   "outputs": [
    {
     "data": {
      "text/plain": [
       "True"
      ]
     },
     "execution_count": 12,
     "metadata": {},
     "output_type": "execute_result"
    }
   ],
   "source": [
    "color = 'Red'\n",
    "color.lower() == 'red'"
   ]
  },
  {
   "cell_type": "code",
   "execution_count": 13,
   "id": "d050fcf3",
   "metadata": {},
   "outputs": [
    {
     "data": {
      "text/plain": [
       "True"
      ]
     },
     "execution_count": 13,
     "metadata": {},
     "output_type": "execute_result"
    }
   ],
   "source": [
    "age = 21\n",
    "age <= 21"
   ]
  },
  {
   "cell_type": "code",
   "execution_count": 14,
   "id": "d4dc7797",
   "metadata": {},
   "outputs": [
    {
     "data": {
      "text/plain": [
       "False"
      ]
     },
     "execution_count": 14,
     "metadata": {},
     "output_type": "execute_result"
    }
   ],
   "source": [
    "age = 21\n",
    "age > 21"
   ]
  },
  {
   "cell_type": "code",
   "execution_count": 15,
   "id": "6826a709",
   "metadata": {},
   "outputs": [
    {
     "data": {
      "text/plain": [
       "True"
      ]
     },
     "execution_count": 15,
     "metadata": {},
     "output_type": "execute_result"
    }
   ],
   "source": [
    "age = 21\n",
    "age == 21"
   ]
  },
  {
   "cell_type": "code",
   "execution_count": 16,
   "id": "e0014dc9",
   "metadata": {},
   "outputs": [
    {
     "data": {
      "text/plain": [
       "True"
      ]
     },
     "execution_count": 16,
     "metadata": {},
     "output_type": "execute_result"
    }
   ],
   "source": [
    "age = 21\n",
    "age < 22"
   ]
  },
  {
   "cell_type": "code",
   "execution_count": 17,
   "id": "d1101606",
   "metadata": {},
   "outputs": [
    {
     "data": {
      "text/plain": [
       "True"
      ]
     },
     "execution_count": 17,
     "metadata": {},
     "output_type": "execute_result"
    }
   ],
   "source": [
    "age = 21\n",
    "age != 23"
   ]
  },
  {
   "cell_type": "code",
   "execution_count": 18,
   "id": "6d7286e7",
   "metadata": {},
   "outputs": [
    {
     "name": "stdout",
     "output_type": "stream",
     "text": [
      "False\n"
     ]
    }
   ],
   "source": [
    "age_0 = 33\n",
    "age_1 = 90\n",
    "print(age_0 >= 21 and age_1 >= 100)"
   ]
  },
  {
   "cell_type": "code",
   "execution_count": 19,
   "id": "f39a2309",
   "metadata": {},
   "outputs": [
    {
     "name": "stdout",
     "output_type": "stream",
     "text": [
      "True\n"
     ]
    }
   ],
   "source": [
    "age_0 = 22\n",
    "age_1 = 90\n",
    "print(age_0 >= 21 or age_1 >= 100) "
   ]
  },
  {
   "cell_type": "code",
   "execution_count": 22,
   "id": "2608b947",
   "metadata": {},
   "outputs": [
    {
     "name": "stdout",
     "output_type": "stream",
     "text": [
      "False\n",
      "True\n"
     ]
    }
   ],
   "source": [
    "requested_toppings = ['potatos', 'onions', 'carrots']\n",
    "print('mushrooms' in requested_toppings)\n",
    "print('mushrooms' not in requested_toppings)"
   ]
  },
  {
   "cell_type": "markdown",
   "id": "91fbb0bd",
   "metadata": {},
   "source": [
    "### 练习 5.3：外星⼈颜⾊ 1"
   ]
  },
  {
   "cell_type": "code",
   "execution_count": 27,
   "id": "2214b74a",
   "metadata": {},
   "outputs": [
    {
     "name": "stdout",
     "output_type": "stream",
     "text": [
      "You just earned 5 points!\n"
     ]
    }
   ],
   "source": [
    "alien_color = 'green'\n",
    "if alien_color == 'green':\n",
    "    print(\"You just earned 5 points!\")"
   ]
  },
  {
   "cell_type": "code",
   "execution_count": 28,
   "id": "a4863de0",
   "metadata": {},
   "outputs": [],
   "source": [
    "alien_color = 'red'\n",
    "if alien_color == 'green':\n",
    "    print(\"You just earned 5 points!\")"
   ]
  },
  {
   "cell_type": "markdown",
   "id": "049aecfa",
   "metadata": {},
   "source": [
    "### 练习 5.4：外星⼈颜⾊ 2 像练习 5.3 那样设置外星⼈的颜⾊，并编写⼀个 if-else 结构。"
   ]
  },
  {
   "cell_type": "code",
   "execution_count": 29,
   "id": "b48ba2a3",
   "metadata": {},
   "outputs": [
    {
     "name": "stdout",
     "output_type": "stream",
     "text": [
      "You just earned 5 points!\n"
     ]
    }
   ],
   "source": [
    "alien_color = 'green'\n",
    "if alien_color == 'green':\n",
    "    print(\"You just earned 5 points!\")\n",
    "else:\n",
    "    print(\"You just earned 10 points!\")"
   ]
  },
  {
   "cell_type": "code",
   "execution_count": 30,
   "id": "ec43c21a",
   "metadata": {},
   "outputs": [
    {
     "name": "stdout",
     "output_type": "stream",
     "text": [
      "You just earned 10 points!\n"
     ]
    }
   ],
   "source": [
    "alien_color = 'yellow'\n",
    "if alien_color == 'green':\n",
    "    print(\"You just earned 5 points!\")\n",
    "else:\n",
    "    print(\"You just earned 10 points!\")  "
   ]
  },
  {
   "cell_type": "markdown",
   "id": "6d412457",
   "metadata": {},
   "source": [
    "### 练习 5.5 外星人颜色 3  "
   ]
  },
  {
   "cell_type": "code",
   "execution_count": 31,
   "id": "05182e3c",
   "metadata": {},
   "outputs": [
    {
     "name": "stdout",
     "output_type": "stream",
     "text": [
      "You just earned 15 points!\n"
     ]
    }
   ],
   "source": [
    "alien_color = 'red'\n",
    "if alien_color == 'green':\n",
    "    print(\"You just earned 5 points!\")\n",
    "elif alien_color == 'yellow':\n",
    "    print(\"You just earned 10 points!\")\n",
    "else:\n",
    "    print(\"You just earned 15 points!\")\n"
   ]
  },
  {
   "cell_type": "markdown",
   "id": "150b4831",
   "metadata": {},
   "source": [
    "### 练习 5.6 人生的不同阶段设置变量age的值，再编写一个if-elif-else结构，根据age的值判断这个人处于人生的哪个阶段。"
   ]
  },
  {
   "cell_type": "code",
   "execution_count": 32,
   "id": "8b79303e",
   "metadata": {},
   "outputs": [
    {
     "name": "stdout",
     "output_type": "stream",
     "text": [
      "You're an adult!\n"
     ]
    }
   ],
   "source": [
    "age = 21\n",
    "if age < 2:\n",
    "    print(\"You're a baby!\")\n",
    "elif age < 4:\n",
    "    print(\"You're a toddler!\")\n",
    "elif age < 13:\n",
    "    print(\"You're a kid!\")\n",
    "elif age < 18:\n",
    "    print(\"You're a teenager!\")\n",
    "elif age < 65:\n",
    "    print(\"You're an adult!\")\n",
    "else:\n",
    "    print(\"You're an elder!\")"
   ]
  },
  {
   "cell_type": "markdown",
   "id": "5b8f3ddb",
   "metadata": {},
   "source": [
    "### 练习 5.7：喜欢的⽔果 创建⼀个列表，其中包含你喜欢的⽔果，再编写⼀系列独⽴的 if 语句，检查列表中是否包含特定的⽔果。"
   ]
  },
  {
   "cell_type": "code",
   "execution_count": 33,
   "id": "905b1f9d",
   "metadata": {},
   "outputs": [
    {
     "name": "stdout",
     "output_type": "stream",
     "text": [
      "You really like peaches!\n"
     ]
    }
   ],
   "source": [
    "favorite_fruits = ['strawberries', 'pears', 'peaches']\n",
    "if 'bananas' in favorite_fruits:\n",
    "    print(\"You really like bananas!\")\n",
    "if 'apples' in favorite_fruits:\n",
    "    print(\"You really like apples!\")\n",
    "if 'blueberries' in favorite_fruits:\n",
    "    print(\"You really like blueberries!\")\n",
    "if 'kiwis' in favorite_fruits:\n",
    "    print(\"You really like kiwis!\")\n",
    "if 'peaches' in favorite_fruits:\n",
    "    print(\"You really like peaches!\")"
   ]
  },
  {
   "cell_type": "markdown",
   "id": "ac48e3bc",
   "metadata": {},
   "source": [
    "### 练习 5.8：以特殊⽅式跟管理员打招呼"
   ]
  },
  {
   "cell_type": "code",
   "execution_count": 3,
   "id": "60ae6e02",
   "metadata": {},
   "outputs": [
    {
     "name": "stdout",
     "output_type": "stream",
     "text": [
      "Hello Alice, thank you for logging in again.\n",
      "Hello Bob, thank you for logging in again.\n",
      "Hello Charlie, thank you for logging in again.\n",
      "Hello admin, would you like to see a status report?\n",
      "Hello David, thank you for logging in again.\n"
     ]
    }
   ],
   "source": [
    "usernames = ['alice', 'bob', 'charlie', 'admin', 'david']\n",
    "\n",
    "for username in usernames:\n",
    "    if username == 'admin':\n",
    "        print(\"Hello admin, would you like to see a status report?\")\n",
    "    else:\n",
    "        print(f\"Hello {username.title()}, thank you for logging in again.\")\n"
   ]
  },
  {
   "cell_type": "markdown",
   "id": "ee4b6546",
   "metadata": {},
   "source": [
    "### 练习 5.9：处理没有⽤户的情形 在为练习 5.8 编写的程序中，添加⼀条 if 语句，检查⽤户名列表是否为空"
   ]
  },
  {
   "cell_type": "code",
   "execution_count": 4,
   "id": "ac98de27",
   "metadata": {},
   "outputs": [
    {
     "name": "stdout",
     "output_type": "stream",
     "text": [
      "We need to find some users!\n"
     ]
    }
   ],
   "source": [
    "usernames = []\n",
    "if usernames:\n",
    "    for username in usernames:\n",
    "        if username == 'admin':\n",
    "            print(\"Hello admin, would you like to see a status report?\")\n",
    "        else:\n",
    "            print(f\"Hello {username}, thank you for loggin in again!\")\n",
    "else:\n",
    "    print(\"We need to find some users!\")"
   ]
  },
  {
   "cell_type": "markdown",
   "id": "2887cc28",
   "metadata": {},
   "source": [
    "### 练习 5.10：检查⽤户名 按照下⾯的说明编写⼀个程序，模拟⽹站如何确保每个⽤户的⽤户名都独⼀⽆⼆。"
   ]
  },
  {
   "cell_type": "code",
   "execution_count": 5,
   "id": "94aee4c8",
   "metadata": {},
   "outputs": [
    {
     "name": "stdout",
     "output_type": "stream",
     "text": [
      "Great, sarah is still available.\n",
      "Sorry Willie, that name is taken.\n",
      "Great, PHIL is still available.\n",
      "Sorry ever, that name is taken.\n",
      "Great, Iona is still available.\n"
     ]
    }
   ],
   "source": [
    "current_users = ['eric', 'willie', 'admin', 'erin', 'Ever']\n",
    "new_users = ['sarah', 'Willie', 'PHIL', 'ever', 'Iona']\n",
    "current_users_lower = [user.lower() for user in current_users]\n",
    "for new_user in new_users:\n",
    "    if new_user.lower() in current_users_lower:\n",
    "        print(f\"Sorry {new_user}, that name is taken.\")\n",
    "    else:\n",
    "        print(f\"Great, {new_user} is still available.\")"
   ]
  },
  {
   "cell_type": "markdown",
   "id": "7f8766d3",
   "metadata": {},
   "source": [
    "### 练习 5.11：序数 序数表⽰顺序位置，如 1st 和 2nd。序数⼤多以 th 结尾，只有 1st、2nd、3rd 例外。"
   ]
  },
  {
   "cell_type": "code",
   "execution_count": 6,
   "id": "62d14b33",
   "metadata": {},
   "outputs": [
    {
     "name": "stdout",
     "output_type": "stream",
     "text": [
      "1st\n",
      "2nd\n",
      "3rd\n",
      "4th\n",
      "5th\n",
      "6th\n",
      "7th\n",
      "8th\n",
      "9th\n"
     ]
    }
   ],
   "source": [
    "numbers = list(range(1,10))\n",
    "for number in numbers:\n",
    "    if number == 1:\n",
    "        print(\"1st\")\n",
    "    elif number == 2:\n",
    "        print(\"2nd\") \n",
    "    elif number == 3:\n",
    "        print(\"3rd\")\n",
    "    else:\n",
    "        print(f\"{number}th\")"
   ]
  },
  {
   "cell_type": "code",
   "execution_count": null,
   "id": "194bbedc",
   "metadata": {},
   "outputs": [],
   "source": []
  }
 ],
 "metadata": {
  "kernelspec": {
   "display_name": "Python 3 (ipykernel)",
   "language": "python",
   "name": "python3"
  },
  "language_info": {
   "codemirror_mode": {
    "name": "ipython",
    "version": 3
   },
   "file_extension": ".py",
   "mimetype": "text/x-python",
   "name": "python",
   "nbconvert_exporter": "python",
   "pygments_lexer": "ipython3",
   "version": "3.11.5"
  }
 },
 "nbformat": 4,
 "nbformat_minor": 5
}
