{
 "cells": [
  {
   "cell_type": "markdown",
   "id": "fb8b7b56",
   "metadata": {},
   "source": [
    "# 3列表"
   ]
  },
  {
   "cell_type": "markdown",
   "id": "3040d012",
   "metadata": {},
   "source": [
    "## 3.1 列表是什么"
   ]
  },
  {
   "cell_type": "code",
   "execution_count": 2,
   "id": "ffd7b815",
   "metadata": {},
   "outputs": [
    {
     "name": "stdout",
     "output_type": "stream",
     "text": [
      "['trek', 'redline', 'giant']\n"
     ]
    }
   ],
   "source": [
    "bikes=['trek','redline','giant']\n",
    "print(bikes)"
   ]
  },
  {
   "cell_type": "markdown",
   "id": "ddaabcff",
   "metadata": {},
   "source": [
    "### 3.1.1访问列表元素"
   ]
  },
  {
   "cell_type": "code",
   "execution_count": 1,
   "id": "681e450c",
   "metadata": {},
   "outputs": [
    {
     "name": "stdout",
     "output_type": "stream",
     "text": [
      "trek giant\n"
     ]
    }
   ],
   "source": [
    "bikes=['trek','redline','giant']\n",
    "print(bikes[0],bikes[2])"
   ]
  },
  {
   "cell_type": "code",
   "execution_count": 2,
   "id": "44f0e8df",
   "metadata": {},
   "outputs": [
    {
     "name": "stdout",
     "output_type": "stream",
     "text": [
      "giant redline\n"
     ]
    }
   ],
   "source": [
    "bikes=['trek','redline','giant']\n",
    "print(bikes[-1],bikes[-2])"
   ]
  },
  {
   "cell_type": "code",
   "execution_count": 1,
   "id": "9087bdcc",
   "metadata": {},
   "outputs": [
    {
     "name": "stdout",
     "output_type": "stream",
     "text": [
      "Trek\n"
     ]
    }
   ],
   "source": [
    "bicycles = ['trek', 'cannondale', 'redline', 'specialized']\n",
    "print(bicycles[0].title())"
   ]
  },
  {
   "cell_type": "markdown",
   "id": "980202c8",
   "metadata": {},
   "source": [
    "### 3.1.2 索引从 0 ⽽不是 1 开始"
   ]
  },
  {
   "cell_type": "code",
   "execution_count": 2,
   "id": "9d75447c",
   "metadata": {},
   "outputs": [
    {
     "name": "stdout",
     "output_type": "stream",
     "text": [
      "cannondale\n",
      "specialized\n"
     ]
    }
   ],
   "source": [
    "bicycles = ['trek', 'cannondale', 'redline', 'specialized']\n",
    "print(bicycles[1])\n",
    "print(bicycles[3])"
   ]
  },
  {
   "cell_type": "markdown",
   "id": "7d915887",
   "metadata": {},
   "source": [
    "### 3.1.3使用列表中的各个值"
   ]
  },
  {
   "cell_type": "code",
   "execution_count": 3,
   "id": "401b1021",
   "metadata": {},
   "outputs": [
    {
     "name": "stdout",
     "output_type": "stream",
     "text": [
      "My first bicycle was a Trek.\n"
     ]
    }
   ],
   "source": [
    "bicycles = ['trek', 'cannondale', 'redline', 'specialized']\n",
    "message = f\"My first bicycle was a {bicycles[0].title()}.\"\n",
    "print(message)"
   ]
  },
  {
   "cell_type": "markdown",
   "id": "2eebc57d",
   "metadata": {},
   "source": [
    "### 3.2.1修改列表元素"
   ]
  },
  {
   "cell_type": "code",
   "execution_count": 4,
   "id": "06dc3cd0",
   "metadata": {},
   "outputs": [
    {
     "name": "stdout",
     "output_type": "stream",
     "text": [
      "['honda', 'yamaha', 'suzuki']\n",
      "['ducati', 'yamaha', 'suzuki']\n"
     ]
    }
   ],
   "source": [
    "motorcycles = ['honda', 'yamaha', 'suzuki']\n",
    "print(motorcycles)\n",
    "motorcycles[0] = 'ducati'\n",
    "print(motorcycles)"
   ]
  },
  {
   "cell_type": "markdown",
   "id": "9abef316",
   "metadata": {},
   "source": [
    "### 3.2.2在列表中添加元素"
   ]
  },
  {
   "cell_type": "code",
   "execution_count": 5,
   "id": "85e4d37c",
   "metadata": {},
   "outputs": [
    {
     "name": "stdout",
     "output_type": "stream",
     "text": [
      "['honda', 'yamaha', 'suzuki']\n",
      "['honda', 'yamaha', 'suzuki', 'ducati']\n"
     ]
    }
   ],
   "source": [
    "motorcycles = ['honda', 'yamaha', 'suzuki']\n",
    "print(motorcycles)\n",
    "motorcycles.append('ducati')\n",
    "print(motorcycles)"
   ]
  },
  {
   "cell_type": "code",
   "execution_count": 6,
   "id": "fd718170",
   "metadata": {},
   "outputs": [
    {
     "name": "stdout",
     "output_type": "stream",
     "text": [
      "['honda', 'yamaha', 'suzuki']\n"
     ]
    }
   ],
   "source": [
    "motorcycles = []\n",
    "motorcycles.append('honda')\n",
    "motorcycles.append('yamaha')\n",
    "motorcycles.append('suzuki')\n",
    "print(motorcycles)"
   ]
  },
  {
   "cell_type": "markdown",
   "id": "fc3f0922",
   "metadata": {},
   "source": [
    "### 02. 在列表中插⼊元素"
   ]
  },
  {
   "cell_type": "code",
   "execution_count": 7,
   "id": "7bce0aae",
   "metadata": {},
   "outputs": [
    {
     "name": "stdout",
     "output_type": "stream",
     "text": [
      "['ducati', 'honda', 'yamaha', 'suzuki']\n"
     ]
    }
   ],
   "source": [
    "motorcycles = ['honda', 'yamaha', 'suzuki']\n",
    "motorcycles.insert(0, 'ducati')\n",
    "print(motorcycles)"
   ]
  },
  {
   "cell_type": "markdown",
   "id": "e946124e",
   "metadata": {},
   "source": [
    "### 3.2.3从列表中删除元素"
   ]
  },
  {
   "cell_type": "markdown",
   "id": "76984eff",
   "metadata": {},
   "source": [
    "### 01. 使⽤ del 语句删除元素"
   ]
  },
  {
   "cell_type": "code",
   "execution_count": 8,
   "id": "95d68689",
   "metadata": {},
   "outputs": [
    {
     "name": "stdout",
     "output_type": "stream",
     "text": [
      "['honda', 'yamaha', 'suzuki']\n",
      "['yamaha', 'suzuki']\n"
     ]
    }
   ],
   "source": [
    "motorcycles = ['honda', 'yamaha', 'suzuki']\n",
    "print(motorcycles)\n",
    "del motorcycles[0]\n",
    "print(motorcycles)\n"
   ]
  },
  {
   "cell_type": "code",
   "execution_count": 9,
   "id": "3f5d3c38",
   "metadata": {},
   "outputs": [
    {
     "name": "stdout",
     "output_type": "stream",
     "text": [
      "['honda', 'yamaha', 'suzuki']\n",
      "['honda', 'suzuki']\n"
     ]
    }
   ],
   "source": [
    "motorcycles = ['honda', 'yamaha', 'suzuki']\n",
    "print(motorcycles)\n",
    "del motorcycles[1]\n",
    "print(motorcycles)\n"
   ]
  },
  {
   "cell_type": "markdown",
   "id": "a280af5f",
   "metadata": {},
   "source": [
    "### 02. 使⽤ pop() ⽅法删除元素"
   ]
  },
  {
   "cell_type": "code",
   "execution_count": 6,
   "id": "4a01c25b",
   "metadata": {},
   "outputs": [
    {
     "name": "stdout",
     "output_type": "stream",
     "text": [
      "['honda', 'yamaha', 'suzuki']\n",
      "['honda', 'yamaha']\n",
      "suzuki\n"
     ]
    }
   ],
   "source": [
    "motorcycles = ['honda', 'yamaha', 'suzuki']\n",
    "print(motorcycles)\n",
    "popped_motorcycle = motorcycles.pop()#pop() ⽅法删除列表末尾的元素，并让你能够接着使⽤它\n",
    "print(motorcycles)\n",
    "print(popped_motorcycle)"
   ]
  },
  {
   "cell_type": "code",
   "execution_count": 4,
   "id": "a7745fb2",
   "metadata": {},
   "outputs": [
    {
     "name": "stdout",
     "output_type": "stream",
     "text": [
      "blue\n",
      "['red']\n",
      "yellow\n"
     ]
    }
   ],
   "source": [
    "colors=['red','blue','yellow']\n",
    "poped_color=colors.pop()\n",
    "print(colors.pop())\n",
    "print(colors)\n",
    "print(poped_color)"
   ]
  },
  {
   "cell_type": "code",
   "execution_count": 5,
   "id": "a997d8ed",
   "metadata": {},
   "outputs": [
    {
     "name": "stdout",
     "output_type": "stream",
     "text": [
      "The last motorcycle I owned was a Suzuki.\n"
     ]
    }
   ],
   "source": [
    "motorcycles = ['honda', 'yamaha', 'suzuki']\n",
    "last_owned = motorcycles.pop()\n",
    "print(f\"The last motorcycle I owned was a {last_owned.title()}.\")"
   ]
  },
  {
   "cell_type": "code",
   "execution_count": 7,
   "id": "12c283e8",
   "metadata": {},
   "outputs": [
    {
     "name": "stdout",
     "output_type": "stream",
     "text": [
      "['honda', 'yamaha', 'suzuki', 'ducati']\n",
      "['honda', 'yamaha', 'suzuki']\n",
      "\n",
      "A Ducati is too expensive for me.\n"
     ]
    }
   ],
   "source": [
    " motorcycles = ['honda', 'yamaha', 'suzuki', 'ducati']\n",
    " print(motorcycles)\n",
    "too_expensive = 'ducati'\n",
    " motorcycles.remove(too_expensive)\n",
    " print(motorcycles)\n",
    " print(f\"\\nA {too_expensive.title()} is too expensive for me.\")"
   ]
  },
  {
   "cell_type": "markdown",
   "id": "4eb96cd3",
   "metadata": {},
   "source": [
    "### 03. 删除列表中任意位置的元素"
   ]
  },
  {
   "cell_type": "code",
   "execution_count": 6,
   "id": "77f431fb",
   "metadata": {},
   "outputs": [
    {
     "name": "stdout",
     "output_type": "stream",
     "text": [
      "The first motorcycle I owned was a Honda.\n"
     ]
    }
   ],
   "source": [
    "motorcycles = ['honda', 'yamaha', 'suzuki']\n",
    "first_owned = motorcycles.pop(0)\n",
    "print(f\"The first motorcycle I owned was a {first_owned.title()}.\")"
   ]
  },
  {
   "cell_type": "markdown",
   "id": "b0960ad5",
   "metadata": {},
   "source": [
    "### 04. 根据值删除元素"
   ]
  },
  {
   "cell_type": "code",
   "execution_count": 7,
   "id": "2f82bb0e",
   "metadata": {},
   "outputs": [
    {
     "name": "stdout",
     "output_type": "stream",
     "text": [
      "['honda', 'yamaha', 'suzuki', 'ducati']\n",
      "['honda', 'yamaha', 'suzuki']\n"
     ]
    }
   ],
   "source": [
    "motorcycles = ['honda', 'yamaha', 'suzuki', 'ducati']\n",
    "print(motorcycles)\n",
    "motorcycles.remove('ducati')#不知道要从列表中删除的值在哪个位置。如果只知道要删除的元素的值\n",
    "print(motorcycles)"
   ]
  },
  {
   "cell_type": "code",
   "execution_count": 8,
   "id": "81e63a50",
   "metadata": {},
   "outputs": [
    {
     "name": "stdout",
     "output_type": "stream",
     "text": [
      "['honda', 'yamaha', 'suzuki', 'ducati']\n",
      "['honda', 'yamaha', 'suzuki']\n",
      "\n",
      "A Ducati is too expensive for me.\n"
     ]
    }
   ],
   "source": [
    "motorcycles = ['honda', 'yamaha', 'suzuki', 'ducati']\n",
    "print(motorcycles)\n",
    "too_expensive = 'ducati'\n",
    "motorcycles.remove(too_expensive)\n",
    "print(motorcycles)\n",
    "print(f\"\\nA {too_expensive.title()} is too expensive for me.\")"
   ]
  },
  {
   "cell_type": "markdown",
   "id": "a15817ff",
   "metadata": {},
   "source": [
    "# 3.3管理列表：排序"
   ]
  },
  {
   "cell_type": "markdown",
   "id": "d0c3547c",
   "metadata": {},
   "source": [
    "### 3.3.1 使⽤ sort() ⽅法对列表进⾏永久排序"
   ]
  },
  {
   "cell_type": "code",
   "execution_count": 8,
   "id": "f3cb9255",
   "metadata": {},
   "outputs": [
    {
     "name": "stdout",
     "output_type": "stream",
     "text": [
      "['audi', 'bmw', 'subaru', 'toyota']\n"
     ]
    }
   ],
   "source": [
    "cars = ['bmw', 'audi', 'toyota', 'subaru']\n",
    "cars.sort()#对列表元素排列顺序的修改也是永久\n",
    "print(cars)"
   ]
  },
  {
   "cell_type": "code",
   "execution_count": 9,
   "id": "59bc8591",
   "metadata": {},
   "outputs": [
    {
     "name": "stdout",
     "output_type": "stream",
     "text": [
      "['toyota', 'subaru', 'bmw', 'audi']\n"
     ]
    }
   ],
   "source": [
    "cars = ['bmw', 'audi', 'toyota', 'subaru']\n",
    "cars.sort(reverse=True)\n",
    "print(cars)"
   ]
  },
  {
   "cell_type": "markdown",
   "id": "4751e970",
   "metadata": {},
   "source": [
    "### 3.3.2 使⽤ sorted() 函数对列表进⾏临时排序"
   ]
  },
  {
   "cell_type": "code",
   "execution_count": 13,
   "id": "cbe08716",
   "metadata": {},
   "outputs": [
    {
     "name": "stdout",
     "output_type": "stream",
     "text": [
      "Here is the original list:\n",
      "['bmw', 'audi', 'toyota', 'subaru']\n",
      "\n",
      "Here is the sorted list:\n",
      "['audi', 'bmw', 'subaru', 'toyota']\n",
      "\n",
      "Here is the original list again:\n",
      "['bmw', 'audi', 'toyota', 'subaru']\n"
     ]
    }
   ],
   "source": [
    "cars = ['bmw', 'audi', 'toyota', 'subaru']\n",
    "print(\"Here is the original list:\")\n",
    "print(cars)\n",
    "print(\"\\nHere is the sorted list:\")\n",
    "print(sorted(cars))#能够按特定顺序显⽰列表元素，同时不影响它们在列表中的排列顺序。\n",
    "print(\"\\nHere is the original list again:\")\n",
    "print(cars)"
   ]
  },
  {
   "cell_type": "markdown",
   "id": "6ddd8df0",
   "metadata": {},
   "source": [
    "### 3.3.3 反向打印列表"
   ]
  },
  {
   "cell_type": "code",
   "execution_count": 10,
   "id": "e5451a2f",
   "metadata": {},
   "outputs": [
    {
     "name": "stdout",
     "output_type": "stream",
     "text": [
      "[2, 4, 1, 6, 9]\n"
     ]
    }
   ],
   "source": [
    "nums=[9,6,1,4,2]\n",
    "nums.reverse()\n",
    "print(nums)"
   ]
  },
  {
   "cell_type": "code",
   "execution_count": 14,
   "id": "fbf4e9bf",
   "metadata": {},
   "outputs": [
    {
     "name": "stdout",
     "output_type": "stream",
     "text": [
      "['bmw', 'audi', 'toyota', 'subaru']\n",
      "['subaru', 'toyota', 'audi', 'bmw']\n"
     ]
    }
   ],
   "source": [
    "cars = ['bmw', 'audi', 'toyota', 'subaru']\n",
    "print(cars)\n",
    "cars.reverse()\n",
    "print(cars)"
   ]
  },
  {
   "cell_type": "markdown",
   "id": "2acd978a",
   "metadata": {},
   "source": [
    "### 3.3.4 确定列表的⻓度"
   ]
  },
  {
   "cell_type": "code",
   "execution_count": 11,
   "id": "d2b3688e",
   "metadata": {},
   "outputs": [
    {
     "name": "stdout",
     "output_type": "stream",
     "text": [
      "4\n"
     ]
    }
   ],
   "source": [
    "cars = ['bmw', 'audi', 'toyota', 'subaru']\n",
    "print(len(cars))"
   ]
  },
  {
   "cell_type": "markdown",
   "id": "7a3ca1d1",
   "metadata": {},
   "source": [
    "## 3.4 使⽤列表时避免索引错误"
   ]
  },
  {
   "cell_type": "code",
   "execution_count": 17,
   "id": "6105e6df",
   "metadata": {},
   "outputs": [
    {
     "ename": "IndexError",
     "evalue": "list index out of range",
     "output_type": "error",
     "traceback": [
      "\u001b[1;31m---------------------------------------------------------------------------\u001b[0m",
      "\u001b[1;31mIndexError\u001b[0m                                Traceback (most recent call last)",
      "Cell \u001b[1;32mIn[17], line 2\u001b[0m\n\u001b[0;32m      1\u001b[0m motorcycles \u001b[38;5;241m=\u001b[39m [\u001b[38;5;124m'\u001b[39m\u001b[38;5;124mhonda\u001b[39m\u001b[38;5;124m'\u001b[39m, \u001b[38;5;124m'\u001b[39m\u001b[38;5;124myamaha\u001b[39m\u001b[38;5;124m'\u001b[39m, \u001b[38;5;124m'\u001b[39m\u001b[38;5;124msuzuki\u001b[39m\u001b[38;5;124m'\u001b[39m]\n\u001b[1;32m----> 2\u001b[0m \u001b[38;5;28mprint\u001b[39m(motorcycles[\u001b[38;5;241m3\u001b[39m])\n",
      "\u001b[1;31mIndexError\u001b[0m: list index out of range"
     ]
    }
   ],
   "source": [
    "motorcycles = ['honda', 'yamaha', 'suzuki']\n",
    "print(motorcycles[3])"
   ]
  },
  {
   "cell_type": "code",
   "execution_count": 18,
   "id": "b72ff739",
   "metadata": {},
   "outputs": [
    {
     "name": "stdout",
     "output_type": "stream",
     "text": [
      "suzuki\n"
     ]
    }
   ],
   "source": [
    "motorcycles = ['honda', 'yamaha', 'suzuki']\n",
    "print(motorcycles[-1])"
   ]
  },
  {
   "cell_type": "markdown",
   "id": "7345b553",
   "metadata": {},
   "source": [
    "### 练习 3.1：姓名 将⼀些朋友的姓名存储在⼀个列表中，并将其命名为names。依次访问该列表的每个元素，从⽽将每个朋友的姓名都打印出来。"
   ]
  },
  {
   "cell_type": "code",
   "execution_count": 3,
   "id": "92705359",
   "metadata": {},
   "outputs": [
    {
     "name": "stdout",
     "output_type": "stream",
     "text": [
      "vernon\n",
      "The8\n",
      "THUN\n"
     ]
    }
   ],
   "source": [
    "names = ['Vernon', 'the8', 'thun']\n",
    "print(names[0].lower())\n",
    "print(names[1].title())\n",
    "print(names[2].upper())"
   ]
  },
  {
   "cell_type": "markdown",
   "id": "564fd1f4",
   "metadata": {},
   "source": [
    "### 继续使⽤练习 3.1 中的列表，但不打印每个朋友的姓名，⽽是为每⼈打印⼀条消息。每条消息都包含相同的问候语，但抬头为相应朋友的姓名。"
   ]
  },
  {
   "cell_type": "code",
   "execution_count": 4,
   "id": "b7fda00b",
   "metadata": {},
   "outputs": [
    {
     "name": "stdout",
     "output_type": "stream",
     "text": [
      "Hello, Vernon!\n",
      "Hello, The8!\n",
      "Hello, Thun!\n"
     ]
    }
   ],
   "source": [
    "names = ['vernon', 'the8', 'thun']\n",
    "msg = f\"Hello, {names[0].title()}!\"\n",
    "print(msg)\n",
    "msg = f\"Hello, {names[1].title()}!\"\n",
    "print(msg)\n",
    "msg = f\"Hello, {names[2].title()}!\"\n",
    "print(msg)"
   ]
  },
  {
   "cell_type": "markdown",
   "id": "d4b91607",
   "metadata": {},
   "source": [
    "### 练习 3.4：嘉宾名单 如果你可以邀请任何⼈⼀起共进晚餐（⽆论是在世的还是故去的），你会邀请哪些⼈？请创建⼀个列表，其中包含⾄少三个你想邀请的⼈，然后使⽤这个列表打印消息，邀请这些⼈都来与你共进晚餐。"
   ]
  },
  {
   "cell_type": "code",
   "execution_count": 9,
   "id": "75ec53a5",
   "metadata": {},
   "outputs": [
    {
     "name": "stdout",
     "output_type": "stream",
     "text": [
      "Jay, please come to dinner.\n",
      "Tun, please come to dinner.\n",
      "Woozi, please come to dinner.\n"
     ]
    }
   ],
   "source": [
    "guests = ['jay', 'tun', 'woozi']\n",
    "name = guests[0].title()\n",
    "print(f\"{name}, please come to dinner.\")\n",
    "name = guests[1].title()\n",
    "print(f\"{name}, please come to dinner.\")\n",
    "name = guests[2].title()\n",
    "print(f\"{name}, please come to dinner.\")"
   ]
  },
  {
   "cell_type": "markdown",
   "id": "ceafc12f",
   "metadata": {},
   "source": [
    "### 练习 3.5：修改嘉宾名单"
   ]
  },
  {
   "cell_type": "code",
   "execution_count": 10,
   "id": "5b43365d",
   "metadata": {},
   "outputs": [
    {
     "name": "stdout",
     "output_type": "stream",
     "text": [
      "Jay, please come to dinner.\n",
      "Tun, please come to dinner.\n",
      "Woozi, please come to dinner.\n",
      "\n",
      "Jay, please come to dinner.\n",
      "Mian, please come to dinner.\n",
      "Woozi, please come to dinner.\n"
     ]
    }
   ],
   "source": [
    "guests =['jay', 'tun', 'woozi']\n",
    "name = guests[0].title()\n",
    "print(f\"{name}, please come to dinner.\")\n",
    "name = guests[1].title()\n",
    "print(f\"{name}, please come to dinner.\")\n",
    "name = guests[2].title()\n",
    "print(f\"{name}, please come to dinner.\")\n",
    "\n",
    "del(guests[1])\n",
    "guests.insert(1, 'mian')\n",
    "\n",
    "name = guests[0].title()\n",
    "print(f\"\\n{name}, please come to dinner.\")\n",
    "name = guests[1].title()\n",
    "print(f\"{name}, please come to dinner.\")\n",
    "name = guests[2].title()\n",
    "print(f\"{name}, please come to dinner.\")"
   ]
  },
  {
   "cell_type": "markdown",
   "id": "d97b503b",
   "metadata": {},
   "source": [
    "### 练习 3.6：添加嘉宾"
   ]
  },
  {
   "cell_type": "code",
   "execution_count": 11,
   "id": "dceb3edc",
   "metadata": {},
   "outputs": [
    {
     "name": "stdout",
     "output_type": "stream",
     "text": [
      "\n",
      "We got a bigger table!\n",
      "Flacia, please come to dinner.\n",
      "Jay, please come to dinner.\n",
      "Yemin, please come to dinner.\n",
      "Mian, please come to dinner.\n",
      "Woozi, please come to dinner.\n",
      "Dk, please come to dinner.\n"
     ]
    }
   ],
   "source": [
    "print(\"\\nWe got a bigger table!\")\n",
    "guests.insert(0, 'flacia')\n",
    "guests.insert(2, 'yemin')\n",
    "guests.append('dk')\n",
    "name = guests[0].title()\n",
    "print(f\"{name}, please come to dinner.\")\n",
    "name = guests[1].title()\n",
    "print(f\"{name}, please come to dinner.\")\n",
    "name = guests[2].title()\n",
    "print(f\"{name}, please come to dinner.\")\n",
    "name = guests[3].title()\n",
    "print(f\"{name}, please come to dinner.\")\n",
    "name = guests[4].title()\n",
    "print(f\"{name}, please come to dinner.\")\n",
    "name = guests[5].title()\n",
    "print(f\"{name}, please come to dinner.\")"
   ]
  },
  {
   "cell_type": "markdown",
   "id": "a966e26b",
   "metadata": {},
   "source": [
    "### 练习 3.7：缩短名单 你刚得知新购买的餐桌⽆法及时送达，因此只能邀请两位嘉宾。"
   ]
  },
  {
   "cell_type": "code",
   "execution_count": 12,
   "id": "f966527f",
   "metadata": {},
   "outputs": [
    {
     "name": "stdout",
     "output_type": "stream",
     "text": [
      "\n",
      "Sorry, we can only invite two people to dinner.\n",
      "Sorry, Dk there's no room at the table.\n",
      "Sorry, Woozi there's no room at the table.\n",
      "Sorry, Mian there's no room at the table.\n",
      "Sorry, Yemin there's no room at the table.\n",
      "Flacia, please come to dinner.\n",
      "Jay, please come to dinner.\n",
      "[]\n"
     ]
    }
   ],
   "source": [
    "print(\"\\nSorry, we can only invite two people to dinner.\")\n",
    "name = guests.pop()\n",
    "print(f\"Sorry, {name.title()} there's no room at the table.\")\n",
    "name = guests.pop()\n",
    "print(f\"Sorry, {name.title()} there's no room at the table.\")\n",
    "name = guests.pop()\n",
    "print(f\"Sorry, {name.title()} there's no room at the table.\")\n",
    "name = guests.pop()\n",
    "print(f\"Sorry, {name.title()} there's no room at the table.\")\n",
    "# 应该只剩下两位嘉宾了，向他们发出邀请\n",
    "name = guests[0].title()\n",
    "print(f\"{name}, please come to dinner.\")\n",
    "name = guests[1].title()\n",
    "print(f\"{name}, please come to dinner.\")\n",
    "del(guests[0])\n",
    "del(guests[0])\n",
    "print(guests)"
   ]
  },
  {
   "cell_type": "markdown",
   "id": "89e4db19",
   "metadata": {},
   "source": [
    "### 练习 3.8：放眼世界 想出⾄少 5 个你想去旅游的地⽅。\n",
    "### 将这些地⽅存储在⼀个列表中，并确保其中的元素不是按字⺟顺序排列的。\n",
    "#按原始排列顺序打印该列表。不要考虑输出是否整洁，只管打印原始 Python 列表就好。\n",
    "使⽤ sorted() 按字⺟顺序打印这个列表，不要修改它。\n",
    "再次打印该列表，核实排列顺序未变。\n",
    "使⽤ sorted() 按与字⺟顺序相反的顺序打印这个列表，不要修\n",
    "改它。\n",
    "再次打印该列表，核实排列顺序未变。\n",
    "使⽤ reverse() 修改列表元素的排列顺序。打印该列表，核实\n",
    "排列顺序确实变了。\n",
    "使⽤ reverse() 再次修改列表元素的排列顺序。打印该列表，\n",
    "核实已恢复到原来的排列顺序。\n",
    "使⽤ sort() 修改该列表，使其元素按字⺟顺序排列。打印该列\n",
    "表，核实排列顺序确实变了。\n",
    "使⽤ sort() 修改该列表，使其元素按与字⺟顺序相反的顺序排\n",
    "列。打印该列表，核实排列顺序确实变了。"
   ]
  },
  {
   "cell_type": "code",
   "execution_count": 15,
   "id": "94060a68",
   "metadata": {},
   "outputs": [
    {
     "name": "stdout",
     "output_type": "stream",
     "text": [
      "Original order:\n",
      "['china', 'italy', 'korea', 'japan', 'australia']\n",
      "\n",
      "Alphabetical:\n",
      "['australia', 'china', 'italy', 'japan', 'korea']\n",
      "\n",
      "Original order:\n",
      "['china', 'italy', 'korea', 'japan', 'australia']\n",
      "\n",
      "Reverse alphabetical:\n",
      "['korea', 'japan', 'italy', 'china', 'australia']\n",
      "\n",
      "Original order:\n",
      "['china', 'italy', 'korea', 'japan', 'australia']\n",
      "\n",
      "Reversed:\n",
      "['australia', 'japan', 'korea', 'italy', 'china']\n",
      "\n",
      "Original order:\n",
      "['china', 'italy', 'korea', 'japan', 'australia']\n",
      "\n",
      "Alphabetical\n",
      "['australia', 'china', 'italy', 'japan', 'korea']\n",
      "\n",
      "Reverse alphabetical\n",
      "['korea', 'japan', 'italy', 'china', 'australia']\n"
     ]
    }
   ],
   "source": [
    "locations = ['china', 'italy', 'korea', 'japan', 'australia']\n",
    "print(\"Original order:\")\n",
    "print(locations)\n",
    "print(\"\\nAlphabetical:\")\n",
    "print(sorted(locations))\n",
    "print(\"\\nOriginal order:\")\n",
    "print(locations)\n",
    "print(\"\\nReverse alphabetical:\")\n",
    "print(sorted(locations, reverse=True))\n",
    "print(\"\\nOriginal order:\")\n",
    "print(locations)\n",
    "print(\"\\nReversed:\")\n",
    "locations.reverse()\n",
    "print(locations)\n",
    "print(\"\\nOriginal order:\")\n",
    "locations.reverse()\n",
    "print(locations)\n",
    "print(\"\\nAlphabetical\")\n",
    "locations.sort()\n",
    "print(locations)\n",
    "print(\"\\nReverse alphabetical\")\n",
    "locations.sort(reverse=True)\n",
    "print(locations)"
   ]
  },
  {
   "cell_type": "markdown",
   "id": "07113e97",
   "metadata": {},
   "source": [
    "### 练习 3.9：晚餐嘉宾 选择你为完成练习 3.4〜练习 3.7 ⽽编写的⼀个程序，在其中使⽤ len() 打印⼀条消息，指出你邀请了多少位嘉宾来共进晚餐。"
   ]
  },
  {
   "cell_type": "code",
   "execution_count": 16,
   "id": "6b38cc5b",
   "metadata": {},
   "outputs": [
    {
     "name": "stdout",
     "output_type": "stream",
     "text": [
      "Jay, please come to dinner.\n",
      "Tun, please come to dinner.\n",
      "Woozi, please come to dinner.\n"
     ]
    },
    {
     "data": {
      "text/plain": [
       "3"
      ]
     },
     "execution_count": 16,
     "metadata": {},
     "output_type": "execute_result"
    }
   ],
   "source": [
    "guests = ['jay', 'tun', 'woozi']\n",
    "name = guests[0].title()\n",
    "print(f\"{name}, please come to dinner.\")\n",
    "name = guests[1].title()\n",
    "print(f\"{name}, please come to dinner.\")\n",
    "name = guests[2].title()\n",
    "print(f\"{name}, please come to dinner.\")\n",
    "len(guests)"
   ]
  },
  {
   "cell_type": "code",
   "execution_count": null,
   "id": "574ffffe",
   "metadata": {},
   "outputs": [],
   "source": []
  }
 ],
 "metadata": {
  "kernelspec": {
   "display_name": "Python 3 (ipykernel)",
   "language": "python",
   "name": "python3"
  },
  "language_info": {
   "codemirror_mode": {
    "name": "ipython",
    "version": 3
   },
   "file_extension": ".py",
   "mimetype": "text/x-python",
   "name": "python",
   "nbconvert_exporter": "python",
   "pygments_lexer": "ipython3",
   "version": "3.11.5"
  }
 },
 "nbformat": 4,
 "nbformat_minor": 5
}
