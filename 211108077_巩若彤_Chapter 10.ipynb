{
 "cells": [
  {
   "cell_type": "markdown",
   "id": "7c34ffbf",
   "metadata": {},
   "source": [
    "# 第 10 章 ⽂件和异常"
   ]
  },
  {
   "cell_type": "markdown",
   "id": "83f8a666",
   "metadata": {},
   "source": [
    "## 10.1 读取⽂件"
   ]
  },
  {
   "cell_type": "markdown",
   "id": "c16ec03a",
   "metadata": {},
   "source": [
    "### 10.1.1 读取⽂件的全部内容"
   ]
  },
  {
   "cell_type": "code",
   "execution_count": 3,
   "id": "70997164",
   "metadata": {},
   "outputs": [
    {
     "name": "stdout",
     "output_type": "stream",
     "text": [
      "3.1415926535\n",
      "  8979323846\n",
      "  2643383279\n"
     ]
    }
   ],
   "source": [
    "from pathlib import Path\n",
    "path = Path('pi_digits.txt')\n",
    "contents = path.read_text()\n",
    "print(contents)"
   ]
  },
  {
   "cell_type": "code",
   "execution_count": 4,
   "id": "d68ee5d3",
   "metadata": {},
   "outputs": [
    {
     "name": "stdout",
     "output_type": "stream",
     "text": [
      "3.1415926535\n",
      "  8979323846\n",
      "  2643383279\n"
     ]
    }
   ],
   "source": [
    "from pathlib import Path\n",
    "path = Path('pi_digits.txt')\n",
    "contents = path.read_text()\n",
    "contents = contents.rstrip()#要在读取⽂件内容时删除末尾的换⾏符，可在调⽤ read_text() 后直接调⽤⽅法 rstrip()\n",
    "print(contents)"
   ]
  },
  {
   "cell_type": "code",
   "execution_count": 5,
   "id": "f4575dbb",
   "metadata": {},
   "outputs": [],
   "source": [
    "with open(\"pi_digits.txt\",\"r\") as file:\n",
    "    data = file.readlines()"
   ]
  },
  {
   "cell_type": "code",
   "execution_count": 6,
   "id": "8fe1e730",
   "metadata": {},
   "outputs": [
    {
     "data": {
      "text/plain": [
       "['3.1415926535\\n', '  8979323846\\n', '  2643383279']"
      ]
     },
     "execution_count": 6,
     "metadata": {},
     "output_type": "execute_result"
    }
   ],
   "source": [
    "data"
   ]
  },
  {
   "cell_type": "code",
   "execution_count": 7,
   "id": "32640c9a",
   "metadata": {},
   "outputs": [
    {
     "data": {
      "text/plain": [
       "3"
      ]
     },
     "execution_count": 7,
     "metadata": {},
     "output_type": "execute_result"
    }
   ],
   "source": [
    "len(data)"
   ]
  },
  {
   "cell_type": "code",
   "execution_count": 8,
   "id": "64f2729c",
   "metadata": {},
   "outputs": [
    {
     "data": {
      "text/plain": [
       "'3.1415926535\\n'"
      ]
     },
     "execution_count": 8,
     "metadata": {},
     "output_type": "execute_result"
    }
   ],
   "source": [
    "data[0]"
   ]
  },
  {
   "cell_type": "markdown",
   "id": "41b02a9b",
   "metadata": {},
   "source": [
    "### 10.1.2 相对⽂件路径和绝对⽂件路径"
   ]
  },
  {
   "cell_type": "code",
   "execution_count": 9,
   "id": "a75bf830",
   "metadata": {},
   "outputs": [],
   "source": [
    "path = Path('text_files/filename.txt')#相对⽂件路径让 Python 到相对于当前运⾏的程序所在⽬录的指定位置去查找。"
   ]
  },
  {
   "cell_type": "code",
   "execution_count": 10,
   "id": "db69fe68",
   "metadata": {},
   "outputs": [],
   "source": [
    "path = Path('/home/eric/data_files/text_files/filename.txt')#将⽂件在计算机中的准确位置告诉 Python，这样就不⽤管当前运⾏的程序存储在什么地⽅了。这称为绝对⽂件路径"
   ]
  },
  {
   "cell_type": "markdown",
   "id": "678c990e",
   "metadata": {},
   "source": [
    "### 10.1.3 访问⽂件中的各⾏"
   ]
  },
  {
   "cell_type": "code",
   "execution_count": 11,
   "id": "df805aab",
   "metadata": {},
   "outputs": [
    {
     "name": "stdout",
     "output_type": "stream",
     "text": [
      "3.1415926535\n",
      "  8979323846\n",
      "  2643383279\n"
     ]
    }
   ],
   "source": [
    "from pathlib import Path\n",
    "path = Path('pi_digits.txt')\n",
    "contents = path.read_text()\n",
    "lines = contents.splitlines()\n",
    "for line in lines:\n",
    "    print(line)"
   ]
  },
  {
   "cell_type": "markdown",
   "id": "1502f91a",
   "metadata": {},
   "source": [
    "### 10.1.4 使⽤⽂件的内容"
   ]
  },
  {
   "cell_type": "code",
   "execution_count": 12,
   "id": "37485f60",
   "metadata": {},
   "outputs": [
    {
     "name": "stdout",
     "output_type": "stream",
     "text": [
      "3.1415926535  8979323846  2643383279\n",
      "36\n"
     ]
    }
   ],
   "source": [
    "from pathlib import Path\n",
    "path = Path('pi_digits.txt')\n",
    "contents = path.read_text()\n",
    "lines = contents.splitlines()\n",
    "pi_string = ''\n",
    "for line in lines:\n",
    "    pi_string += line\n",
    "print(pi_string)\n",
    "print(len(pi_string))"
   ]
  },
  {
   "cell_type": "code",
   "execution_count": 13,
   "id": "d9df7bf0",
   "metadata": {},
   "outputs": [
    {
     "name": "stdout",
     "output_type": "stream",
     "text": [
      "3.141592653589793238462643383279\n",
      "32\n"
     ]
    }
   ],
   "source": [
    "from pathlib import Path\n",
    "path = Path('pi_digits.txt')\n",
    "contents = path.read_text()\n",
    "lines = contents.splitlines()\n",
    "pi_string = ''\n",
    "\n",
    "for line in lines:\n",
    "    pi_string += line.lstrip()\n",
    "print(pi_string)\n",
    "print(len(pi_string))"
   ]
  },
  {
   "cell_type": "markdown",
   "id": "f6e6d8bf",
   "metadata": {},
   "source": [
    "### 10.1.5 包含 100 万位的⼤型⽂件"
   ]
  },
  {
   "cell_type": "code",
   "execution_count": 18,
   "id": "389d9084",
   "metadata": {},
   "outputs": [
    {
     "name": "stdout",
     "output_type": "stream",
     "text": [
      "3.141592653589793238462643383279...\n",
      "32\n"
     ]
    }
   ],
   "source": [
    "from pathlib import Path\n",
    "\n",
    "path = Path('pi_million_digits.txt')\n",
    "\n",
    "\n",
    "lines = contents.splitlines()\n",
    "pi_string = ''\n",
    "for line in lines:\n",
    "    pi_string += line.lstrip()\n",
    "    \n",
    "print(f\"{pi_string[:52]}...\")\n",
    "print(len(pi_string))"
   ]
  },
  {
   "cell_type": "markdown",
   "id": "e36270ba",
   "metadata": {},
   "source": [
    "### 10.1.6 圆周率值中包含你的⽣⽇吗"
   ]
  },
  {
   "cell_type": "code",
   "execution_count": 17,
   "id": "556827d0",
   "metadata": {},
   "outputs": [
    {
     "name": "stdout",
     "output_type": "stream",
     "text": [
      "Enter your birthday, in the form mmddyy: 11172002\n",
      "Your birthday does not appear in the first million digits of pi.\n"
     ]
    }
   ],
   "source": [
    "from pathlib import Path\n",
    "\n",
    "path = Path('pi_million_digits.txt')\n",
    "\n",
    "\n",
    "lines = contents.splitlines()\n",
    "pi_string = ''\n",
    "\n",
    "for line in lines:\n",
    "    pi_string += line.strip()\n",
    "birthday = input(\"Enter your birthday, in the form mmddyy: \")\n",
    "if birthday in pi_string:\n",
    "    print(\"Your birthday appears in the first million digits of pi!\")\n",
    "else:\n",
    "    print(\"Your birthday does not appear in the first million digits of pi.\")"
   ]
  },
  {
   "cell_type": "markdown",
   "id": "0b0a62ff",
   "metadata": {},
   "source": [
    "## 10.2 写⼊⽂件"
   ]
  },
  {
   "cell_type": "markdown",
   "id": "fcdf24cf",
   "metadata": {},
   "source": [
    "### 10.2.1 写⼊⼀⾏"
   ]
  },
  {
   "cell_type": "code",
   "execution_count": 19,
   "id": "e391aa95",
   "metadata": {},
   "outputs": [
    {
     "data": {
      "text/plain": [
       "19"
      ]
     },
     "execution_count": 19,
     "metadata": {},
     "output_type": "execute_result"
    }
   ],
   "source": [
    "from pathlib import Path\n",
    "\n",
    "path = Path('programming.txt')\n",
    "path.write_text(\"I love programming.\")"
   ]
  },
  {
   "cell_type": "markdown",
   "id": "69240be4",
   "metadata": {},
   "source": [
    "### 10.2.2 写⼊多⾏"
   ]
  },
  {
   "cell_type": "code",
   "execution_count": 20,
   "id": "51c0cf46",
   "metadata": {},
   "outputs": [
    {
     "data": {
      "text/plain": [
       "78"
      ]
     },
     "execution_count": 20,
     "metadata": {},
     "output_type": "execute_result"
    }
   ],
   "source": [
    "from pathlib import Path\n",
    "\n",
    "contents = \"I love programming.\\n\"\n",
    "contents += \"I love creating new games.\\n\"\n",
    "contents += \"I also love working with data.\\n\"\n",
    "\n",
    "path = Path('programming.txt')\n",
    "path.write_text(contents)"
   ]
  },
  {
   "cell_type": "markdown",
   "id": "0874c1db",
   "metadata": {},
   "source": [
    "## 10.3 异常"
   ]
  },
  {
   "cell_type": "markdown",
   "id": "4a68c30d",
   "metadata": {},
   "source": [
    "### 10.3.1 处理 ZeroDivisionError 异常"
   ]
  },
  {
   "cell_type": "code",
   "execution_count": 1,
   "id": "05b5f7c2",
   "metadata": {},
   "outputs": [
    {
     "ename": "ZeroDivisionError",
     "evalue": "division by zero",
     "output_type": "error",
     "traceback": [
      "\u001b[1;31m---------------------------------------------------------------------------\u001b[0m",
      "\u001b[1;31mZeroDivisionError\u001b[0m                         Traceback (most recent call last)",
      "Cell \u001b[1;32mIn[1], line 1\u001b[0m\n\u001b[1;32m----> 1\u001b[0m \u001b[38;5;28mprint\u001b[39m(\u001b[38;5;241m5\u001b[39m\u001b[38;5;241m/\u001b[39m\u001b[38;5;241m0\u001b[39m)\n",
      "\u001b[1;31mZeroDivisionError\u001b[0m: division by zero"
     ]
    }
   ],
   "source": [
    "print(5/0)"
   ]
  },
  {
   "cell_type": "markdown",
   "id": "d36bd296",
   "metadata": {},
   "source": [
    "### 10.3.2 使⽤ try-except 代码块"
   ]
  },
  {
   "cell_type": "code",
   "execution_count": 2,
   "id": "1c753915",
   "metadata": {},
   "outputs": [
    {
     "name": "stdout",
     "output_type": "stream",
     "text": [
      "You can't divide by zero!\n"
     ]
    }
   ],
   "source": [
    "try:\n",
    "    print(5/0)\n",
    "except ZeroDivisionError:\n",
    "    print(\"You can't divide by zero!\")"
   ]
  },
  {
   "cell_type": "markdown",
   "id": "6ce051f6",
   "metadata": {},
   "source": [
    "### 10.3.3 使⽤异常避免崩溃"
   ]
  },
  {
   "cell_type": "code",
   "execution_count": 3,
   "id": "487a1ea5",
   "metadata": {},
   "outputs": [
    {
     "name": "stdout",
     "output_type": "stream",
     "text": [
      "Give me two numbers, and I'll divide them.\n",
      "Enter 'q' to quit.\n",
      "\n",
      "First number: 11\n",
      "Second number: 11\n",
      "1.0\n",
      "\n",
      "First number: q\n"
     ]
    }
   ],
   "source": [
    "print(\"Give me two numbers, and I'll divide them.\")\n",
    "print(\"Enter 'q' to quit.\")\n",
    "while True:\n",
    "    first_number = input(\"\\nFirst number: \")\n",
    "    if first_number == 'q':\n",
    "        break\n",
    "    second_number = input(\"Second number: \")\n",
    "    if second_number == 'q':\n",
    "        break\n",
    "    answer = int(first_number) / int(second_number)\n",
    "    print(answer)"
   ]
  },
  {
   "cell_type": "markdown",
   "id": "99942e72",
   "metadata": {},
   "source": [
    "### 10.3.4 else 代码块"
   ]
  },
  {
   "cell_type": "code",
   "execution_count": null,
   "id": "e2f7c725",
   "metadata": {},
   "outputs": [],
   "source": [
    "#通过将可能引发错误的代码放在 try-except 代码块中，可提⾼程序抵御错误的能⼒。"
   ]
  },
  {
   "cell_type": "code",
   "execution_count": 4,
   "id": "d0f2e4e8",
   "metadata": {},
   "outputs": [
    {
     "name": "stdout",
     "output_type": "stream",
     "text": [
      "\n",
      "Please enter the first number (enter 'q' to quit): 3\n",
      "Please enter the second number: 0\n",
      "You can't divide by 0!\n",
      "\n",
      "Please enter the first number (enter 'q' to quit): 4\n",
      "Please enter the second number: 2\n",
      "2.0\n",
      "\n",
      "Please enter the first number (enter 'q' to quit): q\n"
     ]
    }
   ],
   "source": [
    "while True:\n",
    "    first_number = input(\"\\nPlease enter the first number (enter 'q' to quit): \")\n",
    "    if first_number == 'q':\n",
    "        break\n",
    "    second_number = input(\"Please enter the second number: \")\n",
    "    if second_number == 'q':\n",
    "        break\n",
    "    try:\n",
    "        answer = int(first_number) / int(second_number)\n",
    "    except ZeroDivisionError:\n",
    "        print(\"You can't divide by 0!\")\n",
    "    else:\n",
    "        print(answer)"
   ]
  },
  {
   "cell_type": "markdown",
   "id": "600e3805",
   "metadata": {},
   "source": [
    "### 10.3.5 处理 FileNotFoundError 异常"
   ]
  },
  {
   "cell_type": "code",
   "execution_count": 5,
   "id": "3fed56e1",
   "metadata": {},
   "outputs": [
    {
     "ename": "FileNotFoundError",
     "evalue": "[Errno 2] No such file or directory: 'alice.txt'",
     "output_type": "error",
     "traceback": [
      "\u001b[1;31m---------------------------------------------------------------------------\u001b[0m",
      "\u001b[1;31mFileNotFoundError\u001b[0m                         Traceback (most recent call last)",
      "Cell \u001b[1;32mIn[5], line 3\u001b[0m\n\u001b[0;32m      1\u001b[0m \u001b[38;5;28;01mfrom\u001b[39;00m \u001b[38;5;21;01mpathlib\u001b[39;00m \u001b[38;5;28;01mimport\u001b[39;00m Path\n\u001b[0;32m      2\u001b[0m path \u001b[38;5;241m=\u001b[39m Path(\u001b[38;5;124m'\u001b[39m\u001b[38;5;124malice.txt\u001b[39m\u001b[38;5;124m'\u001b[39m)\n\u001b[1;32m----> 3\u001b[0m contents \u001b[38;5;241m=\u001b[39m path\u001b[38;5;241m.\u001b[39mread_text(encoding\u001b[38;5;241m=\u001b[39m\u001b[38;5;124m'\u001b[39m\u001b[38;5;124mutf-8\u001b[39m\u001b[38;5;124m'\u001b[39m)\n",
      "File \u001b[1;32mD:\\anaconda\\Lib\\pathlib.py:1058\u001b[0m, in \u001b[0;36mPath.read_text\u001b[1;34m(self, encoding, errors)\u001b[0m\n\u001b[0;32m   1054\u001b[0m \u001b[38;5;250m\u001b[39m\u001b[38;5;124;03m\"\"\"\u001b[39;00m\n\u001b[0;32m   1055\u001b[0m \u001b[38;5;124;03mOpen the file in text mode, read it, and close the file.\u001b[39;00m\n\u001b[0;32m   1056\u001b[0m \u001b[38;5;124;03m\"\"\"\u001b[39;00m\n\u001b[0;32m   1057\u001b[0m encoding \u001b[38;5;241m=\u001b[39m io\u001b[38;5;241m.\u001b[39mtext_encoding(encoding)\n\u001b[1;32m-> 1058\u001b[0m \u001b[38;5;28;01mwith\u001b[39;00m \u001b[38;5;28mself\u001b[39m\u001b[38;5;241m.\u001b[39mopen(mode\u001b[38;5;241m=\u001b[39m\u001b[38;5;124m'\u001b[39m\u001b[38;5;124mr\u001b[39m\u001b[38;5;124m'\u001b[39m, encoding\u001b[38;5;241m=\u001b[39mencoding, errors\u001b[38;5;241m=\u001b[39merrors) \u001b[38;5;28;01mas\u001b[39;00m f:\n\u001b[0;32m   1059\u001b[0m     \u001b[38;5;28;01mreturn\u001b[39;00m f\u001b[38;5;241m.\u001b[39mread()\n",
      "File \u001b[1;32mD:\\anaconda\\Lib\\pathlib.py:1044\u001b[0m, in \u001b[0;36mPath.open\u001b[1;34m(self, mode, buffering, encoding, errors, newline)\u001b[0m\n\u001b[0;32m   1042\u001b[0m \u001b[38;5;28;01mif\u001b[39;00m \u001b[38;5;124m\"\u001b[39m\u001b[38;5;124mb\u001b[39m\u001b[38;5;124m\"\u001b[39m \u001b[38;5;129;01mnot\u001b[39;00m \u001b[38;5;129;01min\u001b[39;00m mode:\n\u001b[0;32m   1043\u001b[0m     encoding \u001b[38;5;241m=\u001b[39m io\u001b[38;5;241m.\u001b[39mtext_encoding(encoding)\n\u001b[1;32m-> 1044\u001b[0m \u001b[38;5;28;01mreturn\u001b[39;00m io\u001b[38;5;241m.\u001b[39mopen(\u001b[38;5;28mself\u001b[39m, mode, buffering, encoding, errors, newline)\n",
      "\u001b[1;31mFileNotFoundError\u001b[0m: [Errno 2] No such file or directory: 'alice.txt'"
     ]
    }
   ],
   "source": [
    "from pathlib import Path\n",
    "path = Path('alice.txt')\n",
    "contents = path.read_text(encoding='utf-8')"
   ]
  },
  {
   "cell_type": "code",
   "execution_count": 6,
   "id": "9dde0da4",
   "metadata": {},
   "outputs": [
    {
     "name": "stdout",
     "output_type": "stream",
     "text": [
      "Sorry, the file alice.txt does not exist.\n"
     ]
    }
   ],
   "source": [
    "from pathlib import Path\n",
    "path = Path('alice.txt')\n",
    "try:\n",
    "    contents = path.read_text(encoding='utf-8')\n",
    "except FileNotFoundError:\n",
    "    print(f\"Sorry, the file {path} does not exist.\")"
   ]
  },
  {
   "cell_type": "markdown",
   "id": "b7a9c45b",
   "metadata": {},
   "source": [
    "### 10.3.6 分析⽂本"
   ]
  },
  {
   "cell_type": "code",
   "execution_count": 9,
   "id": "b40c951f",
   "metadata": {},
   "outputs": [
    {
     "name": "stdout",
     "output_type": "stream",
     "text": [
      "The file alice.txt has about 0 words.\n"
     ]
    }
   ],
   "source": [
    "from pathlib import Path\n",
    "path = Path('alice.txt')\n",
    "try:\n",
    "    contents = path.read_text(encoding='utf-8')\n",
    "except FileNotFoundError:\n",
    "    print(f\"Sorry, the file {path} does not exist.\")\n",
    "else:\n",
    " #计算⽂件⼤致包含多少个单词\n",
    "    words = contents.split()\n",
    "    num_words = len(words)\n",
    "    print(f\"The file {path} has about {num_words} words.\")"
   ]
  },
  {
   "cell_type": "markdown",
   "id": "5384dfa7",
   "metadata": {},
   "source": [
    "### 10.3.7 使⽤多个⽂件"
   ]
  },
  {
   "cell_type": "code",
   "execution_count": 10,
   "id": "bccd87ad",
   "metadata": {},
   "outputs": [
    {
     "name": "stdout",
     "output_type": "stream",
     "text": [
      "The file alice.txt has about 0 words.\n"
     ]
    }
   ],
   "source": [
    "from pathlib import Path\n",
    "def count_words(path):\n",
    "    \"\"\"计算⼀个⽂件⼤致包含多少个单词\"\"\"\n",
    "    try:\n",
    "        contents = path.read_text(encoding='utf-8')\n",
    "    except FileNotFoundError:\n",
    "        print(f\"Sorry, the file {path} does not exist.\")\n",
    "    else:\n",
    " # 计算⽂件⼤致包含多少个单词\n",
    "        words = contents.split()\n",
    "        num_words = len(words)\n",
    "        print(f\"The file {path} has about {num_words} words.\")\n",
    "path = Path('alice.txt')\n",
    "count_words(path)"
   ]
  },
  {
   "cell_type": "code",
   "execution_count": 13,
   "id": "6bfb31ed",
   "metadata": {},
   "outputs": [
    {
     "name": "stdout",
     "output_type": "stream",
     "text": [
      "The file alice.txt has about 0 words.\n",
      "The file alice.txt has about 0 words.\n",
      "Sorry, the file siddhartha.txt does not exist.\n",
      "Sorry, the file moby_dick.txt does not exist.\n",
      "Sorry, the file little_women.txt does not exist.\n"
     ]
    }
   ],
   "source": [
    "from pathlib import Path\n",
    "def count_words(filename):\n",
    "    \"\"\"计算⼀个⽂件⼤致包含多少个单词\"\"\"\n",
    "    try:\n",
    "        contents = path.read_text(encoding='utf-8')\n",
    "    except FileNotFoundError:\n",
    "        print(f\"Sorry, the file {path} does not exist.\")\n",
    "    else:\n",
    " # 计算⽂件⼤致包含多少个单词\n",
    "        words = contents.split()\n",
    "        num_words = len(words)\n",
    "        print(f\"The file {path} has about {num_words} words.\")\n",
    "path = Path('alice.txt')\n",
    "count_words(path)\n",
    "filenames = ['alice.txt', 'siddhartha.txt', 'moby_dick.txt', 'little_women.txt']\n",
    "for filename in filenames:\n",
    "    path = Path(filename)\n",
    "    count_words(path)"
   ]
  },
  {
   "cell_type": "markdown",
   "id": "9f2e3b8c",
   "metadata": {},
   "source": [
    "### 10.3.8 静默失败"
   ]
  },
  {
   "cell_type": "code",
   "execution_count": 17,
   "id": "4a817005",
   "metadata": {},
   "outputs": [
    {
     "name": "stdout",
     "output_type": "stream",
     "text": [
      "The file has about 0 words.\n"
     ]
    }
   ],
   "source": [
    "from pathlib import Path\n",
    "\n",
    "def count_words(contents):\n",
    "    \"\"\"计算文件内容大致包含多少个单词\"\"\"\n",
    "    words = contents.split()\n",
    "    num_words = len(words)\n",
    "    print(f\"The file has about {num_words} words.\")\n",
    "\n",
    "filenames = ['alice.txt', 'moby_dick.txt', 'little_women.txt']\n",
    "for filename in filenames:\n",
    "    try:\n",
    "        path = Path(filename)\n",
    "        contents = path.read_text(encoding='utf-8')\n",
    "        count_words(contents)\n",
    "    except FileNotFoundError:\n",
    "        # 静默失败，什么都不做\n",
    "        pass\n"
   ]
  },
  {
   "cell_type": "markdown",
   "id": "656795a6",
   "metadata": {},
   "source": [
    "## 10.4 存储数据"
   ]
  },
  {
   "cell_type": "markdown",
   "id": "43f38fe7",
   "metadata": {},
   "source": [
    "### 10.4.1 使⽤ json.dumps() 和 json.loads()"
   ]
  },
  {
   "cell_type": "code",
   "execution_count": 18,
   "id": "575f8e36",
   "metadata": {},
   "outputs": [
    {
     "data": {
      "text/plain": [
       "20"
      ]
     },
     "execution_count": 18,
     "metadata": {},
     "output_type": "execute_result"
    }
   ],
   "source": [
    "from pathlib import Path\n",
    "import json\n",
    "\n",
    "numbers = [2, 3, 5, 7, 11, 13]\n",
    "\n",
    "path = Path('numbers.json')\n",
    "contents = json.dumps(numbers)\n",
    "path.write_text(contents)"
   ]
  },
  {
   "cell_type": "code",
   "execution_count": 19,
   "id": "92d24ca3",
   "metadata": {},
   "outputs": [
    {
     "name": "stdout",
     "output_type": "stream",
     "text": [
      "[2, 3, 5, 7, 11, 13]\n"
     ]
    }
   ],
   "source": [
    "from pathlib import Path\n",
    "import json\n",
    "path = Path('numbers.json')\n",
    "contents = path.read_text()\n",
    "numbers = json.loads(contents)\n",
    "print(numbers)"
   ]
  },
  {
   "cell_type": "markdown",
   "id": "3c9187ce",
   "metadata": {},
   "source": [
    "### 10.4.2 保存和读取⽤户⽣成的数据"
   ]
  },
  {
   "cell_type": "code",
   "execution_count": 20,
   "id": "20c87551",
   "metadata": {},
   "outputs": [
    {
     "name": "stdout",
     "output_type": "stream",
     "text": [
      "What is your name? hazel\n",
      "We'll remember you when you come back, hazel!\n"
     ]
    }
   ],
   "source": [
    "from pathlib import Path\n",
    "import json\n",
    "username = input(\"What is your name? \")\n",
    "path = Path('username.json')\n",
    "contents = json.dumps(username)\n",
    "path.write_text(contents)\n",
    "print(f\"We'll remember you when you come back, {username}!\")"
   ]
  },
  {
   "cell_type": "code",
   "execution_count": 21,
   "id": "1e647873",
   "metadata": {},
   "outputs": [
    {
     "name": "stdout",
     "output_type": "stream",
     "text": [
      "Welcome back, hazel!\n"
     ]
    }
   ],
   "source": [
    "from pathlib import Path\n",
    "import json\n",
    "path = Path('username.json')\n",
    "contents = path.read_text()\n",
    "username = json.loads(contents)\n",
    "print(f\"Welcome back, {username}!\")"
   ]
  },
  {
   "cell_type": "code",
   "execution_count": 22,
   "id": "8d799f8f",
   "metadata": {},
   "outputs": [
    {
     "name": "stdout",
     "output_type": "stream",
     "text": [
      "Welcome back, hazel!\n"
     ]
    }
   ],
   "source": [
    "from pathlib import Path\n",
    "import json \n",
    "path = Path('username.json')\n",
    "if path.exists():\n",
    "    contents = path.read_text()\n",
    "    username = json.loads(contents)\n",
    "    print(f\"Welcome back, {username}!\")\n",
    "else:\n",
    "    username = input(\"What is your name? \")\n",
    "    contents = json.dumps(username)\n",
    "    path.write_text(contents)\n",
    "    print(f\"We'll remember you when you come back, {username}!\")"
   ]
  },
  {
   "cell_type": "markdown",
   "id": "0d46d315",
   "metadata": {},
   "source": [
    "### 10.4.3 重构"
   ]
  },
  {
   "cell_type": "code",
   "execution_count": 23,
   "id": "cdcee17e",
   "metadata": {},
   "outputs": [
    {
     "name": "stdout",
     "output_type": "stream",
     "text": [
      "Welcome back, hazel!\n"
     ]
    }
   ],
   "source": [
    "from pathlib import Path\n",
    "import json\n",
    "\n",
    "def greet_user():\n",
    "    \"\"\"问候用户，并指出其名字\"\"\"\n",
    "    path = Path('username.json')  # 创建路径对象\n",
    "    if path.exists():\n",
    "        contents = path.read_text()\n",
    "        username = json.loads(contents)\n",
    "        print(f\"Welcome back, {username}!\")\n",
    "    else:\n",
    "        username = input(\"What is your name? \")\n",
    "        contents = json.dumps(username)\n",
    "        path.write_text(contents)\n",
    "        print(f\"We'll remember you when you come back, {username}!\")\n",
    "\n",
    "greet_user()"
   ]
  },
  {
   "cell_type": "code",
   "execution_count": 24,
   "id": "b9e4a9a6",
   "metadata": {},
   "outputs": [
    {
     "name": "stdout",
     "output_type": "stream",
     "text": [
      "Welcome back, hazel!\n"
     ]
    }
   ],
   "source": [
    "from pathlib import Path\n",
    "import json\n",
    "def get_stored_username(path):\n",
    "    \"\"\"如果存储了⽤户名，就获取它\"\"\"\n",
    "    if path.exists():\n",
    "        contents = path.read_text()\n",
    "        username = json.loads(contents)\n",
    "        return username\n",
    "    else:\n",
    "        return None\n",
    "def greet_user():\n",
    "    \"\"\"问候⽤户，并指出其名字\"\"\"\n",
    "    path = Path('username.json')\n",
    "    username = get_stored_username(path)\n",
    "    if username:\n",
    "        print(f\"Welcome back, {username}!\")\n",
    "    else:\n",
    "        username = input(\"What is your name? \")\n",
    "        contents = json.dumps(username)\n",
    "        path.write_text(contents)\n",
    "        print(f\"We'll remember you when you come back, {username}!\")\n",
    "greet_user()"
   ]
  },
  {
   "cell_type": "code",
   "execution_count": 26,
   "id": "654f3ad1",
   "metadata": {},
   "outputs": [
    {
     "name": "stdout",
     "output_type": "stream",
     "text": [
      "Welcome back, hazel!\n"
     ]
    }
   ],
   "source": [
    "from pathlib import Path\n",
    "import json\n",
    "\n",
    "def get_stored_username(path):\n",
    "    \"\"\"如果存储了用户名，就获取它\"\"\"\n",
    "    if path.exists():\n",
    "        contents = path.read_text()\n",
    "        username = json.loads(contents)\n",
    "        return username\n",
    "    else:\n",
    "        return None\n",
    "\n",
    "def get_new_username(path):\n",
    "    \"\"\"提示用户输入用户名\"\"\"\n",
    "    username = input(\"What is your name? \")\n",
    "    contents = json.dumps(username)\n",
    "    path.write_text(contents)\n",
    "    return username\n",
    "\n",
    "def greet_user():\n",
    "    \"\"\"问候用户，并指出其名字\"\"\"\n",
    "    path = Path('username.json')\n",
    "    username = get_stored_username(path)\n",
    "    if username:\n",
    "        print(f\"Welcome back, {username}!\")\n",
    "    else:\n",
    "        username = get_new_username(path)\n",
    "        print(f\"We'll remember you when you come back, {username}!\")\n",
    "\n",
    "greet_user()\n"
   ]
  },
  {
   "cell_type": "markdown",
   "id": "e2f8c3be",
   "metadata": {},
   "source": [
    "### 练习 10.1：Python 学习笔记"
   ]
  },
  {
   "cell_type": "code",
   "execution_count": 28,
   "id": "4f01b67b",
   "metadata": {},
   "outputs": [
    {
     "name": "stdout",
     "output_type": "stream",
     "text": [
      "Printing the entire file:\n",
      "In Python you can define variables and assign values to them.\n",
      "In Python you can create functions to encapsulate reusable pieces of code.\n",
      "In Python you can use loops and conditional statements to control the flow of your program.\n",
      "In Python you can work with lists, dictionaries, tuples, and sets to store and manipulate data.\n",
      "In Python you can import modules and libraries to extend the functionality of your program.\n",
      "\n",
      "\n",
      "Printing each line using a list:\n",
      "In Python you can define variables and assign values to them.\n",
      "In Python you can create functions to encapsulate reusable pieces of code.\n",
      "In Python you can use loops and conditional statements to control the flow of your program.\n",
      "In Python you can work with lists, dictionaries, tuples, and sets to store and manipulate data.\n",
      "In Python you can import modules and libraries to extend the functionality of your program.\n"
     ]
    }
   ],
   "source": [
    "filename = 'learning_python.txt'\n",
    "\n",
    "# 打印整个文件内容\n",
    "print(\"Printing the entire file:\")\n",
    "with open(filename) as file_object:\n",
    "    contents = file_object.read()\n",
    "    print(contents)\n",
    "\n",
    "# 打印每一行内容\n",
    "print(\"\\nPrinting each line using a list:\")\n",
    "with open(filename) as file_object:\n",
    "    lines = file_object.readlines()\n",
    "\n",
    "for line in lines:\n",
    "    print(line.rstrip())  # rstrip()用于去除行末的换行符\n"
   ]
  },
  {
   "cell_type": "markdown",
   "id": "1bee64e5",
   "metadata": {},
   "source": [
    "### 练习 10.2：C 语⾔学习笔记"
   ]
  },
  {
   "cell_type": "code",
   "execution_count": 29,
   "id": "c0860e16",
   "metadata": {},
   "outputs": [
    {
     "name": "stdout",
     "output_type": "stream",
     "text": [
      "In C you can define variables and assign values to them.\n",
      "In C you can create functions to encapsulate reusable pieces of code.\n",
      "In C you can use loops and conditional statements to control the flow of your program.\n",
      "In C you can work with lists, dictionaries, tuples, and sets to store and manipulate data.\n",
      "In C you can import modules and libraries to extend the functionality of your program.\n"
     ]
    }
   ],
   "source": [
    "filename = 'learning_python.txt'\n",
    "\n",
    "# 读取文件并替换每一行中的'Python'为'C'，然后打印出来\n",
    "with open(filename) as file_object:\n",
    "    for line in file_object:\n",
    "        # 使用replace()方法替换Python为C，并打印替换后的行\n",
    "        print(line.replace('Python', 'C').rstrip())\n"
   ]
  },
  {
   "cell_type": "markdown",
   "id": "86047e35",
   "metadata": {},
   "source": [
    "### 练习 10.3：简化代码"
   ]
  },
  {
   "cell_type": "code",
   "execution_count": 30,
   "id": "d36d982b",
   "metadata": {},
   "outputs": [
    {
     "name": "stdout",
     "output_type": "stream",
     "text": [
      "In C you can define variables and assign values to them.\n",
      "In C you can create functions to encapsulate reusable pieces of code.\n",
      "In C you can use loops and conditional statements to control the flow of your program.\n",
      "In C you can work with lists, dictionaries, tuples, and sets to store and manipulate data.\n",
      "In C you can import modules and libraries to extend the functionality of your program.\n"
     ]
    }
   ],
   "source": [
    "filename = 'learning_python.txt'\n",
    "\n",
    "# 读取文件并替换每一行中的'Python'为'C'，然后打印出来\n",
    "with open(filename) as file_object:\n",
    "    for line in file_object.read().splitlines():\n",
    "        # 使用replace()方法替换Python为C，并打印替换后的行\n",
    "        print(line.replace('Python', 'C'))\n"
   ]
  },
  {
   "cell_type": "markdown",
   "id": "cdd4a521",
   "metadata": {},
   "source": [
    "### 练习 10.4：访客"
   ]
  },
  {
   "cell_type": "code",
   "execution_count": 31,
   "id": "fe92d897",
   "metadata": {},
   "outputs": [
    {
     "name": "stdout",
     "output_type": "stream",
     "text": [
      "Please enter your name: hazel\n",
      "Hello, hazel! Your name has been written to guest.txt.\n"
     ]
    }
   ],
   "source": [
    "filename = 'guest.txt'\n",
    "\n",
    "# 提示用户输入名字\n",
    "name = input(\"Please enter your name: \")\n",
    "\n",
    "# 将用户名字写入文件\n",
    "with open(filename, 'w') as file_object:\n",
    "    file_object.write(name)\n",
    "\n",
    "print(f\"Hello, {name}! Your name has been written to {filename}.\")\n"
   ]
  },
  {
   "cell_type": "markdown",
   "id": "7f0ada91",
   "metadata": {},
   "source": [
    "### 练习 10.5：访客簿"
   ]
  },
  {
   "cell_type": "code",
   "execution_count": 32,
   "id": "cdf52ff8",
   "metadata": {},
   "outputs": [
    {
     "name": "stdout",
     "output_type": "stream",
     "text": [
      "Welcome to the guest book!\n",
      "Enter 'quit' when you're finished.\n",
      "Please enter your name: 巩若彤\n",
      "Hello, 巩若彤! Your name has been added to the guest book.\n",
      "Please enter your name: hazelnut\n",
      "Hello, hazelnut! Your name has been added to the guest book.\n",
      "Please enter your name: quit\n",
      "Thank you for signing the guest book!\n"
     ]
    }
   ],
   "source": [
    "filename = 'guest_book.txt'\n",
    "\n",
    "print(\"Welcome to the guest book!\")\n",
    "print(\"Enter 'quit' when you're finished.\")\n",
    "\n",
    "# 打开文件以追加模式写入\n",
    "with open(filename, 'a') as file_object:\n",
    "    while True:\n",
    "        name = input(\"Please enter your name: \")\n",
    "        if name.lower() == 'quit':\n",
    "            break\n",
    "        else:\n",
    "            # 写入用户名字并换行\n",
    "            file_object.write(name + '\\n')\n",
    "            print(f\"Hello, {name}! Your name has been added to the guest book.\")\n",
    "\n",
    "print(\"Thank you for signing the guest book!\")\n"
   ]
  },
  {
   "cell_type": "markdown",
   "id": "0ec9dc60",
   "metadata": {},
   "source": [
    "### 练习 10.6：加法运算"
   ]
  },
  {
   "cell_type": "code",
   "execution_count": 34,
   "id": "bbddc734",
   "metadata": {},
   "outputs": [
    {
     "name": "stdout",
     "output_type": "stream",
     "text": [
      "Please enter the first number: 黑暗之主\n",
      "Error: Please enter numerical values only.\n",
      "Please enter the first number: 0\n",
      "Please enter the second number: 9\n",
      "The sum of 0 and 9 is 9.\n"
     ]
    }
   ],
   "source": [
    "while True:\n",
    "    try:\n",
    "        num1 = int(input(\"Please enter the first number: \"))\n",
    "        num2 = int(input(\"Please enter the second number: \"))\n",
    "        result = num1 + num2\n",
    "    except ValueError:\n",
    "        print(\"Error: Please enter numerical values only.\")\n",
    "    else:\n",
    "        print(f\"The sum of {num1} and {num2} is {result}.\")\n",
    "        break"
   ]
  },
  {
   "cell_type": "markdown",
   "id": "e5c97f9e",
   "metadata": {},
   "source": [
    "### 练习 10.7：加法计算器"
   ]
  },
  {
   "cell_type": "code",
   "execution_count": 35,
   "id": "ec21a1f9",
   "metadata": {},
   "outputs": [
    {
     "name": "stdout",
     "output_type": "stream",
     "text": [
      "Please enter the first number: 2\n",
      "Please enter the second number: 6\n",
      "The sum of 2 and 6 is 8.\n"
     ]
    }
   ],
   "source": [
    "while True:\n",
    "    try:\n",
    "        num1 = int(input(\"Please enter the first number: \"))\n",
    "        num2 = int(input(\"Please enter the second number: \"))\n",
    "    except ValueError:\n",
    "        print(\"Error: Please enter numerical values only. Try again.\")\n",
    "    else:\n",
    "        result = num1 + num2\n",
    "        print(f\"The sum of {num1} and {num2} is {result}.\")\n",
    "        break\n"
   ]
  },
  {
   "cell_type": "markdown",
   "id": "a69eed3d",
   "metadata": {},
   "source": [
    "### 练习 10.8：猫和狗"
   ]
  },
  {
   "cell_type": "code",
   "execution_count": 36,
   "id": "8e05f966",
   "metadata": {},
   "outputs": [
    {
     "name": "stdout",
     "output_type": "stream",
     "text": [
      "Sorry, one of the files doesn't exist.\n"
     ]
    }
   ],
   "source": [
    "try:\n",
    "    # 尝试读取cats.txt文件并打印内容\n",
    "    with open('cats.txt') as file_object:\n",
    "        print(\"Contents of cats.txt:\")\n",
    "        print(file_object.read())\n",
    "    # 尝试读取dogs.txt文件并打印内容\n",
    "    with open('dogs.txt') as file_object:\n",
    "        print(\"\\nContents of dogs.txt:\")\n",
    "        print(file_object.read())\n",
    "except FileNotFoundError:\n",
    "    print(\"Sorry, one of the files doesn't exist.\")"
   ]
  },
  {
   "cell_type": "markdown",
   "id": "da90b192",
   "metadata": {},
   "source": [
    "### 练习 10.9：静默的猫和狗"
   ]
  },
  {
   "cell_type": "code",
   "execution_count": 37,
   "id": "b39de425",
   "metadata": {},
   "outputs": [],
   "source": [
    "try:\n",
    "    with open('cats.txt') as file_object:\n",
    "        print(\"Contents of cats.txt:\")\n",
    "        print(file_object.read())\n",
    "except FileNotFoundError:\n",
    "    pass\n",
    "\n",
    "try:\n",
    "    with open('dogs.txt') as file_object:\n",
    "        print(\"\\nContents of dogs.txt:\")\n",
    "        print(file_object.read())\n",
    "except FileNotFoundError:\n",
    "    pass\n"
   ]
  },
  {
   "cell_type": "markdown",
   "id": "8580c45b",
   "metadata": {},
   "source": [
    "### 练习 10.10：常⻅单词"
   ]
  },
  {
   "cell_type": "code",
   "execution_count": 38,
   "id": "733f1344",
   "metadata": {},
   "outputs": [
    {
     "name": "stdout",
     "output_type": "stream",
     "text": [
      "The word 'the' appears 0 times in 'alice.txt'.\n",
      "The word 'the ' appears 0 times in 'alice.txt'.\n",
      "Sorry, the file moby_dick.txt does not exist.\n",
      "Sorry, the file moby_dick.txt does not exist.\n",
      "Sorry, the file little_women.txt does not exist.\n",
      "Sorry, the file little_women.txt does not exist.\n"
     ]
    }
   ],
   "source": [
    "def count_word_occurrences(filename, word):\n",
    "    \"\"\"计算单词在文件中出现的次数\"\"\"\n",
    "    try:\n",
    "        with open(filename, encoding='utf-8') as file_object:\n",
    "            contents = file_object.read()\n",
    "    except FileNotFoundError:\n",
    "        print(f\"Sorry, the file {filename} does not exist.\")\n",
    "    else:\n",
    "        # 使用 lower() 方法将内容转换为小写，然后计算单词出现的次数\n",
    "        occurrences = contents.lower().count(word)\n",
    "        print(f\"The word '{word}' appears {occurrences} times in '{filename}'.\")\n",
    "\n",
    "# 定义要分析的文件列表和单词\n",
    "files = ['alice.txt', 'moby_dick.txt', 'little_women.txt']\n",
    "word = 'the'\n",
    "\n",
    "# 计算每个文件中单词 'the' 的出现次数\n",
    "for file in files:\n",
    "    count_word_occurrences(file, word)\n",
    "    count_word_occurrences(file, word + ' ')\n"
   ]
  },
  {
   "cell_type": "markdown",
   "id": "e311fa4f",
   "metadata": {},
   "source": [
    "### 练习 10.11：喜欢的数"
   ]
  },
  {
   "cell_type": "code",
   "execution_count": null,
   "id": "39eecae9",
   "metadata": {},
   "outputs": [],
   "source": [
    "import json\n",
    "\n",
    "def get_favorite_number():\n",
    "    \"\"\"获取用户喜欢的数字并存储到文件中\"\"\"\n",
    "    favorite_number = input(\"Please enter your favorite number: \")\n",
    "    filename = 'favorite_number.json'\n",
    "    with open(filename, 'w') as file_object:\n",
    "        json.dump(favorite_number, file_object)\n",
    "    print(\"Your favorite number has been saved to 'favorite_number.json'.\")\n",
    "\n",
    "def display_favorite_number():\n",
    "    \"\"\"从文件中读取用户喜欢的数字并显示\"\"\"\n",
    "    filename = 'favorite_number.json'\n",
    "    try:\n",
    "        with open(filename) as file_object:\n",
    "            favorite_number = json.load(file_object)\n",
    "    except FileNotFoundError:\n",
    "        print(\"Sorry, the file 'favorite_number.json' does not exist.\")\n",
    "    else:\n",
    "        print(f\"I know your favorite number! It's {favorite_number}.\")\n",
    "\n",
    "# 获取用户喜欢的数字并存储到文件中\n",
    "get_favorite_number()\n",
    "\n",
    "# 从文件中读取用户喜欢的数字并显示\n",
    "display_favorite_number()\n"
   ]
  },
  {
   "cell_type": "markdown",
   "id": "a76a8bfd",
   "metadata": {},
   "source": [
    "### 练习 10.12：记住喜欢的数"
   ]
  },
  {
   "cell_type": "code",
   "execution_count": 40,
   "id": "8ff5157c",
   "metadata": {},
   "outputs": [
    {
     "name": "stdout",
     "output_type": "stream",
     "text": [
      "I know your favorite number! It's 13.\n"
     ]
    }
   ],
   "source": [
    "import json\n",
    "\n",
    "def get_favorite_number():\n",
    "    \"\"\"获取用户喜欢的数字并存储到文件中\"\"\"\n",
    "    favorite_number = input(\"Please enter your favorite number: \")\n",
    "    filename = 'favorite_number.json'\n",
    "    with open(filename, 'w') as file_object:\n",
    "        json.dump(favorite_number, file_object)\n",
    "    print(\"Your favorite number has been saved.\")\n",
    "\n",
    "def display_favorite_number():\n",
    "    \"\"\"从文件中读取用户喜欢的数字并显示\"\"\"\n",
    "    filename = 'favorite_number.json'\n",
    "    try:\n",
    "        with open(filename) as file_object:\n",
    "            favorite_number = json.load(file_object)\n",
    "    except FileNotFoundError:\n",
    "        favorite_number = None\n",
    "    if favorite_number:\n",
    "        print(f\"I know your favorite number! It's {favorite_number}.\")\n",
    "    else:\n",
    "        get_favorite_number()\n",
    "\n",
    "# 显示或获取用户喜欢的数字\n",
    "display_favorite_number()\n"
   ]
  },
  {
   "cell_type": "markdown",
   "id": "ebc24eb4",
   "metadata": {},
   "source": [
    "### 练习 10.13：⽤户字典"
   ]
  },
  {
   "cell_type": "code",
   "execution_count": 47,
   "id": "648601f6",
   "metadata": {},
   "outputs": [
    {
     "name": "stdout",
     "output_type": "stream",
     "text": [
      "Welcome back, 巩若彤!\n",
      "Hope you've been playing some board game. \n",
      "Have you seen a rabbit recently?\n"
     ]
    }
   ],
   "source": [
    "from pathlib import Path\n",
    "import json\n",
    "\n",
    "def get_stored_user_info(path):\n",
    "    \"\"\"获取存储的用户信息（如果有的话）\"\"\"\n",
    "    if path.exists():\n",
    "        contents = path.read_text()\n",
    "        user_dict = json.loads(contents)\n",
    "        return user_dict\n",
    "    else:\n",
    "        return None\n",
    "\n",
    "def get_new_user_info(path):\n",
    "    \"\"\"从新用户那里获取信息\"\"\"\n",
    "    username = input(\"What is your name? \")\n",
    "    game = input(\"What's your favorite game? \")\n",
    "    animal = input(\"What's your favorite animal? \")\n",
    "\n",
    "    user_dict = {\n",
    "        'username': username,\n",
    "        'game': game,\n",
    "        'animal': animal,\n",
    "    }\n",
    "    contents = json.dumps(user_dict)\n",
    "    path.write_text(contents)\n",
    "    return user_dict\n",
    "\n",
    "def greet_user():\n",
    "    \"\"\"根据用户的新老情况发出不同的问候，并在用户为老用户时显示其信息\"\"\"\n",
    "    path = Path('user_info.json')\n",
    "    user_dict = get_stored_user_info(path)\n",
    "    if user_dict:\n",
    "        print(f\"Welcome back, {user_dict['username']}!\")\n",
    "        print(f\"Hope you've been playing some {user_dict['game']}. \")\n",
    "        print(f\"Have you seen a {user_dict['animal']} recently?\")\n",
    "    else:\n",
    "        user_dict = get_new_user_info(path)\n",
    "        msg = f\"We'll remember you when you return, {user_dict['username']}!\"\n",
    "        print(msg)\n",
    "greet_user()"
   ]
  },
  {
   "cell_type": "markdown",
   "id": "9480568f",
   "metadata": {},
   "source": [
    "### 练习 10.14：验证⽤户"
   ]
  },
  {
   "cell_type": "code",
   "execution_count": 45,
   "id": "37ea0155",
   "metadata": {},
   "outputs": [
    {
     "name": "stdout",
     "output_type": "stream",
     "text": [
      "Are you hazel? (y/n) y\n",
      "Welcome back, hazel!\n"
     ]
    }
   ],
   "source": [
    "from pathlib import Path\n",
    "import json\n",
    "def get_stored_username(path):\n",
    "    \"\"\"获取存储的用户名（如果存储了）\"\"\"\n",
    "    if path.exists():\n",
    "        contents = path.read_text()\n",
    "        username = json.loads(contents)\n",
    "        return username\n",
    "    else:\n",
    "        return None\n",
    "def get_new_username(path):\n",
    "    \"\"\"提示用户输入用户名\"\"\"\n",
    "    username = input(\"What is your name? \")\n",
    "    contents = json.dumps(username)\n",
    "    path.write_text(contents)\n",
    "    return username\n",
    "def greet_user():\n",
    "    \"\"\"基于用户名问候用户\"\"\"\n",
    "    path = Path('username.json')\n",
    "    username = get_stored_username(path)\n",
    "    if username:\n",
    "        correct = input(f\"Are you {username}? (y/n) \")\n",
    "        if correct == 'y':\n",
    "            print(f\"Welcome back, {username}!\")\n",
    "        else:\n",
    "            username = get_new_username(path)\n",
    "            print(f\"We'll remember you when you come back, {username}!\")\n",
    "    else:\n",
    "        username = get_new_username(path)\n",
    "        print(f\"We'll remember you when you come back, {username}!\")\n",
    "greet_user()"
   ]
  },
  {
   "cell_type": "code",
   "execution_count": null,
   "id": "eac06360",
   "metadata": {},
   "outputs": [],
   "source": []
  }
 ],
 "metadata": {
  "kernelspec": {
   "display_name": "Python 3 (ipykernel)",
   "language": "python",
   "name": "python3"
  },
  "language_info": {
   "codemirror_mode": {
    "name": "ipython",
    "version": 3
   },
   "file_extension": ".py",
   "mimetype": "text/x-python",
   "name": "python",
   "nbconvert_exporter": "python",
   "pygments_lexer": "ipython3",
   "version": "3.11.5"
  }
 },
 "nbformat": 4,
 "nbformat_minor": 5
}
