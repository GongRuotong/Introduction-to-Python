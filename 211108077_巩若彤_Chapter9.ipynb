{
 "cells": [
  {
   "cell_type": "markdown",
   "id": "3e8cb5d5",
   "metadata": {},
   "source": [
    "# 第 9 章 类(class)"
   ]
  },
  {
   "cell_type": "markdown",
   "id": "62afc6b1",
   "metadata": {},
   "source": [
    "## 9.1 创建和使⽤类"
   ]
  },
  {
   "cell_type": "markdown",
   "id": "b3b03f1d",
   "metadata": {},
   "source": [
    "### 9.1.1 创建 Dog 类"
   ]
  },
  {
   "cell_type": "code",
   "execution_count": 3,
   "id": "9922a4b4",
   "metadata": {},
   "outputs": [],
   "source": [
    "class Dog:#⾸字⺟⼤写的名称指的是类\n",
    "    \"\"\"⼀次模拟⼩狗的简单尝试\"\"\"\n",
    "    \n",
    "    def __init__(self, name, age):#类中的函数称为⽅法 #形参 self 必不可少，⽽且必须位于其他形参的前⾯\n",
    "        \"\"\"初始化属性 name 和 age\"\"\"\n",
    "        self.name = name\n",
    "        self.age = age\n",
    "   \n",
    "    def sit(self):\n",
    "            \"\"\"模拟⼩狗收到命令时坐下\"\"\"\n",
    "            print(f\"{self.name} is now sitting.\")\n",
    "    \n",
    "    def roll_over(self):\n",
    "            \"\"\"模拟⼩狗收到命令时打滚\"\"\"\n",
    "            print(f\"{self.name} rolled over!\")"
   ]
  },
  {
   "cell_type": "markdown",
   "id": "285bd3de",
   "metadata": {},
   "source": [
    "### 9.1.2 根据类创建实例"
   ]
  },
  {
   "cell_type": "code",
   "execution_count": 4,
   "id": "e594845d",
   "metadata": {},
   "outputs": [
    {
     "name": "stdout",
     "output_type": "stream",
     "text": [
      "My dog's name is tongtong.\n",
      "My dog is 6 years old.\n"
     ]
    }
   ],
   "source": [
    "class Dog:#⾸字⺟⼤写的名称指的是类\n",
    "    \"\"\"⼀次模拟⼩狗的简单尝试\"\"\"\n",
    "    \n",
    "    def __init__(self, name, age):#类中的函数称为⽅法 #形参 self 必不可少，⽽且必须位于其他形参的前⾯\n",
    "        \"\"\"初始化属性 name 和 age\"\"\"\n",
    "        self.name = name\n",
    "        self.age = age\n",
    "   \n",
    "    def sit(self):\n",
    "            \"\"\"模拟⼩狗收到命令时坐下\"\"\"\n",
    "            print(f\"{self.name} is now sitting.\")\n",
    "    \n",
    "    def roll_over(self):\n",
    "            \"\"\"模拟⼩狗收到命令时打滚\"\"\"\n",
    "            print(f\"{self.name} rolled over!\")\n",
    "\n",
    "my_dog = Dog('tongtong', 6)\n",
    "\n",
    "print(f\"My dog's name is {my_dog.name}.\")\n",
    "print(f\"My dog is {my_dog.age} years old.\")"
   ]
  },
  {
   "cell_type": "markdown",
   "id": "c9a75c36",
   "metadata": {},
   "source": [
    "#### 01. 访问属性"
   ]
  },
  {
   "cell_type": "code",
   "execution_count": 5,
   "id": "96fd6fbb",
   "metadata": {},
   "outputs": [
    {
     "data": {
      "text/plain": [
       "'tongtong'"
      ]
     },
     "execution_count": 5,
     "metadata": {},
     "output_type": "execute_result"
    }
   ],
   "source": [
    "my_dog.name"
   ]
  },
  {
   "cell_type": "code",
   "execution_count": 9,
   "id": "93e62ac0",
   "metadata": {},
   "outputs": [
    {
     "data": {
      "text/plain": [
       "<__main__.Dog at 0x1d20c41d650>"
      ]
     },
     "execution_count": 9,
     "metadata": {},
     "output_type": "execute_result"
    }
   ],
   "source": [
    "my_dog"
   ]
  },
  {
   "cell_type": "markdown",
   "id": "a78f7444",
   "metadata": {},
   "source": [
    "#### 02. 调⽤⽅法"
   ]
  },
  {
   "cell_type": "code",
   "execution_count": 8,
   "id": "66ecb258",
   "metadata": {},
   "outputs": [
    {
     "name": "stdout",
     "output_type": "stream",
     "text": [
      "tongtong is now sitting.\n"
     ]
    }
   ],
   "source": [
    "my_dog = Dog('tongtong', 6)\n",
    "my_dog.sit()#调用的是函数，要有括号"
   ]
  },
  {
   "cell_type": "code",
   "execution_count": 7,
   "id": "fc0eb945",
   "metadata": {},
   "outputs": [
    {
     "name": "stdout",
     "output_type": "stream",
     "text": [
      "tongtong rolled over!\n"
     ]
    }
   ],
   "source": [
    "my_dog.roll_over()"
   ]
  },
  {
   "cell_type": "markdown",
   "id": "cacee6b6",
   "metadata": {},
   "source": [
    "#### 03. 创建多个实例"
   ]
  },
  {
   "cell_type": "code",
   "execution_count": 10,
   "id": "32643ab3",
   "metadata": {},
   "outputs": [
    {
     "name": "stdout",
     "output_type": "stream",
     "text": [
      "My dog's name is xuexue.\n",
      "My dog is 6 years old.\n",
      "xuexue is now sitting.\n",
      "\n",
      "Your dog's name is fubao.\n",
      "Your dog is 3 years old.\n",
      "fubao is now sitting.\n"
     ]
    }
   ],
   "source": [
    "class Dog:#⾸字⺟⼤写的名称指的是类\n",
    "    \"\"\"⼀次模拟⼩狗的简单尝试\"\"\"\n",
    "    \n",
    "    def __init__(self, name, age):#类中的函数称为⽅法 #形参 self 必不可少，⽽且必须位于其他形参的前⾯\n",
    "        \"\"\"初始化属性 name 和 age\"\"\"\n",
    "        self.name = name\n",
    "        self.age = age\n",
    "   \n",
    "    def sit(self):\n",
    "            \"\"\"模拟⼩狗收到命令时坐下\"\"\"\n",
    "            print(f\"{self.name} is now sitting.\")\n",
    "    \n",
    "    def roll_over(self):\n",
    "            \"\"\"模拟⼩狗收到命令时打滚\"\"\"\n",
    "            print(f\"{self.name} rolled over!\")\n",
    "\n",
    "my_dog = Dog('xuexue', 6)\n",
    "your_dog = Dog('fubao', 3)\n",
    "\n",
    "print(f\"My dog's name is {my_dog.name}.\")\n",
    "print(f\"My dog is {my_dog.age} years old.\")\n",
    "my_dog.sit()\n",
    "\n",
    "print(f\"\\nYour dog's name is {your_dog.name}.\")\n",
    "print(f\"Your dog is {your_dog.age} years old.\")\n",
    "your_dog.sit()"
   ]
  },
  {
   "cell_type": "markdown",
   "id": "fbef68a3",
   "metadata": {},
   "source": [
    "## 9.2 使⽤类和实例"
   ]
  },
  {
   "cell_type": "markdown",
   "id": "497bf733",
   "metadata": {},
   "source": [
    "### 9.2.1 Car 类"
   ]
  },
  {
   "cell_type": "code",
   "execution_count": 25,
   "id": "01de11e7",
   "metadata": {},
   "outputs": [
    {
     "name": "stdout",
     "output_type": "stream",
     "text": [
      "2024 Audi A4\n"
     ]
    }
   ],
   "source": [
    "class Car:\n",
    "    \"\"\"一次模拟汽车的简单尝试\"\"\"\n",
    "    \n",
    "    def __init__(self, make, model, year):\n",
    "        \"\"\"初始化描述汽车的属性\"\"\"\n",
    "        self.make = make\n",
    "        self.model = model\n",
    "        self.year = year\n",
    "    \n",
    "    def get_descriptive_name(self):\n",
    "        \"\"\"返回格式规范的描述信息\"\"\"\n",
    "        long_name = f\"{self.year} {self.make} {self.model}\"  # 在每个属性之间添加空格\n",
    "        return long_name.title()\n",
    "    \n",
    "my_new_car = Car('audi', 'a4', 2024)\n",
    "print(my_new_car.get_descriptive_name()) \n"
   ]
  },
  {
   "cell_type": "markdown",
   "id": "f1e82aeb",
   "metadata": {},
   "source": [
    "### 9.2.2 给属性指定默认值"
   ]
  },
  {
   "cell_type": "code",
   "execution_count": 26,
   "id": "a387bf10",
   "metadata": {},
   "outputs": [
    {
     "name": "stdout",
     "output_type": "stream",
     "text": [
      "2024 Audi A4\n",
      "This car has 0 miles on it.\n"
     ]
    }
   ],
   "source": [
    "class Car:\n",
    "    def __init__(self, make, model, year):\n",
    "        \"\"\"初始化描述汽⻋的属性\"\"\"\n",
    "        self.make = make\n",
    "        self.model = model\n",
    "        self.year = year\n",
    "        self.odometer_reading = 0  # 正确缩进\n",
    "        \n",
    "    def get_descriptive_name(self):\n",
    "        \"\"\"返回格式规范的描述信息\"\"\"\n",
    "        long_name = f\"{self.year} {self.make} {self.model}\"\n",
    "        return long_name.title()\n",
    "    \n",
    "    def read_odometer(self):  # 添加了 self 参数\n",
    "        \"\"\"打印⼀条指出汽⻋⾏驶⾥程的消息\"\"\"\n",
    "        print(f\"This car has {self.odometer_reading} miles on it.\")\n",
    "\n",
    "my_new_car = Car('audi', 'a4', 2024)\n",
    "print(my_new_car.get_descriptive_name())\n",
    "my_new_car.read_odometer()\n"
   ]
  },
  {
   "cell_type": "markdown",
   "id": "5ec24752",
   "metadata": {},
   "source": [
    "### 9.2.3 修改属性的值"
   ]
  },
  {
   "cell_type": "markdown",
   "id": "83bfabe4",
   "metadata": {},
   "source": [
    "#### 01. 直接修改属性的值"
   ]
  },
  {
   "cell_type": "code",
   "execution_count": 27,
   "id": "e0858b6f",
   "metadata": {},
   "outputs": [
    {
     "name": "stdout",
     "output_type": "stream",
     "text": [
      "2024 Audi A4\n",
      "This car has 23 miles on it.\n"
     ]
    }
   ],
   "source": [
    "class Car:\n",
    "    def __init__(self, make, model, year):\n",
    "        \"\"\"初始化描述汽⻋的属性\"\"\"\n",
    "        self.make = make\n",
    "        self.model = model\n",
    "        self.year = year\n",
    "        self.odometer_reading = 0  # 正确缩进\n",
    "        \n",
    "    def get_descriptive_name(self):\n",
    "        \"\"\"返回格式规范的描述信息\"\"\"\n",
    "        long_name = f\"{self.year} {self.make} {self.model}\"\n",
    "        return long_name.title()\n",
    "    \n",
    "    def read_odometer(self):  # 添加了 self 参数\n",
    "        \"\"\"打印⼀条指出汽⻋⾏驶⾥程的消息\"\"\"\n",
    "        print(f\"This car has {self.odometer_reading} miles on it.\")\n",
    "\n",
    "my_new_car = Car('audi', 'a4', 2024)\n",
    "print(my_new_car.get_descriptive_name())\n",
    "\n",
    "my_new_car.odometer_reading = 23\n",
    "my_new_car.read_odometer()\n"
   ]
  },
  {
   "cell_type": "markdown",
   "id": "f7fa2560",
   "metadata": {},
   "source": [
    "#### 02. 通过⽅法修改属性的值"
   ]
  },
  {
   "cell_type": "code",
   "execution_count": 29,
   "id": "d6bb9713",
   "metadata": {},
   "outputs": [
    {
     "name": "stdout",
     "output_type": "stream",
     "text": [
      "2024 Audi A4\n",
      "This car has 23 miles on it.\n"
     ]
    }
   ],
   "source": [
    "class Car:\n",
    "    def __init__(self, make, model, year):\n",
    "        \"\"\"初始化描述汽⻋的属性\"\"\"\n",
    "        self.make = make\n",
    "        self.model = model\n",
    "        self.year = year\n",
    "        self.odometer_reading = 0  # 正确缩进\n",
    "        \n",
    "    def get_descriptive_name(self):\n",
    "        \"\"\"返回格式规范的描述信息\"\"\"\n",
    "        long_name = f\"{self.year} {self.make} {self.model}\"\n",
    "        return long_name.title()\n",
    "    \n",
    "    def read_odometer(self):  # 添加了 self 参数\n",
    "        \"\"\"打印⼀条指出汽⻋⾏驶⾥程的消息\"\"\"\n",
    "        print(f\"This car has {self.odometer_reading} miles on it.\")\n",
    "        \n",
    "    def update_odometer(self, mileage):\n",
    "        \"\"\"将⾥程表读数设置为指定的值\"\"\"\n",
    "        self.odometer_reading = mileage\n",
    "        \n",
    "my_new_car = Car('audi', 'a4', 2024)\n",
    "print(my_new_car.get_descriptive_name())\n",
    "\n",
    "my_new_car.update_odometer(23)\n",
    "my_new_car.read_odometer()"
   ]
  },
  {
   "cell_type": "markdown",
   "id": "5c874f72",
   "metadata": {},
   "source": [
    "#### 03. 通过⽅法让属性的值递增"
   ]
  },
  {
   "cell_type": "code",
   "execution_count": 30,
   "id": "debe44a7",
   "metadata": {},
   "outputs": [
    {
     "name": "stdout",
     "output_type": "stream",
     "text": [
      "2019 Subaru Outback\n",
      "This car has 23500 miles on it.\n",
      "This car has 23600 miles on it.\n"
     ]
    }
   ],
   "source": [
    "class Car:\n",
    "    def __init__(self, make, model, year):\n",
    "        \"\"\"初始化描述汽⻋的属性\"\"\"\n",
    "        self.make = make\n",
    "        self.model = model\n",
    "        self.year = year\n",
    "        self.odometer_reading = 0  # 正确缩进\n",
    "        \n",
    "    def get_descriptive_name(self):\n",
    "        \"\"\"返回格式规范的描述信息\"\"\"\n",
    "        long_name = f\"{self.year} {self.make} {self.model}\"\n",
    "        return long_name.title()\n",
    "    \n",
    "    def read_odometer(self):  # 添加了 self 参数\n",
    "        \"\"\"打印⼀条指出汽⻋⾏驶⾥程的消息\"\"\"\n",
    "        print(f\"This car has {self.odometer_reading} miles on it.\")\n",
    "        \n",
    "    def update_odometer(self, mileage):\n",
    "        \"\"\"将⾥程表读数设置为指定的值\"\"\"\n",
    "        self.odometer_reading = mileage\n",
    "        \n",
    "    def increment_odometer(self, miles):\n",
    "        \"\"\"让⾥程表读数增加指定的量\"\"\"\n",
    "        self.odometer_reading += miles\n",
    "        \n",
    "my_used_car = Car('subaru', 'outback', 2019)\n",
    "print(my_used_car.get_descriptive_name())\n",
    "\n",
    "my_used_car.update_odometer(23_500)\n",
    "my_used_car.read_odometer()\n",
    "\n",
    "my_used_car.increment_odometer(100)\n",
    "my_used_car.read_odometer()     "
   ]
  },
  {
   "cell_type": "markdown",
   "id": "aeb4d974",
   "metadata": {},
   "source": [
    "## 9.3 继承"
   ]
  },
  {
   "cell_type": "markdown",
   "id": "d8c64284",
   "metadata": {},
   "source": [
    "### 9.3.1 ⼦类的 __init__() ⽅法"
   ]
  },
  {
   "cell_type": "code",
   "execution_count": 31,
   "id": "d2fa2561",
   "metadata": {},
   "outputs": [
    {
     "name": "stdout",
     "output_type": "stream",
     "text": [
      "2024 Nissan Leaf\n"
     ]
    }
   ],
   "source": [
    "class Car:\n",
    "    \"\"\"⼀次模拟汽⻋的简单尝试\"\"\"\n",
    "    \n",
    "    def __init__(self, make, model, year):\n",
    "        \"\"\"初始化描述汽⻋的属性\"\"\"\n",
    "        self.make = make\n",
    "        self.model = model\n",
    "        self.year = year\n",
    "        self.odometer_reading = 0\n",
    "    \n",
    "    def get_descriptive_name(self):\n",
    "        \"\"\"返回格式规范的描述性名称\"\"\"\n",
    "        long_name = f\"{self.year} {self.make} {self.model}\"\n",
    "        return long_name.title()\n",
    "    \n",
    "    def read_odometer(self):\n",
    "        \"\"\"打印⼀个句⼦，指出汽⻋的⾏驶⾥程\"\"\"\n",
    "        print(f\"This car has {self.odometer_reading} miles on it.\")\n",
    "    \n",
    "    def update_odometer(self, mileage):\n",
    "        \"\"\"将⾥程表读数设置为给定的值\"\"\"\n",
    "        if mileage >= self.odometer_reading:\n",
    "            self.odometer_reading = mileage\n",
    "        else:\n",
    "            print(\"You can't roll back an odometer!\")\n",
    "    \n",
    "    def increment_odometer(self, miles):\n",
    "        \"\"\"让⾥程表读数增加给定的量\"\"\"\n",
    "        self.odometer_reading += miles\n",
    "\n",
    "class ElectricCar(Car):\n",
    "    \"\"\"电动汽⻋的独特之处\"\"\"\n",
    "    \n",
    "    def __init__(self, make, model, year):\n",
    "        \"\"\"初始化⽗类的属性\"\"\"\n",
    "        super().__init__(make, model, year)#super() 是⼀个特殊的函数，让你能够调⽤⽗类的⽅法\n",
    "\n",
    "my_leaf = ElectricCar('nissan', 'leaf', 2024)\n",
    "print(my_leaf.get_descriptive_name())\n"
   ]
  },
  {
   "cell_type": "markdown",
   "id": "5dc823af",
   "metadata": {},
   "source": [
    "### 9.3.2 给⼦类定义属性和⽅法"
   ]
  },
  {
   "cell_type": "code",
   "execution_count": 32,
   "id": "236886c8",
   "metadata": {},
   "outputs": [
    {
     "name": "stdout",
     "output_type": "stream",
     "text": [
      "2024 Nissan Leaf\n",
      "This car has a 40-kWh battery.\n"
     ]
    }
   ],
   "source": [
    "class ElectricCar(Car):\n",
    "    \"\"\"电动汽⻋的独特之处\"\"\"\n",
    "    \n",
    "    def __init__(self, make, model, year):\n",
    "        \"\"\"\n",
    "        先初始化⽗类的属性，再初始化电动汽⻋特有的属性\n",
    "        \"\"\"\n",
    "        super().__init__(make, model, year)\n",
    "        self.battery_size = 40\n",
    "        \n",
    "    def describe_battery(self):\n",
    "        \"\"\"打印⼀条描述电池容量的消息\"\"\"\n",
    "        print(f\"This car has a {self.battery_size}-kWh battery.\")\n",
    "\n",
    "my_leaf = ElectricCar('nissan', 'leaf', 2024)\n",
    "print(my_leaf.get_descriptive_name())\n",
    "my_leaf.describe_battery()"
   ]
  },
  {
   "cell_type": "markdown",
   "id": "513901d5",
   "metadata": {},
   "source": [
    "### 9.3.3 重写⽗类中的⽅法"
   ]
  },
  {
   "cell_type": "code",
   "execution_count": 34,
   "id": "9eee8d59",
   "metadata": {},
   "outputs": [],
   "source": [
    "class ElectricCar(Car):\n",
    "    \"\"\"电动汽⻋的独特之处\"\"\"\n",
    "    \n",
    "    def __init__(self, make, model, year):\n",
    "        \"\"\"\n",
    "        先初始化⽗类的属性，再初始化电动汽⻋特有的属性\n",
    "        \"\"\"\n",
    "        super().__init__(make, model, year)\n",
    "        self.battery_size = 40\n",
    "        \n",
    "    def describe_battery(self):\n",
    "        \"\"\"打印⼀条描述电池容量的消息\"\"\"\n",
    "        print(f\"This car has a {self.battery_size}-kWh battery.\")\n",
    "        \n",
    "    def fill_gas_tank(self):\n",
    "        \"\"\"电动汽⻋没有油箱\"\"\"\n",
    "        print(\"This car doesn't have a gas tank!\")"
   ]
  },
  {
   "cell_type": "markdown",
   "id": "4ec066b9",
   "metadata": {},
   "source": [
    "### 9.3.4 将实例⽤作属性"
   ]
  },
  {
   "cell_type": "code",
   "execution_count": 35,
   "id": "50d36664",
   "metadata": {},
   "outputs": [
    {
     "name": "stdout",
     "output_type": "stream",
     "text": [
      "2024 Nissan Leaf\n",
      "This car has a 40-kWh battery.\n"
     ]
    }
   ],
   "source": [
    "class Battery:\n",
    "    \"\"\"⼀次模拟电动汽⻋电池的简单尝试\"\"\"\n",
    "    def __init__(self, battery_size=40):\n",
    "        \"\"\"初始化电池的属性\"\"\"\n",
    "        self.battery_size = battery_size\n",
    "    \n",
    "    def describe_battery(self):\n",
    "        \"\"\"打印⼀条描述电池容量的消息\"\"\"\n",
    "        print(f\"This car has a {self.battery_size}-kWh battery.\")\n",
    "\n",
    "class ElectricCar(Car):\n",
    "    \"\"\"电动汽⻋的独特之处\"\"\"\n",
    "    def __init__(self, make, model, year):\n",
    "        \"\"\"\n",
    "        先初始化⽗类的属性，再初始化电动汽⻋特有的属性\n",
    "        \"\"\"\n",
    "        super().__init__(make, model, year)\n",
    "        self.battery = Battery()\n",
    "\n",
    "my_leaf = ElectricCar('nissan', 'leaf', 2024)\n",
    "print(my_leaf.get_descriptive_name())\n",
    "my_leaf.battery.describe_battery()\n"
   ]
  },
  {
   "cell_type": "code",
   "execution_count": 41,
   "id": "3c34433d",
   "metadata": {},
   "outputs": [
    {
     "name": "stdout",
     "output_type": "stream",
     "text": [
      "2024 Nissan Leaf\n",
      "This car has a 40-kWh battery.\n",
      "This car can go about 150 miles on a full charge.\n"
     ]
    }
   ],
   "source": [
    "class Car:\n",
    "    \"\"\"⼀次模拟汽⻋的简单尝试\"\"\"\n",
    "    \n",
    "    def __init__(self, make, model, year):\n",
    "        \"\"\"初始化描述汽⻋的属性\"\"\"\n",
    "        self.make = make\n",
    "        self.model = model\n",
    "        self.year = year\n",
    "        self.odometer_reading = 0\n",
    "    \n",
    "    def get_descriptive_name(self):\n",
    "        \"\"\"返回格式规范的描述性名称\"\"\"\n",
    "        long_name = f\"{self.year} {self.make} {self.model}\"\n",
    "        return long_name.title()\n",
    "    \n",
    "    def read_odometer(self):\n",
    "        \"\"\"打印⼀个句⼦，指出汽⻋的⾏驶⾥程\"\"\"\n",
    "        print(f\"This car has {self.odometer_reading} miles on it.\")\n",
    "    \n",
    "    def update_odometer(self, mileage):\n",
    "        \"\"\"将⾥程表读数设置为给定的值\"\"\"\n",
    "        if mileage >= self.odometer_reading:\n",
    "            self.odometer_reading = mileage\n",
    "        else:\n",
    "            print(\"You can't roll back an odometer!\")\n",
    "    \n",
    "    def increment_odometer(self, miles):\n",
    "        \"\"\"让⾥程表读数增加给定的量\"\"\"\n",
    "        self.odometer_reading += miles\n",
    "    \n",
    "class Battery:\n",
    "    \"\"\"⼀次模拟电动汽⻋电池的简单尝试\"\"\"\n",
    "    \n",
    "    def __init__(self, battery_size=40):\n",
    "        \"\"\"初始化电池的属性\"\"\"\n",
    "        self.battery_size = battery_size\n",
    "    \n",
    "    def describe_battery(self):\n",
    "        \"\"\"打印⼀条描述电池容量的消息\"\"\"\n",
    "        print(f\"This car has a {self.battery_size}-kWh battery.\")\n",
    "\n",
    "    def get_range(self):\n",
    "        \"\"\"打印⼀条消息，指出电池的续航⾥程\"\"\"\n",
    "        if self.battery_size == 40:\n",
    "            range_miles = 150\n",
    "        elif self.battery_size == 65:\n",
    "            range_miles = 225\n",
    "        print(f\"This car can go about {range_miles} miles on a full charge.\")\n",
    "\n",
    "class ElectricCar(Car):\n",
    "    \"\"\"电动汽⻋的独特之处\"\"\"\n",
    "    \n",
    "    def __init__(self, make, model, year):\n",
    "        \"\"\"\n",
    "        先初始化⽗类的属性，再初始化电动汽⻋特有的属性\n",
    "        \"\"\"\n",
    "        super().__init__(make, model, year)\n",
    "        self.battery = Battery()\n",
    "\n",
    "my_leaf = ElectricCar('nissan', 'leaf', 2024)\n",
    "print(my_leaf.get_descriptive_name())\n",
    "my_leaf.battery.describe_battery()\n",
    "my_leaf.battery.get_range()\n"
   ]
  },
  {
   "cell_type": "markdown",
   "id": "f6e9a811",
   "metadata": {},
   "source": [
    "## 9.4 导⼊类"
   ]
  },
  {
   "cell_type": "markdown",
   "id": "044fe888",
   "metadata": {},
   "source": [
    "### 9.4.1 导⼊单个类"
   ]
  },
  {
   "cell_type": "code",
   "execution_count": 42,
   "id": "b643afd3",
   "metadata": {},
   "outputs": [],
   "source": [
    "\"\"\"一个用来表示汽车的类\"\"\"\n",
    "\n",
    "class Car:\n",
    "    \"\"\"一次模拟汽车的简单尝试\"\"\"\n",
    "    \n",
    "    def __init__(self, make, model, year):\n",
    "        \"\"\"初始化描述汽车的属性\"\"\"\n",
    "        self.make = make\n",
    "        self.model = model\n",
    "        self.year = year\n",
    "        self.odometer_reading = 0\n",
    "    \n",
    "    def get_descriptive_name(self):\n",
    "        \"\"\"返回格式规范的描述性名称\"\"\"\n",
    "        long_name = f\"{self.year} {self.make} {self.model}\"\n",
    "        return long_name.title()\n",
    "    \n",
    "    def read_odometer(self):\n",
    "        \"\"\"打印一条消息，指出汽车的行驶里程\"\"\"\n",
    "        print(f\"This car has {self.odometer_reading} miles on it.\")\n",
    "    \n",
    "    def update_odometer(self, mileage):\n",
    "        \"\"\"\n",
    "        将里程表读数设置为指定的值\n",
    "        拒绝将里程表往回调\n",
    "        \"\"\"\n",
    "        if mileage >= 0:  # 确保mileage是正数\n",
    "            if mileage >= self.odometer_reading:\n",
    "                self.odometer_reading = mileage\n",
    "            else:\n",
    "                print(\"You can't roll back an odometer!\")\n",
    "        else:\n",
    "            print(\"Please enter a positive mileage value!\")\n",
    "    \n",
    "    def increment_odometer(self, miles):\n",
    "        \"\"\"让里程表读数增加指定的量\"\"\"\n",
    "        self.odometer_reading += miles\n"
   ]
  },
  {
   "cell_type": "code",
   "execution_count": 44,
   "id": "72554a5c",
   "metadata": {},
   "outputs": [
    {
     "name": "stdout",
     "output_type": "stream",
     "text": [
      "2024 Audi A4\n",
      "This car has 23 miles on it.\n"
     ]
    }
   ],
   "source": [
    "from car import Car\n",
    "my_new_car = Car('audi', 'a4', 2024)\n",
    "print(my_new_car.get_descriptive_name())\n",
    "my_new_car.odometer_reading = 23\n",
    "my_new_car.read_odometer()"
   ]
  },
  {
   "cell_type": "markdown",
   "id": "507b0557",
   "metadata": {},
   "source": [
    "### 9.4.2 在⼀个模块中存储多个类"
   ]
  },
  {
   "cell_type": "code",
   "execution_count": 55,
   "id": "da0bedb4",
   "metadata": {},
   "outputs": [
    {
     "ename": "ImportError",
     "evalue": "cannot import name 'ElectricCar' from 'car' (C:\\Users\\Hazel\\Desktop\\python_work\\car.py)",
     "output_type": "error",
     "traceback": [
      "\u001b[1;31m---------------------------------------------------------------------------\u001b[0m",
      "\u001b[1;31mImportError\u001b[0m                               Traceback (most recent call last)",
      "Cell \u001b[1;32mIn[55], line 68\u001b[0m\n\u001b[0;32m     65\u001b[0m         \u001b[38;5;28msuper\u001b[39m()\u001b[38;5;241m.\u001b[39m\u001b[38;5;21m__init__\u001b[39m(make, model, year)\n\u001b[0;32m     66\u001b[0m         \u001b[38;5;28mself\u001b[39m\u001b[38;5;241m.\u001b[39mbattery \u001b[38;5;241m=\u001b[39m Battery()\n\u001b[1;32m---> 68\u001b[0m \u001b[38;5;28;01mfrom\u001b[39;00m \u001b[38;5;21;01mcar\u001b[39;00m \u001b[38;5;28;01mimport\u001b[39;00m ElectricCar\n\u001b[0;32m     69\u001b[0m my_leaf \u001b[38;5;241m=\u001b[39m ElectricCar(\u001b[38;5;124m'\u001b[39m\u001b[38;5;124mnissan\u001b[39m\u001b[38;5;124m'\u001b[39m, \u001b[38;5;124m'\u001b[39m\u001b[38;5;124mleaf\u001b[39m\u001b[38;5;124m'\u001b[39m, \u001b[38;5;241m2024\u001b[39m)\n\u001b[0;32m     70\u001b[0m \u001b[38;5;28mprint\u001b[39m(my_leaf\u001b[38;5;241m.\u001b[39mget_descriptive_name())\n",
      "\u001b[1;31mImportError\u001b[0m: cannot import name 'ElectricCar' from 'car' (C:\\Users\\Hazel\\Desktop\\python_work\\car.py)"
     ]
    }
   ],
   "source": [
    "\"\"\"一组用于表示燃油汽车和电动汽车的类\"\"\"\n",
    "\n",
    "class Car:\n",
    "    \"\"\"一次模拟汽车的简单尝试\"\"\"\n",
    "    \n",
    "    def __init__(self, make, model, year):\n",
    "        \"\"\"初始化描述汽车的属性\"\"\"\n",
    "        self.make = make\n",
    "        self.model = model\n",
    "        self.year = year\n",
    "        self.odometer_reading = 0\n",
    "    \n",
    "    def get_descriptive_name(self):\n",
    "        \"\"\"返回格式规范的描述性名称\"\"\"\n",
    "        long_name = f\"{self.year} {self.make} {self.model}\"\n",
    "        return long_name.title()\n",
    "    \n",
    "    def read_odometer(self):\n",
    "        \"\"\"打印一条消息，指出汽车的行驶里程\"\"\"\n",
    "        print(f\"This car has {self.odometer_reading} miles on it.\")\n",
    "    \n",
    "    def update_odometer(self, mileage):\n",
    "        \"\"\"\n",
    "        将里程表读数设置为指定的值\n",
    "        拒绝将里程表往回调\n",
    "        \"\"\"\n",
    "        if mileage >= 0:  # 确保mileage是正数\n",
    "            if mileage >= self.odometer_reading:\n",
    "                self.odometer_reading = mileage\n",
    "            else:\n",
    "                print(\"You can't roll back an odometer!\")\n",
    "        else:\n",
    "            print(\"Please enter a positive mileage value!\")\n",
    "    \n",
    "    def increment_odometer(self, miles):\n",
    "        \"\"\"让里程表读数增加指定的量\"\"\"\n",
    "        self.odometer_reading += miles\n",
    "\n",
    "class Battery:\n",
    "    \"\"\"⼀次模拟电动汽⻋电瓶的简单尝试\"\"\"\n",
    "\n",
    "    def __init__(self, battery_size=40):\n",
    "        \"\"\"初始化电池的属性\"\"\"\n",
    "        self.battery_size = battery_size\n",
    "        \n",
    "    def describe_battery(self):\n",
    "        \"\"\"打印⼀条描述电池容量的消息\"\"\"\n",
    "        print(f\"This car has a {self.battery_size}-kWh battery.\")\n",
    "        \n",
    "    def get_range(self):\n",
    "        \"\"\"打印⼀条描述电池续航⾥程的消息\"\"\"\n",
    "        if self.battery_size == 40:\n",
    "            range = 150\n",
    "        elif self.battery_size == 65:\n",
    "            range = 225\n",
    "        print(f\"This car can go about {range} miles on a full charge.\")\n",
    "    \n",
    "class ElectricCar(Car):\n",
    "    \"\"\"模拟电动汽⻋的独特之处\"\"\"\n",
    "    \n",
    "    def __init__(self, make, model, year):\n",
    "        \"\"\"\n",
    "        先初始化⽗类的属性，再初始化电动汽⻋特有的属性\n",
    "        \"\"\"\n",
    "        super().__init__(make, model, year)\n",
    "        self.battery = Battery()\n",
    "\n",
    "from car import ElectricCar\n",
    "my_leaf = ElectricCar('nissan', 'leaf', 2024)\n",
    "print(my_leaf.get_descriptive_name())\n",
    "my_leaf.battery.describe_battery()\n",
    "my_leaf.battery.get_range()"
   ]
  },
  {
   "cell_type": "markdown",
   "id": "03426b79",
   "metadata": {},
   "source": [
    "### 9.4.3 从⼀个模块中导⼊多个类"
   ]
  },
  {
   "cell_type": "code",
   "execution_count": null,
   "id": "31b39139",
   "metadata": {},
   "outputs": [],
   "source": [
    "from car import Car, ElectricCar\n",
    "my_mustang = Car('ford', 'mustang', 2024)\n",
    "print(my_mustang.get_descriptive_name())\n",
    "my_leaf = ElectricCar('nissan', 'leaf', 2024)\n",
    "print(my_leaf.get_descriptive_name())"
   ]
  },
  {
   "cell_type": "markdown",
   "id": "506973fb",
   "metadata": {},
   "source": [
    "### 9.4.4 导⼊整个模块"
   ]
  },
  {
   "cell_type": "code",
   "execution_count": null,
   "id": "b74f387b",
   "metadata": {},
   "outputs": [],
   "source": [
    "import car\n",
    "my_mustang = car.Car('ford', 'mustang', 2024)\n",
    "print(my_mustang.get_descriptive_name())\n",
    "my_leaf = car.ElectricCar('nissan', 'leaf', 2024)\n",
    "print(my_leaf.get_descriptive_name())"
   ]
  },
  {
   "cell_type": "markdown",
   "id": "9887c45e",
   "metadata": {},
   "source": [
    "### 9.4.5 导⼊模块中的所有类"
   ]
  },
  {
   "cell_type": "code",
   "execution_count": null,
   "id": "e50d1376",
   "metadata": {},
   "outputs": [],
   "source": [
    "from module_name import *\n",
    "#不推荐这种导⼊⽅式，原因有⼆。第⼀，最好只需要看⼀下⽂件开头的\n",
    "#import 语句，就能清楚地知道程序使⽤了哪些类。但这种导⼊⽅式没有明\n",
    "#确地指出使⽤了模块中的哪些类。第⼆，这种导⼊⽅式还可能引发名称⽅\n",
    "#⾯的迷惑。如果不⼩⼼导⼊了⼀个与程序⽂件中的其他东⻄同名的类，将\n",
    "#引发难以诊断的错误"
   ]
  },
  {
   "cell_type": "markdown",
   "id": "69e5cfa7",
   "metadata": {},
   "source": [
    "### 9.4.6 在⼀个模块中导⼊另⼀个模块"
   ]
  },
  {
   "cell_type": "code",
   "execution_count": 11,
   "id": "2b9cd861",
   "metadata": {},
   "outputs": [],
   "source": [
    "# car.py\n",
    "\n",
    "class Car:\n",
    "    def __init__(self, make, model, year):\n",
    "        self.make = make\n",
    "        self.model = model\n",
    "        self.year = year\n",
    "\n",
    "    def describe_car(self):\n",
    "        print(f\"Make: {self.make}\")\n",
    "        print(f\"Model: {self.model}\")\n",
    "        print(f\"Year: {self.year}\")\n"
   ]
  },
  {
   "cell_type": "code",
   "execution_count": null,
   "id": "7227ff27",
   "metadata": {},
   "outputs": [],
   "source": [
    "# electric_car.py\n",
    "\n",
    "from car import Car  # 导入Car类\n",
    "\n",
    "class Battery:\n",
    "    def __init__(self, battery_size=60):\n",
    "        self.battery_size = battery_size\n",
    "\n",
    "    def describe_battery(self):\n",
    "        print(f\"Battery size: {self.battery_size}-kWh\")\n",
    "\n",
    "    def get_range(self):\n",
    "        if self.battery_size == 60:\n",
    "            range = 200\n",
    "        elif self.battery_size == 85:\n",
    "            range = 270\n",
    "        else:\n",
    "            range = 0\n",
    "        print(f\"Range: {range} miles\")\n",
    "\n",
    "    def upgrade_battery(self):\n",
    "        if self.battery_size != 65:\n",
    "            self.battery_size = 65\n",
    "\n",
    "\n",
    "class ElectricCar(Car):\n",
    "    def __init__(self, make, model, year):\n",
    "        super().__init__(make, model, year)\n",
    "        self.battery = Battery()\n",
    "\n",
    "    def get_range(self):\n",
    "        self.battery.get_range()\n"
   ]
  },
  {
   "cell_type": "markdown",
   "id": "84baab14",
   "metadata": {},
   "source": [
    "### 9.4.7 使⽤别名"
   ]
  },
  {
   "cell_type": "code",
   "execution_count": null,
   "id": "d0885ec8",
   "metadata": {},
   "outputs": [],
   "source": [
    "from electric_car import ElectricCar as EC#现在每当需要创建电动汽⻋实例时，都可使⽤这个别名：\n",
    "my_leaf = EC('nissan', 'leaf', 2024)\n",
    "#还可以给模块指定别名。下⾯导⼊模块 electric_car 并给它指定了别名：\n",
    "import electric_car as ec\n",
    "#现在可以结合使⽤模块别名和完整的类名了：\n",
    "my_leaf = ec.ElectricCar('nissan', 'leaf', 2024)"
   ]
  },
  {
   "cell_type": "markdown",
   "id": "8c2f1ad0",
   "metadata": {},
   "source": [
    "### 9.4.8 找到合适的⼯作流程"
   ]
  },
  {
   "cell_type": "code",
   "execution_count": null,
   "id": "09d8db09",
   "metadata": {},
   "outputs": [],
   "source": [
    "#⼀开始应让代码结构尽量简单。⾸先尝试在⼀个⽂件中完成所有的⼯作，\n",
    "#确定⼀切都能正确运⾏后，再将类移到独⽴的模块中。如果你喜欢模块和\n",
    "#⽂件的交互⽅式，可在项⽬开始时就尝试将类存储到模块中。先找出让你\n",
    "#能够编写出可⾏代码的⽅式，再尝试让代码更加整洁。"
   ]
  },
  {
   "cell_type": "markdown",
   "id": "b2dc61c3",
   "metadata": {},
   "source": [
    "## 9.5 Python 标准库"
   ]
  },
  {
   "cell_type": "code",
   "execution_count": 21,
   "id": "4bbbd394",
   "metadata": {},
   "outputs": [
    {
     "data": {
      "text/plain": [
       "3"
      ]
     },
     "execution_count": 21,
     "metadata": {},
     "output_type": "execute_result"
    }
   ],
   "source": [
    "from random import randint\n",
    "randint(1, 6)"
   ]
  },
  {
   "cell_type": "code",
   "execution_count": 23,
   "id": "ff865a6a",
   "metadata": {},
   "outputs": [
    {
     "data": {
      "text/plain": [
       "'florence'"
      ]
     },
     "execution_count": 23,
     "metadata": {},
     "output_type": "execute_result"
    }
   ],
   "source": [
    "from random import choice\n",
    "players = ['charles', 'martina', 'michael', 'florence', 'eli']\n",
    "first_up = choice(players)\n",
    "first_up\n"
   ]
  },
  {
   "cell_type": "markdown",
   "id": "484a0fe1",
   "metadata": {},
   "source": [
    "### 练习 9.1 餐馆"
   ]
  },
  {
   "cell_type": "code",
   "execution_count": 1,
   "id": "9b4a62f3",
   "metadata": {},
   "outputs": [
    {
     "name": "stdout",
     "output_type": "stream",
     "text": [
      "Restaurant Name: The Great Feast\n",
      "Cuisine Type: Italian\n",
      "Restaurant Name: The Great Feast\n",
      "Cuisine Type: Italian\n",
      "The Great Feast is now open!\n"
     ]
    }
   ],
   "source": [
    "class Restaurant:\n",
    "    def __init__(self, restaurant_name, cuisine_type):\n",
    "        self.restaurant_name = restaurant_name\n",
    "        self.cuisine_type = cuisine_type\n",
    "\n",
    "    def describe_restaurant(self):\n",
    "        print(f\"Restaurant Name: {self.restaurant_name}\")\n",
    "        print(f\"Cuisine Type: {self.cuisine_type}\")\n",
    "\n",
    "    def open_restaurant(self):\n",
    "        print(f\"{self.restaurant_name} is now open!\")\n",
    "\n",
    "\n",
    "# 创建一个名为restaurant的实例\n",
    "restaurant = Restaurant(\"The Great Feast\", \"Italian\")\n",
    "\n",
    "# 打印实例的两个属性\n",
    "print(\"Restaurant Name:\", restaurant.restaurant_name)\n",
    "print(\"Cuisine Type:\", restaurant.cuisine_type)\n",
    "\n",
    "# 调用类的方法\n",
    "restaurant.describe_restaurant()\n",
    "restaurant.open_restaurant()\n"
   ]
  },
  {
   "cell_type": "markdown",
   "id": "7563687b",
   "metadata": {},
   "source": [
    "### 练习 9.2 三家餐馆\n",
    "### 根据为练习9.1编写的类创建三个实例，并对每个实例调用describe_restaurant()方法。"
   ]
  },
  {
   "cell_type": "code",
   "execution_count": 2,
   "id": "e8438af0",
   "metadata": {},
   "outputs": [
    {
     "name": "stdout",
     "output_type": "stream",
     "text": [
      "Restaurant Name: The Great Feast\n",
      "Cuisine Type: Italian\n",
      "Restaurant Name: Spice Paradise\n",
      "Cuisine Type: Indian\n",
      "Restaurant Name: Sushi Master\n",
      "Cuisine Type: Japanese\n"
     ]
    }
   ],
   "source": [
    "class Restaurant:\n",
    "    def __init__(self, restaurant_name, cuisine_type):\n",
    "        self.restaurant_name = restaurant_name\n",
    "        self.cuisine_type = cuisine_type\n",
    "\n",
    "    def describe_restaurant(self):\n",
    "        print(f\"Restaurant Name: {self.restaurant_name}\")\n",
    "        print(f\"Cuisine Type: {self.cuisine_type}\")\n",
    "\n",
    "    def open_restaurant(self):\n",
    "        print(f\"{self.restaurant_name} is now open!\")\n",
    "\n",
    "\n",
    "# 创建三个餐馆实例\n",
    "restaurant1 = Restaurant(\"The Great Feast\", \"Italian\")\n",
    "restaurant2 = Restaurant(\"Spice Paradise\", \"Indian\")\n",
    "restaurant3 = Restaurant(\"Sushi Master\", \"Japanese\")\n",
    "\n",
    "# 调用每个实例的describe_restaurant()方法\n",
    "restaurant1.describe_restaurant()\n",
    "restaurant2.describe_restaurant()\n",
    "restaurant3.describe_restaurant()\n"
   ]
  },
  {
   "cell_type": "markdown",
   "id": "3c3b0c84",
   "metadata": {},
   "source": [
    "### 练习 9.3 用户"
   ]
  },
  {
   "cell_type": "code",
   "execution_count": 3,
   "id": "2ff4ee4b",
   "metadata": {},
   "outputs": [
    {
     "name": "stdout",
     "output_type": "stream",
     "text": [
      "User Information:\n",
      "First Name: 巩若彤\n",
      "Last Name: hazel\n",
      "Age: 30\n",
      "Email: 巩若彤@example.com\n",
      "Hello, 巩若彤! Welcome back!\n"
     ]
    }
   ],
   "source": [
    "class User:\n",
    "    def __init__(self, first_name, last_name, age, email):\n",
    "        self.first_name = first_name\n",
    "        self.last_name = last_name\n",
    "        self.age = age\n",
    "        self.email = email\n",
    "\n",
    "    def describe_user(self):\n",
    "        print(f\"User Information:\")\n",
    "        print(f\"First Name: {self.first_name}\")\n",
    "        print(f\"Last Name: {self.last_name}\")\n",
    "        print(f\"Age: {self.age}\")\n",
    "        print(f\"Email: {self.email}\")\n",
    "\n",
    "    def greet_user(self):\n",
    "        print(f\"Hello, {self.first_name}! Welcome back!\")\n",
    "\n",
    "\n",
    "# 创建一个用户实例\n",
    "user1 = User(\"巩若彤\", \"hazel\", 30, \"巩若彤@example.com\")\n",
    "\n",
    "# 调用用户实例的方法\n",
    "user1.describe_user()\n",
    "user1.greet_user()\n"
   ]
  },
  {
   "cell_type": "markdown",
   "id": "f66ec0bf",
   "metadata": {},
   "source": [
    "### 练习 9.4：就餐⼈数 在为练习 9.1 编写的程序中，添加⼀个名为number_served 的属性，并将其默认值设置为 0。"
   ]
  },
  {
   "cell_type": "code",
   "execution_count": 4,
   "id": "f1203286",
   "metadata": {},
   "outputs": [
    {
     "name": "stdout",
     "output_type": "stream",
     "text": [
      "Number of people served: 0\n",
      "Number of people served: 50\n",
      "Number of people served: 80\n"
     ]
    }
   ],
   "source": [
    "class Restaurant:\n",
    "    def __init__(self, restaurant_name, cuisine_type):\n",
    "        self.restaurant_name = restaurant_name\n",
    "        self.cuisine_type = cuisine_type\n",
    "        self.number_served = 0\n",
    "\n",
    "    def describe_restaurant(self):\n",
    "        print(f\"Restaurant Name: {self.restaurant_name}\")\n",
    "        print(f\"Cuisine Type: {self.cuisine_type}\")\n",
    "\n",
    "    def open_restaurant(self):\n",
    "        print(f\"{self.restaurant_name} is now open!\")\n",
    "\n",
    "    def set_number_served(self, number):\n",
    "        self.number_served = number\n",
    "\n",
    "    def increment_number_served(self, increment):\n",
    "        self.number_served += increment\n",
    "\n",
    "\n",
    "# 创建一个名为restaurant的实例\n",
    "restaurant = Restaurant(\"The Great Feast\", \"Italian\")\n",
    "\n",
    "# 打印初始就餐人数\n",
    "print(\"Number of people served:\", restaurant.number_served)\n",
    "\n",
    "# 修改就餐人数并再次打印\n",
    "restaurant.set_number_served(50)\n",
    "print(\"Number of people served:\", restaurant.number_served)\n",
    "\n",
    "# 增加就餐人数并再次打印\n",
    "restaurant.increment_number_served(30)\n",
    "print(\"Number of people served:\", restaurant.number_served)\n"
   ]
  },
  {
   "cell_type": "markdown",
   "id": "94d46438",
   "metadata": {},
   "source": [
    "### 练习 9.5：尝试登录次数 在为练习 9.3 编写的 User 类中，添加⼀个名为 login_attempts 的属性。"
   ]
  },
  {
   "cell_type": "code",
   "execution_count": 5,
   "id": "9e2ce39f",
   "metadata": {},
   "outputs": [
    {
     "name": "stdout",
     "output_type": "stream",
     "text": [
      "Login attempts: 3\n",
      "Login attempts after reset: 0\n"
     ]
    }
   ],
   "source": [
    "class User:\n",
    "    def __init__(self, first_name, last_name, age, email):\n",
    "        self.first_name = first_name\n",
    "        self.last_name = last_name\n",
    "        self.age = age\n",
    "        self.email = email\n",
    "        self.login_attempts = 0\n",
    "\n",
    "    def describe_user(self):\n",
    "        print(f\"User Information:\")\n",
    "        print(f\"First Name: {self.first_name}\")\n",
    "        print(f\"Last Name: {self.last_name}\")\n",
    "        print(f\"Age: {self.age}\")\n",
    "        print(f\"Email: {self.email}\")\n",
    "\n",
    "    def greet_user(self):\n",
    "        print(f\"Hello, {self.first_name}! Welcome back!\")\n",
    "\n",
    "    def increment_login_attempts(self):\n",
    "        self.login_attempts += 1\n",
    "\n",
    "    def reset_login_attempts(self):\n",
    "        self.login_attempts = 0\n",
    "\n",
    "\n",
    "# 创建一个用户实例\n",
    "user1 = User(\"John\", \"Doe\", 30, \"john@example.com\")\n",
    "\n",
    "# 多次调用增加登录尝试次数的方法\n",
    "user1.increment_login_attempts()\n",
    "user1.increment_login_attempts()\n",
    "user1.increment_login_attempts()\n",
    "\n",
    "# 打印登录尝试次数\n",
    "print(\"Login attempts:\", user1.login_attempts)\n",
    "\n",
    "# 重置登录尝试次数并再次打印\n",
    "user1.reset_login_attempts()\n",
    "print(\"Login attempts after reset:\", user1.login_attempts)\n"
   ]
  },
  {
   "cell_type": "markdown",
   "id": "87422ba8",
   "metadata": {},
   "source": [
    "### 练习 9.6：冰激凌⼩店"
   ]
  },
  {
   "cell_type": "code",
   "execution_count": 6,
   "id": "f0e183d6",
   "metadata": {},
   "outputs": [
    {
     "name": "stdout",
     "output_type": "stream",
     "text": [
      "Available Ice Cream Flavors:\n",
      "- Vanilla\n",
      "- Chocolate\n",
      "- Strawberry\n",
      "- Mint\n",
      "- Cookie Dough\n"
     ]
    }
   ],
   "source": [
    "class Restaurant:\n",
    "    def __init__(self, restaurant_name, cuisine_type):\n",
    "        self.restaurant_name = restaurant_name\n",
    "        self.cuisine_type = cuisine_type\n",
    "        self.number_served = 0\n",
    "\n",
    "    def describe_restaurant(self):\n",
    "        print(f\"Restaurant Name: {self.restaurant_name}\")\n",
    "        print(f\"Cuisine Type: {self.cuisine_type}\")\n",
    "\n",
    "    def open_restaurant(self):\n",
    "        print(f\"{self.restaurant_name} is now open!\")\n",
    "\n",
    "    def set_number_served(self, number):\n",
    "        self.number_served = number\n",
    "\n",
    "    def increment_number_served(self, increment):\n",
    "        self.number_served += increment\n",
    "\n",
    "\n",
    "class IceCreamStand(Restaurant):\n",
    "    def __init__(self, restaurant_name, cuisine_type):\n",
    "        super().__init__(restaurant_name, cuisine_type)\n",
    "        self.flavors = []\n",
    "\n",
    "    def show_flavors(self):\n",
    "        print(\"Available Ice Cream Flavors:\")\n",
    "        for flavor in self.flavors:\n",
    "            print(\"- \" + flavor)\n",
    "\n",
    "\n",
    "# 创建一个 IceCreamStand 实例\n",
    "ice_cream_stand = IceCreamStand(\"Scoops\", \"Ice Cream\")\n",
    "\n",
    "# 添加冰淇淋口味\n",
    "ice_cream_stand.flavors = [\"Vanilla\", \"Chocolate\", \"Strawberry\", \"Mint\", \"Cookie Dough\"]\n",
    "\n",
    "# 显示冰淇淋口味\n",
    "ice_cream_stand.show_flavors()\n"
   ]
  },
  {
   "cell_type": "markdown",
   "id": "0a024095",
   "metadata": {},
   "source": [
    "### 练习 9.7：管理员"
   ]
  },
  {
   "cell_type": "code",
   "execution_count": 7,
   "id": "a4b40fb1",
   "metadata": {},
   "outputs": [
    {
     "name": "stdout",
     "output_type": "stream",
     "text": [
      "Administrator Privileges:\n",
      "- can add post\n",
      "- can delete post\n",
      "- can ban user\n"
     ]
    }
   ],
   "source": [
    "class User:\n",
    "    def __init__(self, first_name, last_name, age, email):\n",
    "        self.first_name = first_name\n",
    "        self.last_name = last_name\n",
    "        self.age = age\n",
    "        self.email = email\n",
    "        self.login_attempts = 0\n",
    "\n",
    "    def describe_user(self):\n",
    "        print(f\"User Information:\")\n",
    "        print(f\"First Name: {self.first_name}\")\n",
    "        print(f\"Last Name: {self.last_name}\")\n",
    "        print(f\"Age: {self.age}\")\n",
    "        print(f\"Email: {self.email}\")\n",
    "\n",
    "    def greet_user(self):\n",
    "        print(f\"Hello, {self.first_name}! Welcome back!\")\n",
    "\n",
    "    def increment_login_attempts(self):\n",
    "        self.login_attempts += 1\n",
    "\n",
    "    def reset_login_attempts(self):\n",
    "        self.login_attempts = 0\n",
    "\n",
    "\n",
    "class Admin(User):\n",
    "    def __init__(self, first_name, last_name, age, email):\n",
    "        super().__init__(first_name, last_name, age, email)\n",
    "        self.privileges = [\"can add post\", \"can delete post\", \"can ban user\"]\n",
    "\n",
    "    def show_privileges(self):\n",
    "        print(\"Administrator Privileges:\")\n",
    "        for privilege in self.privileges:\n",
    "            print(\"- \" + privilege)\n",
    "\n",
    "\n",
    "# 创建一个 Admin 实例\n",
    "admin = Admin(\"Admin\", \"Smith\", 35, \"admin@example.com\")\n",
    "\n",
    "# 调用 show_privileges() 方法显示管理员权限\n",
    "admin.show_privileges()\n"
   ]
  },
  {
   "cell_type": "markdown",
   "id": "f4ff9366",
   "metadata": {},
   "source": [
    "### 练习 9.8：权限"
   ]
  },
  {
   "cell_type": "code",
   "execution_count": 8,
   "id": "1b01088e",
   "metadata": {},
   "outputs": [
    {
     "name": "stdout",
     "output_type": "stream",
     "text": [
      "Administrator Privileges:\n",
      "- can add post\n",
      "- can delete post\n",
      "- can ban user\n"
     ]
    }
   ],
   "source": [
    "class Privileges:\n",
    "    def __init__(self, privileges):\n",
    "        self.privileges = privileges\n",
    "\n",
    "    def show_privileges(self):\n",
    "        print(\"Administrator Privileges:\")\n",
    "        for privilege in self.privileges:\n",
    "            print(\"- \" + privilege)\n",
    "\n",
    "\n",
    "class Admin:\n",
    "    def __init__(self, first_name, last_name, age, email):\n",
    "        self.first_name = first_name\n",
    "        self.last_name = last_name\n",
    "        self.age = age\n",
    "        self.email = email\n",
    "        self.privileges = Privileges([\"can add post\", \"can delete post\", \"can ban user\"])\n",
    "\n",
    "\n",
    "# 创建一个 Admin 实例\n",
    "admin = Admin(\"Admin\", \"Smith\", 35, \"admin@example.com\")\n",
    "\n",
    "# 调用 Privileges 实例的 show_privileges() 方法显示管理员权限\n",
    "admin.privileges.show_privileges()\n"
   ]
  },
  {
   "cell_type": "markdown",
   "id": "c4aba14e",
   "metadata": {},
   "source": [
    "### 练习 9.9：电池升级"
   ]
  },
  {
   "cell_type": "code",
   "execution_count": 9,
   "id": "e5d33709",
   "metadata": {},
   "outputs": [
    {
     "name": "stdout",
     "output_type": "stream",
     "text": [
      "Initial Range:\n",
      "Range: 200 miles\n",
      "\n",
      "After Battery Upgrade:\n",
      "Range: 0 miles\n"
     ]
    }
   ],
   "source": [
    "class Battery:\n",
    "    def __init__(self, battery_size=60):\n",
    "        self.battery_size = battery_size\n",
    "\n",
    "    def describe_battery(self):\n",
    "        print(f\"Battery size: {self.battery_size}-kWh\")\n",
    "\n",
    "    def get_range(self):\n",
    "        if self.battery_size == 60:\n",
    "            range = 200\n",
    "        elif self.battery_size == 85:\n",
    "            range = 270\n",
    "        else:\n",
    "            range = 0\n",
    "        print(f\"Range: {range} miles\")\n",
    "\n",
    "    def upgrade_battery(self):\n",
    "        if self.battery_size != 65:\n",
    "            self.battery_size = 65\n",
    "\n",
    "\n",
    "class ElectricCar:\n",
    "    def __init__(self, make, model, year):\n",
    "        self.make = make\n",
    "        self.model = model\n",
    "        self.year = year\n",
    "        self.battery = Battery()\n",
    "\n",
    "    def describe_car(self):\n",
    "        print(f\"Make: {self.make}\")\n",
    "        print(f\"Model: {self.model}\")\n",
    "        print(f\"Year: {self.year}\")\n",
    "\n",
    "    def get_range(self):\n",
    "        self.battery.get_range()\n",
    "\n",
    "\n",
    "# 创建一辆电动汽车实例\n",
    "my_electric_car = ElectricCar(\"Tesla\", \"Model S\", 2022)\n",
    "\n",
    "# 获取初始续航里程\n",
    "print(\"Initial Range:\")\n",
    "my_electric_car.get_range()\n",
    "\n",
    "# 升级电池并再次获取续航里程\n",
    "print(\"\\nAfter Battery Upgrade:\")\n",
    "my_electric_car.battery.upgrade_battery()\n",
    "my_electric_car.get_range()\n"
   ]
  },
  {
   "cell_type": "markdown",
   "id": "7c03fdd3",
   "metadata": {},
   "source": [
    "### 练习 9.10：导⼊ Restaurant 类"
   ]
  },
  {
   "cell_type": "code",
   "execution_count": 19,
   "id": "f6fe2100",
   "metadata": {},
   "outputs": [
    {
     "name": "stdout",
     "output_type": "stream",
     "text": [
      "Restaurant Name: The Great Feast\n",
      "Cuisine Type: Italian\n"
     ]
    }
   ],
   "source": [
    "# restaurant.py\n",
    "\n",
    "class Restaurant:\n",
    "    def __init__(self, restaurant_name, cuisine_type):\n",
    "        self.restaurant_name = restaurant_name\n",
    "        self.cuisine_type = cuisine_type\n",
    "\n",
    "    def describe_restaurant(self):\n",
    "        print(f\"Restaurant Name: {self.restaurant_name}\")\n",
    "        print(f\"Cuisine Type: {self.cuisine_type}\")\n",
    "\n",
    "    def open_restaurant(self):\n",
    "        print(f\"{self.restaurant_name} is now open!\")\n",
    "\n",
    "        # main.py\n",
    "\n",
    "from restaurant import Restaurant\n",
    "\n",
    "# 创建一个 Restaurant 实例\n",
    "my_restaurant = Restaurant(\"The Great Feast\", \"Italian\")\n",
    "\n",
    "# 调用其中一个方法\n",
    "my_restaurant.describe_restaurant()\n"
   ]
  },
  {
   "cell_type": "markdown",
   "id": "2cf25893",
   "metadata": {},
   "source": [
    "### 练习 9.11：导⼊ Admin 类"
   ]
  },
  {
   "cell_type": "code",
   "execution_count": 18,
   "id": "142d5f30",
   "metadata": {},
   "outputs": [
    {
     "name": "stdout",
     "output_type": "stream",
     "text": [
      "Administrator Privileges:\n",
      "- can add post\n",
      "- can delete post\n",
      "- can ban user\n"
     ]
    }
   ],
   "source": [
    "# user_admin.py\n",
    "\n",
    "class User:\n",
    "    def __init__(self, first_name, last_name, age, email):\n",
    "        self.first_name = first_name\n",
    "        self.last_name = last_name\n",
    "        self.age = age\n",
    "        self.email = email\n",
    "        self.login_attempts = 0\n",
    "\n",
    "    def describe_user(self):\n",
    "        print(f\"User Information:\")\n",
    "        print(f\"First Name: {self.first_name}\")\n",
    "        print(f\"Last Name: {self.last_name}\")\n",
    "        print(f\"Age: {self.age}\")\n",
    "        print(f\"Email: {self.email}\")\n",
    "\n",
    "    def greet_user(self):\n",
    "        print(f\"Hello, {self.first_name}! Welcome back!\")\n",
    "\n",
    "    def increment_login_attempts(self):\n",
    "        self.login_attempts += 1\n",
    "\n",
    "    def reset_login_attempts(self):\n",
    "        self.login_attempts = 0\n",
    "\n",
    "\n",
    "class Privileges:\n",
    "    def __init__(self, privileges):\n",
    "        self.privileges = privileges\n",
    "\n",
    "    def show_privileges(self):\n",
    "        print(\"Administrator Privileges:\")\n",
    "        for privilege in self.privileges:\n",
    "            print(\"- \" + privilege)\n",
    "\n",
    "\n",
    "class Admin(User):\n",
    "    def __init__(self, first_name, last_name, age, email):\n",
    "        super().__init__(first_name, last_name, age, email)\n",
    "        self.privileges = Privileges([\"can add post\", \"can delete post\", \"can ban user\"])\n",
    "# main.py\n",
    "\n",
    "from user_admin import Admin\n",
    "\n",
    "# 创建一个 Admin 实例\n",
    "admin = Admin(\"Admin\", \"Smith\", 35, \"admin@example.com\")\n",
    "\n",
    "# 调用 show_privileges() 方法显示管理员权限\n",
    "admin.privileges.show_privileges()\n"
   ]
  },
  {
   "cell_type": "markdown",
   "id": "aa8a7516",
   "metadata": {},
   "source": [
    "### 练习 9.12：多个模块"
   ]
  },
  {
   "cell_type": "code",
   "execution_count": 20,
   "id": "6cf8517a",
   "metadata": {},
   "outputs": [
    {
     "name": "stdout",
     "output_type": "stream",
     "text": [
      "Administrator Privileges:\n",
      "- can add post\n",
      "- can delete post\n",
      "- can ban user\n"
     ]
    }
   ],
   "source": [
    "# user.py\n",
    "\n",
    "class User:\n",
    "    def __init__(self, first_name, last_name, age, email):\n",
    "        self.first_name = first_name\n",
    "        self.last_name = last_name\n",
    "        self.age = age\n",
    "        self.email = email\n",
    "        self.login_attempts = 0\n",
    "\n",
    "    def describe_user(self):\n",
    "        print(f\"User Information:\")\n",
    "        print(f\"First Name: {self.first_name}\")\n",
    "        print(f\"Last Name: {self.last_name}\")\n",
    "        print(f\"Age: {self.age}\")\n",
    "        print(f\"Email: {self.email}\")\n",
    "\n",
    "    def greet_user(self):\n",
    "        print(f\"Hello, {self.first_name}! Welcome back!\")\n",
    "\n",
    "    def increment_login_attempts(self):\n",
    "        self.login_attempts += 1\n",
    "\n",
    "    def reset_login_attempts(self):\n",
    "        self.login_attempts = 0\n",
    "# admin_privileges.py\n",
    "\n",
    "from user import User\n",
    "\n",
    "class Privileges:\n",
    "    def __init__(self, privileges):\n",
    "        self.privileges = privileges\n",
    "\n",
    "    def show_privileges(self):\n",
    "        print(\"Administrator Privileges:\")\n",
    "        for privilege in self.privileges:\n",
    "            print(\"- \" + privilege)\n",
    "\n",
    "\n",
    "class Admin(User):\n",
    "    def __init__(self, first_name, last_name, age, email):\n",
    "        super().__init__(first_name, last_name, age, email)\n",
    "        self.privileges = Privileges([\"can add post\", \"can delete post\", \"can ban user\"])\n",
    "# main.py\n",
    "\n",
    "from admin_privileges import Admin\n",
    "\n",
    "# 创建一个 Admin 实例\n",
    "admin = Admin(\"Admin\", \"Smith\", 35, \"admin@example.com\")\n",
    "\n",
    "# 调用 show_privileges() 方法显示管理员权限\n",
    "admin.privileges.show_privileges()\n"
   ]
  },
  {
   "cell_type": "markdown",
   "id": "79e258b2",
   "metadata": {},
   "source": [
    "### 练习 9.13：骰⼦"
   ]
  },
  {
   "cell_type": "code",
   "execution_count": 24,
   "id": "50ac7a58",
   "metadata": {},
   "outputs": [
    {
     "name": "stdout",
     "output_type": "stream",
     "text": [
      "6-sided die:\n",
      "Rolling the die:\n",
      "The result is: 6\n",
      "Rolling the die:\n",
      "The result is: 6\n",
      "Rolling the die:\n",
      "The result is: 1\n",
      "Rolling the die:\n",
      "The result is: 3\n",
      "Rolling the die:\n",
      "The result is: 3\n",
      "Rolling the die:\n",
      "The result is: 6\n",
      "Rolling the die:\n",
      "The result is: 2\n",
      "Rolling the die:\n",
      "The result is: 1\n",
      "Rolling the die:\n",
      "The result is: 4\n",
      "Rolling the die:\n",
      "The result is: 5\n",
      "\n",
      "10-sided die:\n",
      "Rolling the die:\n",
      "The result is: 3\n",
      "Rolling the die:\n",
      "The result is: 10\n",
      "Rolling the die:\n",
      "The result is: 1\n",
      "Rolling the die:\n",
      "The result is: 3\n",
      "Rolling the die:\n",
      "The result is: 6\n",
      "Rolling the die:\n",
      "The result is: 2\n",
      "Rolling the die:\n",
      "The result is: 1\n",
      "Rolling the die:\n",
      "The result is: 9\n",
      "Rolling the die:\n",
      "The result is: 1\n",
      "Rolling the die:\n",
      "The result is: 3\n",
      "\n",
      "20-sided die:\n",
      "Rolling the die:\n",
      "The result is: 18\n",
      "Rolling the die:\n",
      "The result is: 11\n",
      "Rolling the die:\n",
      "The result is: 19\n",
      "Rolling the die:\n",
      "The result is: 18\n",
      "Rolling the die:\n",
      "The result is: 11\n",
      "Rolling the die:\n",
      "The result is: 8\n",
      "Rolling the die:\n",
      "The result is: 16\n",
      "Rolling the die:\n",
      "The result is: 20\n",
      "Rolling the die:\n",
      "The result is: 5\n",
      "Rolling the die:\n",
      "The result is: 4\n"
     ]
    }
   ],
   "source": [
    "import random\n",
    "\n",
    "class Die:\n",
    "    def __init__(self, sides=6):\n",
    "        self.sides = sides\n",
    "\n",
    "    def roll_die(self):\n",
    "        print(\"Rolling the die:\")\n",
    "        result = random.randint(1, self.sides)\n",
    "        print(f\"The result is: {result}\")\n",
    "\n",
    "# 创建一个6面的骰子并掷10次\n",
    "print(\"6-sided die:\")\n",
    "six_sided_die = Die()\n",
    "for _ in range(10):\n",
    "    six_sided_die.roll_die()\n",
    "\n",
    "# 创建一个10面的骰子并掷10次\n",
    "print(\"\\n10-sided die:\")\n",
    "ten_sided_die = Die(sides=10)\n",
    "for _ in range(10):\n",
    "    ten_sided_die.roll_die()\n",
    "\n",
    "# 创建一个20面的骰子并掷10次\n",
    "print(\"\\n20-sided die:\")\n",
    "twenty_sided_die = Die(sides=20)\n",
    "for _ in range(10):\n",
    "    twenty_sided_die.roll_die()\n"
   ]
  },
  {
   "cell_type": "markdown",
   "id": "e99bed50",
   "metadata": {},
   "source": [
    "### 练习 9.14：彩票"
   ]
  },
  {
   "cell_type": "code",
   "execution_count": 25,
   "id": "195ad7de",
   "metadata": {},
   "outputs": [
    {
     "name": "stdout",
     "output_type": "stream",
     "text": [
      "Winning numbers: ['A', 7, 8, 2]\n",
      "Better luck next time!\n"
     ]
    }
   ],
   "source": [
    "import random\n",
    "\n",
    "# 创建包含10个数字和5个字母的列表\n",
    "lottery_pool = [1, 2, 3, 4, 5, 6, 7, 8, 9, 10, 'A', 'B', 'C', 'D', 'E']\n",
    "\n",
    "# 从列表中随机选择4个元素\n",
    "winning_numbers = random.sample(lottery_pool, 4)\n",
    "\n",
    "# 打印中奖号码\n",
    "print(\"Winning numbers:\", winning_numbers)\n",
    "\n",
    "# 检查是否中了大奖\n",
    "if 'A' in winning_numbers and 'B' in winning_numbers and 'C' in winning_numbers and 'D' in winning_numbers:\n",
    "    print(\"Congratulations! You've won the jackpot!\")\n",
    "else:\n",
    "    print(\"Better luck next time!\")\n"
   ]
  },
  {
   "cell_type": "markdown",
   "id": "15b21604",
   "metadata": {},
   "source": [
    "### 练习 9.15：彩票分析"
   ]
  },
  {
   "cell_type": "code",
   "execution_count": 26,
   "id": "695b3dd2",
   "metadata": {},
   "outputs": [
    {
     "name": "stdout",
     "output_type": "stream",
     "text": [
      "Congratulations! You've won the jackpot!\n",
      "Number of attempts: 22568\n"
     ]
    }
   ],
   "source": [
    "import random\n",
    "\n",
    "# 创建包含10个数字和5个字母的列表\n",
    "lottery_pool = [1, 2, 3, 4, 5, 6, 7, 8, 9, 10, 'A', 'B', 'C', 'D', 'E']\n",
    "\n",
    "# 创建自己的彩票号码\n",
    "my_ticket = ['A', 'B', 'C', 'D']\n",
    "\n",
    "# 初始化循环计数器\n",
    "num_attempts = 0\n",
    "\n",
    "# 不断地购买彩票，直到中了大奖为止\n",
    "while True:\n",
    "    # 随机选择4个元素作为中奖号码\n",
    "    winning_numbers = random.sample(lottery_pool, 4)\n",
    "    \n",
    "    # 增加循环计数器\n",
    "    num_attempts += 1\n",
    "\n",
    "    # 检查是否中了大奖\n",
    "    if winning_numbers == my_ticket:\n",
    "        print(\"Congratulations! You've won the jackpot!\")\n",
    "        print(\"Number of attempts:\", num_attempts)\n",
    "        break\n"
   ]
  }
 ],
 "metadata": {
  "kernelspec": {
   "display_name": "Python 3 (ipykernel)",
   "language": "python",
   "name": "python3"
  },
  "language_info": {
   "codemirror_mode": {
    "name": "ipython",
    "version": 3
   },
   "file_extension": ".py",
   "mimetype": "text/x-python",
   "name": "python",
   "nbconvert_exporter": "python",
   "pygments_lexer": "ipython3",
   "version": "3.11.5"
  }
 },
 "nbformat": 4,
 "nbformat_minor": 5
}
