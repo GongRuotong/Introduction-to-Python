{
 "cells": [
  {
   "cell_type": "markdown",
   "id": "3e8cb5d5",
   "metadata": {},
   "source": [
    "# 第 9 章 类(class)"
   ]
  },
  {
   "cell_type": "markdown",
   "id": "62afc6b1",
   "metadata": {},
   "source": [
    "## 9.1 创建和使⽤类"
   ]
  },
  {
   "cell_type": "markdown",
   "id": "b3b03f1d",
   "metadata": {},
   "source": [
    "### 9.1.1 创建 Dog 类"
   ]
  },
  {
   "cell_type": "code",
   "execution_count": 3,
   "id": "9922a4b4",
   "metadata": {},
   "outputs": [],
   "source": [
    "class Dog:#⾸字⺟⼤写的名称指的是类\n",
    "    \"\"\"⼀次模拟⼩狗的简单尝试\"\"\"\n",
    "    \n",
    "    def __init__(self, name, age):#类中的函数称为⽅法 #形参 self 必不可少，⽽且必须位于其他形参的前⾯\n",
    "        \"\"\"初始化属性 name 和 age\"\"\"\n",
    "        self.name = name\n",
    "        self.age = age\n",
    "   \n",
    "    def sit(self):\n",
    "            \"\"\"模拟⼩狗收到命令时坐下\"\"\"\n",
    "            print(f\"{self.name} is now sitting.\")\n",
    "    \n",
    "    def roll_over(self):\n",
    "            \"\"\"模拟⼩狗收到命令时打滚\"\"\"\n",
    "            print(f\"{self.name} rolled over!\")"
   ]
  },
  {
   "cell_type": "markdown",
   "id": "285bd3de",
   "metadata": {},
   "source": [
    "### 9.1.2 根据类创建实例"
   ]
  },
  {
   "cell_type": "code",
   "execution_count": 4,
   "id": "e594845d",
   "metadata": {},
   "outputs": [
    {
     "name": "stdout",
     "output_type": "stream",
     "text": [
      "My dog's name is tongtong.\n",
      "My dog is 6 years old.\n"
     ]
    }
   ],
   "source": [
    "class Dog:#⾸字⺟⼤写的名称指的是类\n",
    "    \"\"\"⼀次模拟⼩狗的简单尝试\"\"\"\n",
    "    \n",
    "    def __init__(self, name, age):#类中的函数称为⽅法 #形参 self 必不可少，⽽且必须位于其他形参的前⾯\n",
    "        \"\"\"初始化属性 name 和 age\"\"\"\n",
    "        self.name = name\n",
    "        self.age = age\n",
    "   \n",
    "    def sit(self):\n",
    "            \"\"\"模拟⼩狗收到命令时坐下\"\"\"\n",
    "            print(f\"{self.name} is now sitting.\")\n",
    "    \n",
    "    def roll_over(self):\n",
    "            \"\"\"模拟⼩狗收到命令时打滚\"\"\"\n",
    "            print(f\"{self.name} rolled over!\")\n",
    "\n",
    "my_dog = Dog('tongtong', 6)\n",
    "\n",
    "print(f\"My dog's name is {my_dog.name}.\")\n",
    "print(f\"My dog is {my_dog.age} years old.\")"
   ]
  },
  {
   "cell_type": "markdown",
   "id": "c9a75c36",
   "metadata": {},
   "source": [
    "#### 01. 访问属性"
   ]
  },
  {
   "cell_type": "code",
   "execution_count": 5,
   "id": "96fd6fbb",
   "metadata": {},
   "outputs": [
    {
     "data": {
      "text/plain": [
       "'tongtong'"
      ]
     },
     "execution_count": 5,
     "metadata": {},
     "output_type": "execute_result"
    }
   ],
   "source": [
    "my_dog.name"
   ]
  },
  {
   "cell_type": "code",
   "execution_count": 9,
   "id": "93e62ac0",
   "metadata": {},
   "outputs": [
    {
     "data": {
      "text/plain": [
       "<__main__.Dog at 0x1d20c41d650>"
      ]
     },
     "execution_count": 9,
     "metadata": {},
     "output_type": "execute_result"
    }
   ],
   "source": [
    "my_dog"
   ]
  },
  {
   "cell_type": "markdown",
   "id": "a78f7444",
   "metadata": {},
   "source": [
    "#### 02. 调⽤⽅法"
   ]
  },
  {
   "cell_type": "code",
   "execution_count": 8,
   "id": "66ecb258",
   "metadata": {},
   "outputs": [
    {
     "name": "stdout",
     "output_type": "stream",
     "text": [
      "tongtong is now sitting.\n"
     ]
    }
   ],
   "source": [
    "my_dog = Dog('tongtong', 6)\n",
    "my_dog.sit()#调用的是函数，要有括号"
   ]
  },
  {
   "cell_type": "code",
   "execution_count": 7,
   "id": "fc0eb945",
   "metadata": {},
   "outputs": [
    {
     "name": "stdout",
     "output_type": "stream",
     "text": [
      "tongtong rolled over!\n"
     ]
    }
   ],
   "source": [
    "my_dog.roll_over()"
   ]
  },
  {
   "cell_type": "markdown",
   "id": "cacee6b6",
   "metadata": {},
   "source": [
    "#### 03. 创建多个实例"
   ]
  },
  {
   "cell_type": "code",
   "execution_count": 10,
   "id": "32643ab3",
   "metadata": {},
   "outputs": [
    {
     "name": "stdout",
     "output_type": "stream",
     "text": [
      "My dog's name is xuexue.\n",
      "My dog is 6 years old.\n",
      "xuexue is now sitting.\n",
      "\n",
      "Your dog's name is fubao.\n",
      "Your dog is 3 years old.\n",
      "fubao is now sitting.\n"
     ]
    }
   ],
   "source": [
    "class Dog:#⾸字⺟⼤写的名称指的是类\n",
    "    \"\"\"⼀次模拟⼩狗的简单尝试\"\"\"\n",
    "    \n",
    "    def __init__(self, name, age):#类中的函数称为⽅法 #形参 self 必不可少，⽽且必须位于其他形参的前⾯\n",
    "        \"\"\"初始化属性 name 和 age\"\"\"\n",
    "        self.name = name\n",
    "        self.age = age\n",
    "   \n",
    "    def sit(self):\n",
    "            \"\"\"模拟⼩狗收到命令时坐下\"\"\"\n",
    "            print(f\"{self.name} is now sitting.\")\n",
    "    \n",
    "    def roll_over(self):\n",
    "            \"\"\"模拟⼩狗收到命令时打滚\"\"\"\n",
    "            print(f\"{self.name} rolled over!\")\n",
    "\n",
    "my_dog = Dog('xuexue', 6)\n",
    "your_dog = Dog('fubao', 3)\n",
    "\n",
    "print(f\"My dog's name is {my_dog.name}.\")\n",
    "print(f\"My dog is {my_dog.age} years old.\")\n",
    "my_dog.sit()\n",
    "\n",
    "print(f\"\\nYour dog's name is {your_dog.name}.\")\n",
    "print(f\"Your dog is {your_dog.age} years old.\")\n",
    "your_dog.sit()"
   ]
  },
  {
   "cell_type": "markdown",
   "id": "fbef68a3",
   "metadata": {},
   "source": [
    "## 9.2 使⽤类和实例"
   ]
  },
  {
   "cell_type": "markdown",
   "id": "497bf733",
   "metadata": {},
   "source": [
    "### 9.2.1 Car 类"
   ]
  },
  {
   "cell_type": "code",
   "execution_count": 25,
   "id": "01de11e7",
   "metadata": {},
   "outputs": [
    {
     "name": "stdout",
     "output_type": "stream",
     "text": [
      "2024 Audi A4\n"
     ]
    }
   ],
   "source": [
    "class Car:\n",
    "    \"\"\"一次模拟汽车的简单尝试\"\"\"\n",
    "    \n",
    "    def __init__(self, make, model, year):\n",
    "        \"\"\"初始化描述汽车的属性\"\"\"\n",
    "        self.make = make\n",
    "        self.model = model\n",
    "        self.year = year\n",
    "    \n",
    "    def get_descriptive_name(self):\n",
    "        \"\"\"返回格式规范的描述信息\"\"\"\n",
    "        long_name = f\"{self.year} {self.make} {self.model}\"  # 在每个属性之间添加空格\n",
    "        return long_name.title()\n",
    "    \n",
    "my_new_car = Car('audi', 'a4', 2024)\n",
    "print(my_new_car.get_descriptive_name()) \n"
   ]
  },
  {
   "cell_type": "markdown",
   "id": "f1e82aeb",
   "metadata": {},
   "source": [
    "### 9.2.2 给属性指定默认值"
   ]
  },
  {
   "cell_type": "code",
   "execution_count": 26,
   "id": "a387bf10",
   "metadata": {},
   "outputs": [
    {
     "name": "stdout",
     "output_type": "stream",
     "text": [
      "2024 Audi A4\n",
      "This car has 0 miles on it.\n"
     ]
    }
   ],
   "source": [
    "class Car:\n",
    "    def __init__(self, make, model, year):\n",
    "        \"\"\"初始化描述汽⻋的属性\"\"\"\n",
    "        self.make = make\n",
    "        self.model = model\n",
    "        self.year = year\n",
    "        self.odometer_reading = 0  # 正确缩进\n",
    "        \n",
    "    def get_descriptive_name(self):\n",
    "        \"\"\"返回格式规范的描述信息\"\"\"\n",
    "        long_name = f\"{self.year} {self.make} {self.model}\"\n",
    "        return long_name.title()\n",
    "    \n",
    "    def read_odometer(self):  # 添加了 self 参数\n",
    "        \"\"\"打印⼀条指出汽⻋⾏驶⾥程的消息\"\"\"\n",
    "        print(f\"This car has {self.odometer_reading} miles on it.\")\n",
    "\n",
    "my_new_car = Car('audi', 'a4', 2024)\n",
    "print(my_new_car.get_descriptive_name())\n",
    "my_new_car.read_odometer()\n"
   ]
  },
  {
   "cell_type": "markdown",
   "id": "5ec24752",
   "metadata": {},
   "source": [
    "### 9.2.3 修改属性的值"
   ]
  },
  {
   "cell_type": "markdown",
   "id": "83bfabe4",
   "metadata": {},
   "source": [
    "#### 01. 直接修改属性的值"
   ]
  },
  {
   "cell_type": "code",
   "execution_count": 27,
   "id": "e0858b6f",
   "metadata": {},
   "outputs": [
    {
     "name": "stdout",
     "output_type": "stream",
     "text": [
      "2024 Audi A4\n",
      "This car has 23 miles on it.\n"
     ]
    }
   ],
   "source": [
    "class Car:\n",
    "    def __init__(self, make, model, year):\n",
    "        \"\"\"初始化描述汽⻋的属性\"\"\"\n",
    "        self.make = make\n",
    "        self.model = model\n",
    "        self.year = year\n",
    "        self.odometer_reading = 0  # 正确缩进\n",
    "        \n",
    "    def get_descriptive_name(self):\n",
    "        \"\"\"返回格式规范的描述信息\"\"\"\n",
    "        long_name = f\"{self.year} {self.make} {self.model}\"\n",
    "        return long_name.title()\n",
    "    \n",
    "    def read_odometer(self):  # 添加了 self 参数\n",
    "        \"\"\"打印⼀条指出汽⻋⾏驶⾥程的消息\"\"\"\n",
    "        print(f\"This car has {self.odometer_reading} miles on it.\")\n",
    "\n",
    "my_new_car = Car('audi', 'a4', 2024)\n",
    "print(my_new_car.get_descriptive_name())\n",
    "\n",
    "my_new_car.odometer_reading = 23\n",
    "my_new_car.read_odometer()\n"
   ]
  },
  {
   "cell_type": "markdown",
   "id": "f7fa2560",
   "metadata": {},
   "source": [
    "#### 02. 通过⽅法修改属性的值"
   ]
  },
  {
   "cell_type": "code",
   "execution_count": 29,
   "id": "d6bb9713",
   "metadata": {},
   "outputs": [
    {
     "name": "stdout",
     "output_type": "stream",
     "text": [
      "2024 Audi A4\n",
      "This car has 23 miles on it.\n"
     ]
    }
   ],
   "source": [
    "class Car:\n",
    "    def __init__(self, make, model, year):\n",
    "        \"\"\"初始化描述汽⻋的属性\"\"\"\n",
    "        self.make = make\n",
    "        self.model = model\n",
    "        self.year = year\n",
    "        self.odometer_reading = 0  # 正确缩进\n",
    "        \n",
    "    def get_descriptive_name(self):\n",
    "        \"\"\"返回格式规范的描述信息\"\"\"\n",
    "        long_name = f\"{self.year} {self.make} {self.model}\"\n",
    "        return long_name.title()\n",
    "    \n",
    "    def read_odometer(self):  # 添加了 self 参数\n",
    "        \"\"\"打印⼀条指出汽⻋⾏驶⾥程的消息\"\"\"\n",
    "        print(f\"This car has {self.odometer_reading} miles on it.\")\n",
    "        \n",
    "    def update_odometer(self, mileage):\n",
    "        \"\"\"将⾥程表读数设置为指定的值\"\"\"\n",
    "        self.odometer_reading = mileage\n",
    "        \n",
    "my_new_car = Car('audi', 'a4', 2024)\n",
    "print(my_new_car.get_descriptive_name())\n",
    "\n",
    "my_new_car.update_odometer(23)\n",
    "my_new_car.read_odometer()"
   ]
  },
  {
   "cell_type": "markdown",
   "id": "5c874f72",
   "metadata": {},
   "source": [
    "#### 03. 通过⽅法让属性的值递增"
   ]
  },
  {
   "cell_type": "code",
   "execution_count": 30,
   "id": "debe44a7",
   "metadata": {},
   "outputs": [
    {
     "name": "stdout",
     "output_type": "stream",
     "text": [
      "2019 Subaru Outback\n",
      "This car has 23500 miles on it.\n",
      "This car has 23600 miles on it.\n"
     ]
    }
   ],
   "source": [
    "class Car:\n",
    "    def __init__(self, make, model, year):\n",
    "        \"\"\"初始化描述汽⻋的属性\"\"\"\n",
    "        self.make = make\n",
    "        self.model = model\n",
    "        self.year = year\n",
    "        self.odometer_reading = 0  # 正确缩进\n",
    "        \n",
    "    def get_descriptive_name(self):\n",
    "        \"\"\"返回格式规范的描述信息\"\"\"\n",
    "        long_name = f\"{self.year} {self.make} {self.model}\"\n",
    "        return long_name.title()\n",
    "    \n",
    "    def read_odometer(self):  # 添加了 self 参数\n",
    "        \"\"\"打印⼀条指出汽⻋⾏驶⾥程的消息\"\"\"\n",
    "        print(f\"This car has {self.odometer_reading} miles on it.\")\n",
    "        \n",
    "    def update_odometer(self, mileage):\n",
    "        \"\"\"将⾥程表读数设置为指定的值\"\"\"\n",
    "        self.odometer_reading = mileage\n",
    "        \n",
    "    def increment_odometer(self, miles):\n",
    "        \"\"\"让⾥程表读数增加指定的量\"\"\"\n",
    "        self.odometer_reading += miles\n",
    "        \n",
    "my_used_car = Car('subaru', 'outback', 2019)\n",
    "print(my_used_car.get_descriptive_name())\n",
    "\n",
    "my_used_car.update_odometer(23_500)\n",
    "my_used_car.read_odometer()\n",
    "\n",
    "my_used_car.increment_odometer(100)\n",
    "my_used_car.read_odometer()     "
   ]
  },
  {
   "cell_type": "markdown",
   "id": "aeb4d974",
   "metadata": {},
   "source": [
    "## 9.3 继承"
   ]
  },
  {
   "cell_type": "markdown",
   "id": "d8c64284",
   "metadata": {},
   "source": [
    "### 9.3.1 ⼦类的 __init__() ⽅法"
   ]
  },
  {
   "cell_type": "code",
   "execution_count": 31,
   "id": "d2fa2561",
   "metadata": {},
   "outputs": [
    {
     "name": "stdout",
     "output_type": "stream",
     "text": [
      "2024 Nissan Leaf\n"
     ]
    }
   ],
   "source": [
    "class Car:\n",
    "    \"\"\"⼀次模拟汽⻋的简单尝试\"\"\"\n",
    "    \n",
    "    def __init__(self, make, model, year):\n",
    "        \"\"\"初始化描述汽⻋的属性\"\"\"\n",
    "        self.make = make\n",
    "        self.model = model\n",
    "        self.year = year\n",
    "        self.odometer_reading = 0\n",
    "    \n",
    "    def get_descriptive_name(self):\n",
    "        \"\"\"返回格式规范的描述性名称\"\"\"\n",
    "        long_name = f\"{self.year} {self.make} {self.model}\"\n",
    "        return long_name.title()\n",
    "    \n",
    "    def read_odometer(self):\n",
    "        \"\"\"打印⼀个句⼦，指出汽⻋的⾏驶⾥程\"\"\"\n",
    "        print(f\"This car has {self.odometer_reading} miles on it.\")\n",
    "    \n",
    "    def update_odometer(self, mileage):\n",
    "        \"\"\"将⾥程表读数设置为给定的值\"\"\"\n",
    "        if mileage >= self.odometer_reading:\n",
    "            self.odometer_reading = mileage\n",
    "        else:\n",
    "            print(\"You can't roll back an odometer!\")\n",
    "    \n",
    "    def increment_odometer(self, miles):\n",
    "        \"\"\"让⾥程表读数增加给定的量\"\"\"\n",
    "        self.odometer_reading += miles\n",
    "\n",
    "class ElectricCar(Car):\n",
    "    \"\"\"电动汽⻋的独特之处\"\"\"\n",
    "    \n",
    "    def __init__(self, make, model, year):\n",
    "        \"\"\"初始化⽗类的属性\"\"\"\n",
    "        super().__init__(make, model, year)#super() 是⼀个特殊的函数，让你能够调⽤⽗类的⽅法\n",
    "\n",
    "my_leaf = ElectricCar('nissan', 'leaf', 2024)\n",
    "print(my_leaf.get_descriptive_name())\n"
   ]
  },
  {
   "cell_type": "markdown",
   "id": "5dc823af",
   "metadata": {},
   "source": [
    "### 9.3.2 给⼦类定义属性和⽅法"
   ]
  },
  {
   "cell_type": "code",
   "execution_count": 32,
   "id": "236886c8",
   "metadata": {},
   "outputs": [
    {
     "name": "stdout",
     "output_type": "stream",
     "text": [
      "2024 Nissan Leaf\n",
      "This car has a 40-kWh battery.\n"
     ]
    }
   ],
   "source": [
    "class ElectricCar(Car):\n",
    "    \"\"\"电动汽⻋的独特之处\"\"\"\n",
    "    \n",
    "    def __init__(self, make, model, year):\n",
    "        \"\"\"\n",
    "        先初始化⽗类的属性，再初始化电动汽⻋特有的属性\n",
    "        \"\"\"\n",
    "        super().__init__(make, model, year)\n",
    "        self.battery_size = 40\n",
    "        \n",
    "    def describe_battery(self):\n",
    "        \"\"\"打印⼀条描述电池容量的消息\"\"\"\n",
    "        print(f\"This car has a {self.battery_size}-kWh battery.\")\n",
    "\n",
    "my_leaf = ElectricCar('nissan', 'leaf', 2024)\n",
    "print(my_leaf.get_descriptive_name())\n",
    "my_leaf.describe_battery()"
   ]
  },
  {
   "cell_type": "markdown",
   "id": "513901d5",
   "metadata": {},
   "source": [
    "### 9.3.3 重写⽗类中的⽅法"
   ]
  },
  {
   "cell_type": "code",
   "execution_count": 34,
   "id": "9eee8d59",
   "metadata": {},
   "outputs": [],
   "source": [
    "class ElectricCar(Car):\n",
    "    \"\"\"电动汽⻋的独特之处\"\"\"\n",
    "    \n",
    "    def __init__(self, make, model, year):\n",
    "        \"\"\"\n",
    "        先初始化⽗类的属性，再初始化电动汽⻋特有的属性\n",
    "        \"\"\"\n",
    "        super().__init__(make, model, year)\n",
    "        self.battery_size = 40\n",
    "        \n",
    "    def describe_battery(self):\n",
    "        \"\"\"打印⼀条描述电池容量的消息\"\"\"\n",
    "        print(f\"This car has a {self.battery_size}-kWh battery.\")\n",
    "        \n",
    "    def fill_gas_tank(self):\n",
    "        \"\"\"电动汽⻋没有油箱\"\"\"\n",
    "        print(\"This car doesn't have a gas tank!\")"
   ]
  },
  {
   "cell_type": "markdown",
   "id": "4ec066b9",
   "metadata": {},
   "source": [
    "### 9.3.4 将实例⽤作属性"
   ]
  },
  {
   "cell_type": "code",
   "execution_count": 35,
   "id": "50d36664",
   "metadata": {},
   "outputs": [
    {
     "name": "stdout",
     "output_type": "stream",
     "text": [
      "2024 Nissan Leaf\n",
      "This car has a 40-kWh battery.\n"
     ]
    }
   ],
   "source": [
    "class Battery:\n",
    "    \"\"\"⼀次模拟电动汽⻋电池的简单尝试\"\"\"\n",
    "    def __init__(self, battery_size=40):\n",
    "        \"\"\"初始化电池的属性\"\"\"\n",
    "        self.battery_size = battery_size\n",
    "    \n",
    "    def describe_battery(self):\n",
    "        \"\"\"打印⼀条描述电池容量的消息\"\"\"\n",
    "        print(f\"This car has a {self.battery_size}-kWh battery.\")\n",
    "\n",
    "class ElectricCar(Car):\n",
    "    \"\"\"电动汽⻋的独特之处\"\"\"\n",
    "    def __init__(self, make, model, year):\n",
    "        \"\"\"\n",
    "        先初始化⽗类的属性，再初始化电动汽⻋特有的属性\n",
    "        \"\"\"\n",
    "        super().__init__(make, model, year)\n",
    "        self.battery = Battery()\n",
    "\n",
    "my_leaf = ElectricCar('nissan', 'leaf', 2024)\n",
    "print(my_leaf.get_descriptive_name())\n",
    "my_leaf.battery.describe_battery()\n"
   ]
  },
  {
   "cell_type": "code",
   "execution_count": 41,
   "id": "3c34433d",
   "metadata": {},
   "outputs": [
    {
     "name": "stdout",
     "output_type": "stream",
     "text": [
      "2024 Nissan Leaf\n",
      "This car has a 40-kWh battery.\n",
      "This car can go about 150 miles on a full charge.\n"
     ]
    }
   ],
   "source": [
    "class Car:\n",
    "    \"\"\"⼀次模拟汽⻋的简单尝试\"\"\"\n",
    "    \n",
    "    def __init__(self, make, model, year):\n",
    "        \"\"\"初始化描述汽⻋的属性\"\"\"\n",
    "        self.make = make\n",
    "        self.model = model\n",
    "        self.year = year\n",
    "        self.odometer_reading = 0\n",
    "    \n",
    "    def get_descriptive_name(self):\n",
    "        \"\"\"返回格式规范的描述性名称\"\"\"\n",
    "        long_name = f\"{self.year} {self.make} {self.model}\"\n",
    "        return long_name.title()\n",
    "    \n",
    "    def read_odometer(self):\n",
    "        \"\"\"打印⼀个句⼦，指出汽⻋的⾏驶⾥程\"\"\"\n",
    "        print(f\"This car has {self.odometer_reading} miles on it.\")\n",
    "    \n",
    "    def update_odometer(self, mileage):\n",
    "        \"\"\"将⾥程表读数设置为给定的值\"\"\"\n",
    "        if mileage >= self.odometer_reading:\n",
    "            self.odometer_reading = mileage\n",
    "        else:\n",
    "            print(\"You can't roll back an odometer!\")\n",
    "    \n",
    "    def increment_odometer(self, miles):\n",
    "        \"\"\"让⾥程表读数增加给定的量\"\"\"\n",
    "        self.odometer_reading += miles\n",
    "    \n",
    "class Battery:\n",
    "    \"\"\"⼀次模拟电动汽⻋电池的简单尝试\"\"\"\n",
    "    \n",
    "    def __init__(self, battery_size=40):\n",
    "        \"\"\"初始化电池的属性\"\"\"\n",
    "        self.battery_size = battery_size\n",
    "    \n",
    "    def describe_battery(self):\n",
    "        \"\"\"打印⼀条描述电池容量的消息\"\"\"\n",
    "        print(f\"This car has a {self.battery_size}-kWh battery.\")\n",
    "\n",
    "    def get_range(self):\n",
    "        \"\"\"打印⼀条消息，指出电池的续航⾥程\"\"\"\n",
    "        if self.battery_size == 40:\n",
    "            range_miles = 150\n",
    "        elif self.battery_size == 65:\n",
    "            range_miles = 225\n",
    "        print(f\"This car can go about {range_miles} miles on a full charge.\")\n",
    "\n",
    "class ElectricCar(Car):\n",
    "    \"\"\"电动汽⻋的独特之处\"\"\"\n",
    "    \n",
    "    def __init__(self, make, model, year):\n",
    "        \"\"\"\n",
    "        先初始化⽗类的属性，再初始化电动汽⻋特有的属性\n",
    "        \"\"\"\n",
    "        super().__init__(make, model, year)\n",
    "        self.battery = Battery()\n",
    "\n",
    "my_leaf = ElectricCar('nissan', 'leaf', 2024)\n",
    "print(my_leaf.get_descriptive_name())\n",
    "my_leaf.battery.describe_battery()\n",
    "my_leaf.battery.get_range()\n"
   ]
  },
  {
   "cell_type": "markdown",
   "id": "f6e9a811",
   "metadata": {},
   "source": [
    "## 9.4 导⼊类"
   ]
  },
  {
   "cell_type": "markdown",
   "id": "044fe888",
   "metadata": {},
   "source": [
    "### 9.4.1 导⼊单个类"
   ]
  },
  {
   "cell_type": "code",
   "execution_count": 42,
   "id": "b643afd3",
   "metadata": {},
   "outputs": [],
   "source": [
    "\"\"\"一个用来表示汽车的类\"\"\"\n",
    "\n",
    "class Car:\n",
    "    \"\"\"一次模拟汽车的简单尝试\"\"\"\n",
    "    \n",
    "    def __init__(self, make, model, year):\n",
    "        \"\"\"初始化描述汽车的属性\"\"\"\n",
    "        self.make = make\n",
    "        self.model = model\n",
    "        self.year = year\n",
    "        self.odometer_reading = 0\n",
    "    \n",
    "    def get_descriptive_name(self):\n",
    "        \"\"\"返回格式规范的描述性名称\"\"\"\n",
    "        long_name = f\"{self.year} {self.make} {self.model}\"\n",
    "        return long_name.title()\n",
    "    \n",
    "    def read_odometer(self):\n",
    "        \"\"\"打印一条消息，指出汽车的行驶里程\"\"\"\n",
    "        print(f\"This car has {self.odometer_reading} miles on it.\")\n",
    "    \n",
    "    def update_odometer(self, mileage):\n",
    "        \"\"\"\n",
    "        将里程表读数设置为指定的值\n",
    "        拒绝将里程表往回调\n",
    "        \"\"\"\n",
    "        if mileage >= 0:  # 确保mileage是正数\n",
    "            if mileage >= self.odometer_reading:\n",
    "                self.odometer_reading = mileage\n",
    "            else:\n",
    "                print(\"You can't roll back an odometer!\")\n",
    "        else:\n",
    "            print(\"Please enter a positive mileage value!\")\n",
    "    \n",
    "    def increment_odometer(self, miles):\n",
    "        \"\"\"让里程表读数增加指定的量\"\"\"\n",
    "        self.odometer_reading += miles\n"
   ]
  },
  {
   "cell_type": "code",
   "execution_count": 44,
   "id": "72554a5c",
   "metadata": {},
   "outputs": [
    {
     "name": "stdout",
     "output_type": "stream",
     "text": [
      "2024 Audi A4\n",
      "This car has 23 miles on it.\n"
     ]
    }
   ],
   "source": [
    "from car import Car\n",
    "my_new_car = Car('audi', 'a4', 2024)\n",
    "print(my_new_car.get_descriptive_name())\n",
    "my_new_car.odometer_reading = 23\n",
    "my_new_car.read_odometer()"
   ]
  },
  {
   "cell_type": "markdown",
   "id": "507b0557",
   "metadata": {},
   "source": [
    "### 9.4.2 在⼀个模块中存储多个类"
   ]
  },
  {
   "cell_type": "code",
   "execution_count": 55,
   "id": "da0bedb4",
   "metadata": {},
   "outputs": [
    {
     "ename": "ImportError",
     "evalue": "cannot import name 'ElectricCar' from 'car' (C:\\Users\\Hazel\\Desktop\\python_work\\car.py)",
     "output_type": "error",
     "traceback": [
      "\u001b[1;31m---------------------------------------------------------------------------\u001b[0m",
      "\u001b[1;31mImportError\u001b[0m                               Traceback (most recent call last)",
      "Cell \u001b[1;32mIn[55], line 68\u001b[0m\n\u001b[0;32m     65\u001b[0m         \u001b[38;5;28msuper\u001b[39m()\u001b[38;5;241m.\u001b[39m\u001b[38;5;21m__init__\u001b[39m(make, model, year)\n\u001b[0;32m     66\u001b[0m         \u001b[38;5;28mself\u001b[39m\u001b[38;5;241m.\u001b[39mbattery \u001b[38;5;241m=\u001b[39m Battery()\n\u001b[1;32m---> 68\u001b[0m \u001b[38;5;28;01mfrom\u001b[39;00m \u001b[38;5;21;01mcar\u001b[39;00m \u001b[38;5;28;01mimport\u001b[39;00m ElectricCar\n\u001b[0;32m     69\u001b[0m my_leaf \u001b[38;5;241m=\u001b[39m ElectricCar(\u001b[38;5;124m'\u001b[39m\u001b[38;5;124mnissan\u001b[39m\u001b[38;5;124m'\u001b[39m, \u001b[38;5;124m'\u001b[39m\u001b[38;5;124mleaf\u001b[39m\u001b[38;5;124m'\u001b[39m, \u001b[38;5;241m2024\u001b[39m)\n\u001b[0;32m     70\u001b[0m \u001b[38;5;28mprint\u001b[39m(my_leaf\u001b[38;5;241m.\u001b[39mget_descriptive_name())\n",
      "\u001b[1;31mImportError\u001b[0m: cannot import name 'ElectricCar' from 'car' (C:\\Users\\Hazel\\Desktop\\python_work\\car.py)"
     ]
    }
   ],
   "source": [
    "\"\"\"一组用于表示燃油汽车和电动汽车的类\"\"\"\n",
    "\n",
    "class Car:\n",
    "    \"\"\"一次模拟汽车的简单尝试\"\"\"\n",
    "    \n",
    "    def __init__(self, make, model, year):\n",
    "        \"\"\"初始化描述汽车的属性\"\"\"\n",
    "        self.make = make\n",
    "        self.model = model\n",
    "        self.year = year\n",
    "        self.odometer_reading = 0\n",
    "    \n",
    "    def get_descriptive_name(self):\n",
    "        \"\"\"返回格式规范的描述性名称\"\"\"\n",
    "        long_name = f\"{self.year} {self.make} {self.model}\"\n",
    "        return long_name.title()\n",
    "    \n",
    "    def read_odometer(self):\n",
    "        \"\"\"打印一条消息，指出汽车的行驶里程\"\"\"\n",
    "        print(f\"This car has {self.odometer_reading} miles on it.\")\n",
    "    \n",
    "    def update_odometer(self, mileage):\n",
    "        \"\"\"\n",
    "        将里程表读数设置为指定的值\n",
    "        拒绝将里程表往回调\n",
    "        \"\"\"\n",
    "        if mileage >= 0:  # 确保mileage是正数\n",
    "            if mileage >= self.odometer_reading:\n",
    "                self.odometer_reading = mileage\n",
    "            else:\n",
    "                print(\"You can't roll back an odometer!\")\n",
    "        else:\n",
    "            print(\"Please enter a positive mileage value!\")\n",
    "    \n",
    "    def increment_odometer(self, miles):\n",
    "        \"\"\"让里程表读数增加指定的量\"\"\"\n",
    "        self.odometer_reading += miles\n",
    "\n",
    "class Battery:\n",
    "    \"\"\"⼀次模拟电动汽⻋电瓶的简单尝试\"\"\"\n",
    "\n",
    "    def __init__(self, battery_size=40):\n",
    "        \"\"\"初始化电池的属性\"\"\"\n",
    "        self.battery_size = battery_size\n",
    "        \n",
    "    def describe_battery(self):\n",
    "        \"\"\"打印⼀条描述电池容量的消息\"\"\"\n",
    "        print(f\"This car has a {self.battery_size}-kWh battery.\")\n",
    "        \n",
    "    def get_range(self):\n",
    "        \"\"\"打印⼀条描述电池续航⾥程的消息\"\"\"\n",
    "        if self.battery_size == 40:\n",
    "            range = 150\n",
    "        elif self.battery_size == 65:\n",
    "            range = 225\n",
    "        print(f\"This car can go about {range} miles on a full charge.\")\n",
    "    \n",
    "class ElectricCar(Car):\n",
    "    \"\"\"模拟电动汽⻋的独特之处\"\"\"\n",
    "    \n",
    "    def __init__(self, make, model, year):\n",
    "        \"\"\"\n",
    "        先初始化⽗类的属性，再初始化电动汽⻋特有的属性\n",
    "        \"\"\"\n",
    "        super().__init__(make, model, year)\n",
    "        self.battery = Battery()\n",
    "\n",
    "from car import ElectricCar\n",
    "my_leaf = ElectricCar('nissan', 'leaf', 2024)\n",
    "print(my_leaf.get_descriptive_name())\n",
    "my_leaf.battery.describe_battery()\n",
    "my_leaf.battery.get_range()"
   ]
  },
  {
   "cell_type": "markdown",
   "id": "03426b79",
   "metadata": {},
   "source": [
    "### 9.4.3 从⼀个模块中导⼊多个类"
   ]
  },
  {
   "cell_type": "code",
   "execution_count": null,
   "id": "31b39139",
   "metadata": {},
   "outputs": [],
   "source": [
    "from car import Car, ElectricCar\n",
    "my_mustang = Car('ford', 'mustang', 2024)\n",
    "print(my_mustang.get_descriptive_name())\n",
    "my_leaf = ElectricCar('nissan', 'leaf', 2024)\n",
    "print(my_leaf.get_descriptive_name())"
   ]
  },
  {
   "cell_type": "markdown",
   "id": "506973fb",
   "metadata": {},
   "source": [
    "### 9.4.4 导⼊整个模块"
   ]
  },
  {
   "cell_type": "code",
   "execution_count": null,
   "id": "b74f387b",
   "metadata": {},
   "outputs": [],
   "source": [
    "import car\n",
    "my_mustang = car.Car('ford', 'mustang', 2024)\n",
    "print(my_mustang.get_descriptive_name())\n",
    "my_leaf = car.ElectricCar('nissan', 'leaf', 2024)\n",
    "print(my_leaf.get_descriptive_name())"
   ]
  },
  {
   "cell_type": "markdown",
   "id": "9887c45e",
   "metadata": {},
   "source": [
    "### 9.4.5 导⼊模块中的所有类"
   ]
  },
  {
   "cell_type": "code",
   "execution_count": null,
   "id": "e50d1376",
   "metadata": {},
   "outputs": [],
   "source": [
    "from module_name import *\n",
    "#不推荐这种导⼊⽅式，原因有⼆。第⼀，最好只需要看⼀下⽂件开头的\n",
    "#import 语句，就能清楚地知道程序使⽤了哪些类。但这种导⼊⽅式没有明\n",
    "#确地指出使⽤了模块中的哪些类。第⼆，这种导⼊⽅式还可能引发名称⽅\n",
    "#⾯的迷惑。如果不⼩⼼导⼊了⼀个与程序⽂件中的其他东⻄同名的类，将\n",
    "#引发难以诊断的错误"
   ]
  },
  {
   "cell_type": "code",
   "execution_count": null,
   "id": "0e47fa55",
   "metadata": {},
   "outputs": [],
   "source": []
  }
 ],
 "metadata": {
  "kernelspec": {
   "display_name": "Python 3 (ipykernel)",
   "language": "python",
   "name": "python3"
  },
  "language_info": {
   "codemirror_mode": {
    "name": "ipython",
    "version": 3
   },
   "file_extension": ".py",
   "mimetype": "text/x-python",
   "name": "python",
   "nbconvert_exporter": "python",
   "pygments_lexer": "ipython3",
   "version": "3.11.5"
  }
 },
 "nbformat": 4,
 "nbformat_minor": 5
}
