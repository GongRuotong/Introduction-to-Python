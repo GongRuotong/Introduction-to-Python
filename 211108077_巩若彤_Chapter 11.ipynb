{
 "cells": [
  {
   "cell_type": "markdown",
   "id": "2eee81a9",
   "metadata": {},
   "source": [
    "# 第 11 章 测试代码"
   ]
  },
  {
   "cell_type": "markdown",
   "id": "be887c6c-1f5a-4feb-af1b-c51d60ff4044",
   "metadata": {},
   "source": [
    "## 11.2 测试函数"
   ]
  },
  {
   "cell_type": "code",
   "execution_count": 1,
   "id": "899ba352",
   "metadata": {},
   "outputs": [],
   "source": [
    "def get_formatted_name(first, last):\n",
    "    \"\"\"⽣成格式规范的姓名\"\"\"\n",
    "    full_name = f\"{first} {last}\"\n",
    "    return full_name.title()"
   ]
  },
  {
   "cell_type": "code",
   "execution_count": 2,
   "id": "263efab5",
   "metadata": {},
   "outputs": [
    {
     "name": "stdout",
     "output_type": "stream",
     "text": [
      "Enter 'q' at any time to quit.\n"
     ]
    },
    {
     "name": "stdin",
     "output_type": "stream",
     "text": [
      "\n",
      "Please give me a first name:  hazelnut\n",
      "Please give me a last name:  巩\n"
     ]
    },
    {
     "name": "stdout",
     "output_type": "stream",
     "text": [
      "\tNeatly formatted name: Hazelnut 巩.\n"
     ]
    },
    {
     "name": "stdin",
     "output_type": "stream",
     "text": [
      "\n",
      "Please give me a first name:  q\n"
     ]
    }
   ],
   "source": [
    "from name_function import get_formatted_name\n",
    "print(\"Enter 'q' at any time to quit.\")\n",
    "while True:\n",
    "    first = input(\"\\nPlease give me a first name: \")\n",
    "    if first == 'q':\n",
    "        break\n",
    "    last = input(\"Please give me a last name: \")\n",
    "    if last == 'q':\n",
    "        break\n",
    "    formatted_name = get_formatted_name(first, last)\n",
    "    print(f\"\\tNeatly formatted name: {formatted_name}.\")"
   ]
  },
  {
   "cell_type": "markdown",
   "id": "66c0198a-e503-4d68-a23b-85e85ec50ddc",
   "metadata": {},
   "source": [
    "### 11.2.1 单元测试和测试⽤例"
   ]
  },
  {
   "cell_type": "code",
   "execution_count": null,
   "id": "7d453fb7-866f-4247-9660-d72fe183d075",
   "metadata": {},
   "outputs": [],
   "source": [
    "#⼀种最简单的测试是单元测试（unit test），⽤于核实函数的某个⽅⾯没有问题。\n",
    "#测试⽤例（test case）是⼀组单元测试，这些单元测试⼀道核实函数在各种情况下的⾏为都符合要求。"
   ]
  },
  {
   "cell_type": "markdown",
   "id": "90b691a2-3411-4589-9f8b-c54f91940084",
   "metadata": {},
   "source": [
    "### 11.2.2 可通过的测试"
   ]
  },
  {
   "cell_type": "code",
   "execution_count": 3,
   "id": "ecd6c826-a0af-4c95-8271-168d1f6a8fa4",
   "metadata": {},
   "outputs": [],
   "source": [
    "from name_function import get_formatted_name\n",
    "def test_first_last_name():\n",
    "    \"\"\"能够正确地处理像 Janis Joplin 这样的姓名吗？\"\"\"\n",
    "    formatted_name = get_formatted_name('janis', 'joplin')\n",
    "    assert formatted_name == 'Janis Joplin'"
   ]
  },
  {
   "cell_type": "markdown",
   "id": "41e331ef-caca-42d8-b5d7-5b9a58d6b41c",
   "metadata": {},
   "source": [
    "### 11.2.3 运⾏测试"
   ]
  },
  {
   "cell_type": "markdown",
   "id": "bbfac4af-f458-4c33-8919-d404dc90abb8",
   "metadata": {},
   "source": [
    "### 11.2.4 未通过的测试"
   ]
  },
  {
   "cell_type": "code",
   "execution_count": 5,
   "id": "0ba6a9ce-6f83-4842-a2c2-e67d598c3761",
   "metadata": {},
   "outputs": [],
   "source": [
    "def get_formatted_name(first, middle, last):\n",
    "    \"\"\"⽣成格式规范的姓名\"\"\"\n",
    "    full_name = f\"{first} {middle} {last}\"\n",
    "    return full_name.title()\n",
    "#但对其进⾏测试时，我们发现它不再能正确地处理只有名和姓的姓名了。"
   ]
  },
  {
   "cell_type": "markdown",
   "id": "00f28048-050c-4fad-80d4-59d5164f4126",
   "metadata": {},
   "source": [
    "### 11.2.5 在测试未通过时怎么办"
   ]
  },
  {
   "cell_type": "code",
   "execution_count": 6,
   "id": "fac0331a-d820-45f7-956b-32957c9d8f67",
   "metadata": {},
   "outputs": [],
   "source": [
    "def get_formatted_name(first, last, middle=''):\n",
    "    \"\"\"⽣成格式规范的姓名\"\"\"\n",
    "    if middle:\n",
    "        full_name = f\"{first} {middle} {last}\"\n",
    "    else:\n",
    "        full_name = f\"{first} {last}\"\n",
    "    return full_name.title()"
   ]
  },
  {
   "cell_type": "markdown",
   "id": "aa859c1d-ee2f-401b-bbf8-dd92d71ae787",
   "metadata": {},
   "source": [
    "### 11.2.6 添加新测试"
   ]
  },
  {
   "cell_type": "code",
   "execution_count": 9,
   "id": "6fbbf5c9-736a-4309-94ae-13e5635016dd",
   "metadata": {},
   "outputs": [],
   "source": [
    "from name_function import get_formatted_name\n",
    "def test_first_last_name():\n",
    "    \"\"\"能够正确地处理像 Janis Joplin 这样的姓名吗？\"\"\"\n",
    "    formatted_name = get_formatted_name('janis', 'joplin')\n",
    "    assert formatted_name == 'Janis Joplin'\n",
    "def test_first_last_middle_name():\n",
    "    \"\"\"能够正确地处理像 Wolfgang Amadeus Mozart 这样的姓名吗？\"\"\"\n",
    "    formatted_name = get_formatted_name(\n",
    "        'wolfgang', 'mozart', 'amadeus')\n",
    "    assert formatted_name == 'Wolfgang Amadeus Mozart'"
   ]
  },
  {
   "cell_type": "markdown",
   "id": "b8bf91b8-e328-4bf1-9303-d81e7843ca7d",
   "metadata": {},
   "source": [
    "### 11.3.2 ⼀个要测试的类"
   ]
  },
  {
   "cell_type": "code",
   "execution_count": null,
   "id": "3c6f15c3-7308-46f3-b1db-ed3c4d954b70",
   "metadata": {},
   "outputs": [],
   "source": [
    "class AnonymousSurvey:\n",
    "    \"\"\"收集匿名调查问卷的答案\"\"\"\n",
    "    def __init__(self, question):\n",
    "        \"\"\"存储⼀个问题，并为存储答案做准备\"\"\"\n",
    "        self.question = question\n",
    "        self.responses = []\n",
    "    def show_question(self):\n",
    "        \"\"\"显⽰调查问卷\"\"\"\n",
    "        print(self.question)\n",
    "    def store_response(self, new_response):\n",
    "        \"\"\"存储单份调查答卷\"\"\"\n",
    "        self.responses.append(new_response)\n",
    "    def show_results(self):\n",
    "        \"\"\"显⽰收集到的所有答卷\"\"\"\n",
    "        print(\"Survey results:\")\n",
    "        for response in self.responses:\n",
    "            print(f\"- {response}\")"
   ]
  },
  {
   "cell_type": "code",
   "execution_count": 14,
   "id": "d066c294-cc3f-4935-8945-a9607e95d756",
   "metadata": {},
   "outputs": [
    {
     "name": "stdout",
     "output_type": "stream",
     "text": [
      "What language did you first learn to speak?\n",
      "Enter 'q' at any time to quit.\n",
      "\n"
     ]
    },
    {
     "name": "stdin",
     "output_type": "stream",
     "text": [
      "Language:  Chinese\n",
      "Language:  q\n"
     ]
    },
    {
     "name": "stdout",
     "output_type": "stream",
     "text": [
      "\n",
      "Thank you to everyone who participated in the survey!\n",
      "Survey results:\n",
      "- Chinese\n"
     ]
    }
   ],
   "source": [
    "from survey import AnonymousSurvey\n",
    "# 定义⼀个问题，并创建⼀个表⽰调查的 AnonymousSurvey 对象\n",
    "question = \"What language did you first learn to speak?\"\n",
    "language_survey = AnonymousSurvey(question)\n",
    "\n",
    "# 显⽰问题并存储答案\n",
    "language_survey.show_question()\n",
    "print(\"Enter 'q' at any time to quit.\\n\")\n",
    "while True:\n",
    "    response = input(\"Language: \")\n",
    "    if response == 'q':\n",
    "        break\n",
    "    language_survey.store_response(response)\n",
    "# 显⽰调查结果\n",
    "print(\"\\nThank you to everyone who participated in the survey!\")\n",
    "language_survey.show_results()"
   ]
  },
  {
   "cell_type": "markdown",
   "id": "e1dcf68d-ca4a-4904-8584-db64f5cd6e7d",
   "metadata": {},
   "source": [
    "### 11.3.3 测试 AnonymousSurvey 类"
   ]
  },
  {
   "cell_type": "code",
   "execution_count": 15,
   "id": "283b69bd-234a-44e7-b5f8-8ae455272443",
   "metadata": {},
   "outputs": [],
   "source": [
    "from survey import AnonymousSurvey\n",
    "def test_store_single_response():\n",
    "    \"\"\"测试单个答案会被妥善地存储\"\"\"\n",
    "    question = \"What language did you first learn to speak?\"\n",
    "    language_survey = AnonymousSurvey(question)\n",
    "    language_survey.store_response('English')\n",
    "    assert 'English' in language_survey.responses"
   ]
  },
  {
   "cell_type": "code",
   "execution_count": 16,
   "id": "be43597f-f203-4bd9-8d4a-ce659034ead9",
   "metadata": {},
   "outputs": [],
   "source": [
    "from survey import AnonymousSurvey\n",
    "def test_store_single_response():\n",
    "    \"\"\"测试单个答案会被妥善地存储\"\"\"\n",
    "    question = \"What language did you first learn to speak?\"\n",
    "    language_survey = AnonymousSurvey(question)\n",
    "    language_survey.store_response('English')\n",
    "    assert 'English' in language_survey.responses\n",
    "def test_store_three_responses():\n",
    "    \"\"\"测试三个答案会被妥善地存储\"\"\"\n",
    "    question = \"What language did you first learn to speak?\"\n",
    "    language_survey = AnonymousSurvey(question)\n",
    "    responses = ['English', 'Spanish', 'Mandarin']\n",
    "    for response in responses:\n",
    "        language_survey.store_response(response)\n",
    "    for response in responses:\n",
    "        assert response in language_survey.responses"
   ]
  },
  {
   "cell_type": "markdown",
   "id": "a1bcaac2-ebf7-4cac-b570-c1fc548b904e",
   "metadata": {},
   "source": [
    "### 11.3.4 使⽤夹具"
   ]
  },
  {
   "cell_type": "code",
   "execution_count": 17,
   "id": "ecab2fcd-616b-4be4-ab5c-8e0e9668012d",
   "metadata": {},
   "outputs": [],
   "source": [
    "import pytest\n",
    "from survey import AnonymousSurvey\n",
    "@pytest.fixture\n",
    "def language_survey():\n",
    "    \"\"\"⼀个可供所有测试函数使⽤的 AnonymousSurvey 实例\"\"\"\n",
    "    question = \"What language did you first learn to speak?\"\n",
    "    language_survey = AnonymousSurvey(question)\n",
    "    return language_survey\n",
    "def test_store_single_response(language_survey):\n",
    "    \"\"\"测试单个答案会被妥善地存储\"\"\"\n",
    "    language_survey.store_response('English')\n",
    "    assert 'English' in language_survey.responses\n",
    "def test_store_three_responses(language_survey):\n",
    "    \"\"\"测试三个答案会被妥善地存储\"\"\"\n",
    "    responses = ['English', 'Spanish', 'Mandarin']\n",
    "    for response in responses:\n",
    "        language_survey.store_response(response)\n",
    "    for response in responses:\n",
    "        assert response in language_survey.responses"
   ]
  },
  {
   "cell_type": "markdown",
   "id": "dc02a046-e609-4e9b-9ae3-08e527006b99",
   "metadata": {},
   "source": [
    "### 练习 11.1 城市和国家"
   ]
  },
  {
   "cell_type": "code",
   "execution_count": 10,
   "id": "990be97c-bf25-4c3f-b77f-e64c0c170588",
   "metadata": {},
   "outputs": [],
   "source": [
    "# File: city_functions.py\n",
    "\n",
    "def city_country(city, country):\n",
    "    \"\"\"\n",
    "    Returns a formatted string of City, Country.\n",
    "    \n",
    "    Args:\n",
    "    city (str): The name of the city.\n",
    "    country (str): The name of the country.\n",
    "    \n",
    "    Returns:\n",
    "    str: A string formatted as 'City, Country'.\n",
    "    \"\"\"\n",
    "    return f\"{city.title()}, {country.title()}\"\n"
   ]
  },
  {
   "cell_type": "code",
   "execution_count": 13,
   "id": "3d1f0c4b-c962-495e-8ae1-3f8e95202f09",
   "metadata": {},
   "outputs": [],
   "source": [
    "# File: test_cities.py\n",
    "\n",
    "import pytest\n",
    "from city_functions import city_country\n",
    "\n",
    "def test_city_country():\n",
    "    \"\"\"Test if city_country returns correctly formatted strings.\"\"\"\n",
    "    # Test with a known city and country\n",
    "    result = city_country('santiago', 'chile')\n",
    "    assert result == 'Santiago, Chile'\n",
    "\n",
    "    # Test with another city and country\n",
    "    result = city_country('new york', 'united states')\n",
    "    assert result == 'New York, United States'\n",
    "\n",
    "    # Test with another city and country\n",
    "    result = city_country('paris', 'france')\n",
    "    assert result == 'Paris, France'"
   ]
  },
  {
   "cell_type": "markdown",
   "id": "80827d23-6ee3-490d-bcdc-56c27fd9d526",
   "metadata": {},
   "source": [
    "### 练习 11.2：⼈⼝数量"
   ]
  },
  {
   "cell_type": "code",
   "execution_count": null,
   "id": "d7e767fa-1d0b-4c10-a26a-00295f759b7f",
   "metadata": {},
   "outputs": [],
   "source": [
    "# File: city_functions.py\n",
    "\n",
    "def city_country(city, country, population=None):\n",
    "    \"\"\"\n",
    "    Returns a formatted string of City, Country with optional population.\n",
    "    \n",
    "    Args:\n",
    "    city (str): The name of the city.\n",
    "    country (str): The name of the country.\n",
    "    population (int, optional): The population of the city. Defaults to None.\n",
    "    \n",
    "    Returns:\n",
    "    str: A string formatted as 'City, Country' or 'City, Country - population xxx'.\n",
    "    \"\"\"\n",
    "    if population:\n",
    "        return f\"{city.title()}, {country.title()} - population {population}\"\n",
    "    else:\n",
    "        return f\"{city.title()}, {country.title()}\"\n"
   ]
  },
  {
   "cell_type": "code",
   "execution_count": null,
   "id": "f70f346c-a172-4e9e-9654-84c22236143e",
   "metadata": {},
   "outputs": [],
   "source": [
    "# File: test_cities.py\n",
    "\n",
    "import pytest\n",
    "from city_functions import city_country\n",
    "\n",
    "def test_city_country():\n",
    "    \"\"\"Test city_country without population.\"\"\"\n",
    "    result = city_country('santiago', 'chile')\n",
    "    assert result == 'Santiago, Chile'\n",
    "\n",
    "    result = city_country('new york', 'united states')\n",
    "    assert result == 'New York, United States'\n",
    "\n",
    "    result = city_country('paris', 'france')\n",
    "    assert result == 'Paris, France'\n",
    "\n",
    "def test_city_country_population():\n",
    "    \"\"\"Test city_country with population.\"\"\"\n",
    "    result = city_country('santiago', 'chile', population=5000000)\n",
    "    assert result == 'Santiago, Chile - population 5000000'\n",
    "\n",
    "    result = city_country('new york', 'united states', population=8419000)\n",
    "    assert result == 'New York, United States - population 8419000'\n",
    "\n",
    "    result = city_country('paris', 'france', population=2148000)\n",
    "    assert result == 'Paris, France - population 2148000'\n"
   ]
  },
  {
   "cell_type": "markdown",
   "id": "a1c80931-ffe3-41da-a2ca-0ce467d5ba77",
   "metadata": {},
   "source": [
    "### 练习 11.3：雇员"
   ]
  },
  {
   "cell_type": "code",
   "execution_count": null,
   "id": "4135e9e7-69a5-4aad-8391-482ce1d0477d",
   "metadata": {},
   "outputs": [],
   "source": [
    "class Employee:\n",
    "    def __init__(self, first_name, last_name, annual_salary):\n",
    "        \"\"\"Initialize an Employee object with first name, last name, and annual salary.\"\"\"\n",
    "        self.first_name = first_name\n",
    "        self.last_name = last_name\n",
    "        self.annual_salary = annual_salary\n",
    "\n",
    "    def give_raise(self, raise_amount=5000):\n",
    "        \"\"\"Increase the annual salary by the given raise amount, default is 5000.\"\"\"\n",
    "        self.annual_salary += raise_amount\n"
   ]
  },
  {
   "cell_type": "code",
   "execution_count": null,
   "id": "ae739d6a-d325-478d-bbf2-577890e0fcdd",
   "metadata": {},
   "outputs": [],
   "source": [
    "import unittest\n",
    "\n",
    "class TestEmployee(unittest.TestCase):\n",
    "\n",
    "    def test_give_default_raise(self):\n",
    "        # Create an Employee object\n",
    "        emp = Employee('John', 'Doe', 50000)\n",
    "        \n",
    "        # Call give_raise with default amount\n",
    "        emp.give_raise()\n",
    "        \n",
    "        # Check if the annual salary is correctly updated\n",
    "        self.assertEqual(emp.annual_salary, 55000)\n",
    "\n",
    "    def test_give_custom_raise(self):\n",
    "        # Create an Employee object\n",
    "        emp = Employee('Jane', 'Doe', 60000)\n",
    "        \n",
    "        # Call give_raise with a custom raise amount\n",
    "        emp.give_raise(10000)\n",
    "        \n",
    "        # Check if the annual salary is correctly updated\n",
    "        self.assertEqual(emp.annual_salary, 70000)\n",
    "\n",
    "if __name__ == '__main__':\n",
    "    unittest.main()\n"
   ]
  },
  {
   "cell_type": "code",
   "execution_count": null,
   "id": "2b2bf9f4-ca0b-47c8-a9e5-8ba8d59f7738",
   "metadata": {},
   "outputs": [],
   "source": [
    "import unittest\n",
    "\n",
    "class TestEmployee(unittest.TestCase):\n",
    "\n",
    "    def setUp(self):\n",
    "        \"\"\"Create an Employee object for use in all test methods.\"\"\"\n",
    "        self.emp = Employee('John', 'Doe', 50000)\n",
    "\n",
    "    def test_give_default_raise(self):\n",
    "        # Call give_raise with default amount\n",
    "        self.emp.give_raise()\n",
    "        \n",
    "        # Check if the annual salary is correctly updated\n",
    "        self.assertEqual(self.emp.annual_salary, 55000)\n",
    "\n",
    "    def test_give_custom_raise(self):\n",
    "        # Call give_raise with a custom raise amount\n",
    "        self.emp.give_raise(10000)\n",
    "        \n",
    "        # Check if the annual salary is correctly updated\n",
    "        self.assertEqual(self.emp.annual_salary, 60000)\n",
    "\n",
    "if __name__ == '__main__':\n",
    "    unittest.main()\n"
   ]
  }
 ],
 "metadata": {
  "kernelspec": {
   "display_name": "Python 3 (ipykernel)",
   "language": "python",
   "name": "python3"
  },
  "language_info": {
   "codemirror_mode": {
    "name": "ipython",
    "version": 3
   },
   "file_extension": ".py",
   "mimetype": "text/x-python",
   "name": "python",
   "nbconvert_exporter": "python",
   "pygments_lexer": "ipython3",
   "version": "3.12.2"
  }
 },
 "nbformat": 4,
 "nbformat_minor": 5
}
